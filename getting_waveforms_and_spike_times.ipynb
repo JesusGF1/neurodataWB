{
 "cells": [
  {
   "cell_type": "markdown",
   "id": "4af47151",
   "metadata": {
    "papermill": {
     "duration": 0.007349,
     "end_time": "2023-11-30T06:23:22.921624",
     "exception": false,
     "start_time": "2023-11-30T06:23:22.914275",
     "status": "completed"
    },
    "pycharm": {
     "name": "#%% md\n"
    },
    "tags": []
   },
   "source": [
    "# Accessing Neuropixels Visual Coding Data\n",
    "\n",
    "## Tutorial overview\n",
    "\n",
    "This Jupyter notebook covers the various methods for accessing the Allen Institute Neuropixels Visual Coding dataset. We will go over how to request data, where it's stored, and what the various files contain.  If you're having trouble downloading the data, or you just want to know more about what's going on under the hood, this is a good place to start.\n",
    "\n",
    "Currently, we do not have a web interface for browsing through the available cells and experiments, as with the [two-photon imaging Visual Coding dataset](http://observatory.brain-map.org/visualcoding). Instead, the data must be retrieved through the AllenSDK (Python 3.6+), or via requests sent to [api.brain-map.org](http://mouse.brain-map.org/static/api).\n",
    "\n",
    "Functions related to data analysis will be covered in other tutorials. For a full list of available tutorials, see the [SDK documentation](https://allensdk.readthedocs.io/en/latest/visual_coding_neuropixels.html).\n",
    "\n",
    "## Options for data access\n",
    "\n",
    "The **`EcephysProjectCache` object of the AllenSDK** is the easiest way to interact with the data. This object abstracts away the details of on-disk file storage, and delivers the data to you as ready-to-analyze Python objects. The cache will automatically keep track of which files are stored locally, and will download additional files on an as-needed basis. Usually you won't need to worry about how these files are structured, but this tutorial will cover those details in case you want to analyze them without using the AllenSDK (e.g., in Matlab). This tutorial begins with <a href='#Using-the-AllenSDK-to-retrieve-data'>an introduction to this approach</a>.\n",
    "\n",
    "If you have an **Amazon Web Services (AWS)** account, you can use an `EcephysProjectCache` object to access the data via the Allen Brain Observatory Simple Storage Service (S3) bucket. This is an AWS Public Dataset located at `arn:aws:s3:::allen-brain-observatory` in region `us-west-2`. Launching a Jupyter notebook instance on AWS will allow you to access the complete dataset without having to download anything locally. This includes around 80 TB of raw data files, which are not accessible via the AllenSDK. The only drawback is that you'll need to pay for the time that your instance is running—but this can still be economical in many cases. A brief overview of this approach can be found <a href='#Accessing-data-on-AWS'>below</a>.\n",
    "\n",
    "A third option is to directly download the data via **api.brain-map.org**. This should be used only as a last resort if the other options are broken or are not available to you. Instructions for this can be found <a href='#Direct-download-via-api.brain-map.org'>at the end of this tutorial</a>."
   ]
  },
  {
   "cell_type": "markdown",
   "id": "87a7f7a8",
   "metadata": {
    "papermill": {
     "duration": 0.006367,
     "end_time": "2023-11-30T06:23:22.934556",
     "exception": false,
     "start_time": "2023-11-30T06:23:22.928189",
     "status": "completed"
    },
    "pycharm": {
     "name": "#%% md\n"
    },
    "tags": []
   },
   "source": [
    "## Using the AllenSDK to retrieve data"
   ]
  },
  {
   "cell_type": "markdown",
   "id": "fa74e2be",
   "metadata": {
    "papermill": {
     "duration": 0.006475,
     "end_time": "2023-11-30T06:23:22.947343",
     "exception": false,
     "start_time": "2023-11-30T06:23:22.940868",
     "status": "completed"
    },
    "pycharm": {
     "name": "#%% md\n"
    },
    "tags": []
   },
   "source": [
    "Most users will want to access data via the AllenSDK. This requires nothing more than a Python interpreter and some free disk space to store the data locally.\n",
    "\n",
    "How much data is there? If you want to download the complete dataset (58 experiments), you'll need 855 GB of space, split across the following files:\n",
    "\n",
    "1. CSV files containing information about sessions, probes, channels and units (58.1 MB)\n",
    "2. NWB files containing spike times, behavior data, and stimulus information for each session (146.5 GB total, min file size = 1.7 GB, max file size = 3.3 GB)\n",
    "3. NWB files containing LFP data for each probe (707 GB total, min file size = 0.9 GB, max file size = 2.7 GB)\n",
    "\n",
    "Before downloading the data, you must decide where the `manifest.json` file lives. This file serves as the map that guides the `EcephysProjectCache` object to the file locations.\n",
    "\n",
    "When you initialize a local cache for the first time, it will create the manifest file at the path that you specify. This file lives in the same directory as the rest of the data, so make sure you put it somewhere that has enough space available. \n",
    "\n",
    "When you need to access the data in subsequent analysis sessions, you should point the `EcephysProjectCache` object to an _existing_ `manifest.json` file; otherwise, it will try to re-download the data in a new location.\n",
    "\n",
    "To get started with this approach, first take care of the necessary imports:"
   ]
  },
  {
   "cell_type": "code",
   "execution_count": 1,
   "id": "8c3fba2b",
   "metadata": {
    "execution": {
     "iopub.execute_input": "2023-11-30T06:23:22.961105Z",
     "iopub.status.busy": "2023-11-30T06:23:22.960880Z",
     "iopub.status.idle": "2023-11-30T06:23:27.168628Z",
     "shell.execute_reply": "2023-11-30T06:23:27.167977Z"
    },
    "papermill": {
     "duration": 4.216733,
     "end_time": "2023-11-30T06:23:27.170380",
     "exception": false,
     "start_time": "2023-11-30T06:23:22.953647",
     "status": "completed"
    },
    "pycharm": {
     "name": "#%%\n"
    },
    "tags": []
   },
   "outputs": [
    {
     "name": "stderr",
     "output_type": "stream",
     "text": [
      "/opt/conda/envs/allensdk/lib/python3.8/site-packages/tqdm/auto.py:21: TqdmWarning: IProgress not found. Please update jupyter and ipywidgets. See https://ipywidgets.readthedocs.io/en/stable/user_install.html\n",
      "  from .autonotebook import tqdm as notebook_tqdm\n"
     ]
    }
   ],
   "source": [
    "import os\n",
    "import shutil\n",
    "import numpy as np\n",
    "import pandas as pd\n",
    "from pathlib import Path\n",
    "import matplotlib.pyplot as plt\n",
    "from allensdk.brain_observatory.ecephys.ecephys_project_cache import EcephysProjectCache"
   ]
  },
  {
   "cell_type": "markdown",
   "id": "9fe3b5b5",
   "metadata": {
    "papermill": {
     "duration": 0.006475,
     "end_time": "2023-11-30T06:23:27.183824",
     "exception": false,
     "start_time": "2023-11-30T06:23:27.177349",
     "status": "completed"
    },
    "pycharm": {
     "name": "#%% md\n"
    },
    "tags": []
   },
   "source": [
    "Next, we'll specify the location of the manifest file. If you're creating a cache for the first time, this file won't exist yet, but it _must_ be placed in an existing data directory. Remember to choose a location that has plenty of free space available."
   ]
  },
  {
   "cell_type": "code",
   "execution_count": 2,
   "id": "ed4b9fe8",
   "metadata": {
    "execution": {
     "iopub.execute_input": "2023-11-30T06:23:27.198375Z",
     "iopub.status.busy": "2023-11-30T06:23:27.197665Z",
     "iopub.status.idle": "2023-11-30T06:23:27.201149Z",
     "shell.execute_reply": "2023-11-30T06:23:27.200579Z"
    },
    "papermill": {
     "duration": 0.012164,
     "end_time": "2023-11-30T06:23:27.202538",
     "exception": false,
     "start_time": "2023-11-30T06:23:27.190374",
     "status": "completed"
    },
    "pycharm": {
     "name": "#%%\n"
    },
    "tags": [
     "parameters"
    ]
   },
   "outputs": [],
   "source": [
    "output_dir = './local1/ecephys_cache_dir' # must be updated to a valid directory in your filesystem\n",
    "DOWNLOAD_COMPLETE_DATASET = True"
   ]
  },
  {
   "cell_type": "code",
   "execution_count": 3,
   "id": "00bd7b08",
   "metadata": {
    "execution": {
     "iopub.execute_input": "2023-11-30T06:23:27.235066Z",
     "iopub.status.busy": "2023-11-30T06:23:27.234690Z",
     "iopub.status.idle": "2023-11-30T06:23:27.237624Z",
     "shell.execute_reply": "2023-11-30T06:23:27.237062Z"
    },
    "papermill": {
     "duration": 0.011422,
     "end_time": "2023-11-30T06:23:27.238949",
     "exception": false,
     "start_time": "2023-11-30T06:23:27.227527",
     "status": "completed"
    },
    "pycharm": {
     "name": "#%%\n"
    },
    "tags": []
   },
   "outputs": [],
   "source": [
    "manifest_path = os.path.join(output_dir, \"manifest.json\")"
   ]
  },
  {
   "cell_type": "markdown",
   "id": "805ed1fa",
   "metadata": {
    "papermill": {
     "duration": 0.006453,
     "end_time": "2023-11-30T06:23:27.251971",
     "exception": false,
     "start_time": "2023-11-30T06:23:27.245518",
     "status": "completed"
    },
    "pycharm": {
     "name": "#%% md\n"
    },
    "tags": []
   },
   "source": [
    "Now we can create the cache object, specifying both the local storage directory (the `manifest_path`) and the remote storage location (the Allen Institute data warehouse)."
   ]
  },
  {
   "cell_type": "code",
   "execution_count": 4,
   "id": "205cd199",
   "metadata": {
    "execution": {
     "iopub.execute_input": "2023-11-30T06:23:27.266056Z",
     "iopub.status.busy": "2023-11-30T06:23:27.265647Z",
     "iopub.status.idle": "2023-11-30T06:23:27.269325Z",
     "shell.execute_reply": "2023-11-30T06:23:27.268708Z"
    },
    "papermill": {
     "duration": 0.012288,
     "end_time": "2023-11-30T06:23:27.270770",
     "exception": false,
     "start_time": "2023-11-30T06:23:27.258482",
     "status": "completed"
    },
    "pycharm": {
     "name": "#%%\n"
    },
    "tags": []
   },
   "outputs": [],
   "source": [
    "cache = EcephysProjectCache.from_warehouse(manifest=manifest_path)"
   ]
  },
  {
   "cell_type": "markdown",
   "id": "08bca1f1",
   "metadata": {
    "papermill": {
     "duration": 0.006512,
     "end_time": "2023-11-30T06:23:27.283867",
     "exception": false,
     "start_time": "2023-11-30T06:23:27.277355",
     "status": "completed"
    },
    "pycharm": {
     "name": "#%% md\n"
    },
    "tags": []
   },
   "source": [
    "This will prepare the cache to download four files:\n",
    "\n",
    "1. `sessions.csv` (7.8 kB)\n",
    "2. `probes.csv` (27.0 kB)\n",
    "3. `channels.csv` (6.6 MB)\n",
    "4. `units.csv` (51.4 MB)\n",
    "\n",
    "Each one contains a table of information related to its file name. If you're using the AllenSDK, you won't have to worry about how these files are formatted. Instead, you'll load the relevant data using specific accessor functions: `get_session_table()`, `get_probes()`, `get_channels()`, and `get_units()`. These functions return a [pandas DataFrame](https://pandas.pydata.org/pandas-docs/stable/reference/frame.html?highlight=dataframe) containing a row for each item and a column for each metric.\n",
    "\n",
    "If you are analyzing data without using the AllenSDK, you can load the data using your CSV file reader of choice. However, please be aware the columns in the original file do not necessarily match what's returned by the AllenSDK, which may combine information from multiple files to produce the final DataFrame.\n",
    "\n",
    "Let's take a closer look at what's in the `sessions.csv` file:"
   ]
  },
  {
   "cell_type": "code",
   "execution_count": 5,
   "id": "51c27283",
   "metadata": {
    "execution": {
     "iopub.execute_input": "2023-11-30T06:23:27.297906Z",
     "iopub.status.busy": "2023-11-30T06:23:27.297515Z",
     "iopub.status.idle": "2023-11-30T06:27:16.881043Z",
     "shell.execute_reply": "2023-11-30T06:27:16.880287Z"
    },
    "papermill": {
     "duration": 229.59866,
     "end_time": "2023-11-30T06:27:16.889009",
     "exception": false,
     "start_time": "2023-11-30T06:23:27.290349",
     "status": "completed"
    },
    "pycharm": {
     "name": "#%%\n"
    },
    "tags": []
   },
   "outputs": [
    {
     "name": "stdout",
     "output_type": "stream",
     "text": [
      "Total number of sessions: 58\n"
     ]
    },
    {
     "data": {
      "text/html": [
       "<div>\n",
       "<style scoped>\n",
       "    .dataframe tbody tr th:only-of-type {\n",
       "        vertical-align: middle;\n",
       "    }\n",
       "\n",
       "    .dataframe tbody tr th {\n",
       "        vertical-align: top;\n",
       "    }\n",
       "\n",
       "    .dataframe thead th {\n",
       "        text-align: right;\n",
       "    }\n",
       "</style>\n",
       "<table border=\"1\" class=\"dataframe\">\n",
       "  <thead>\n",
       "    <tr style=\"text-align: right;\">\n",
       "      <th></th>\n",
       "      <th>published_at</th>\n",
       "      <th>specimen_id</th>\n",
       "      <th>session_type</th>\n",
       "      <th>age_in_days</th>\n",
       "      <th>sex</th>\n",
       "      <th>full_genotype</th>\n",
       "      <th>unit_count</th>\n",
       "      <th>channel_count</th>\n",
       "      <th>probe_count</th>\n",
       "      <th>ecephys_structure_acronyms</th>\n",
       "    </tr>\n",
       "    <tr>\n",
       "      <th>id</th>\n",
       "      <th></th>\n",
       "      <th></th>\n",
       "      <th></th>\n",
       "      <th></th>\n",
       "      <th></th>\n",
       "      <th></th>\n",
       "      <th></th>\n",
       "      <th></th>\n",
       "      <th></th>\n",
       "      <th></th>\n",
       "    </tr>\n",
       "  </thead>\n",
       "  <tbody>\n",
       "    <tr>\n",
       "      <th>715093703</th>\n",
       "      <td>2019-10-03T00:00:00Z</td>\n",
       "      <td>699733581</td>\n",
       "      <td>brain_observatory_1.1</td>\n",
       "      <td>118.0</td>\n",
       "      <td>M</td>\n",
       "      <td>Sst-IRES-Cre/wt;Ai32(RCL-ChR2(H134R)_EYFP)/wt</td>\n",
       "      <td>884</td>\n",
       "      <td>2219</td>\n",
       "      <td>6</td>\n",
       "      <td>[CA1, VISrl, nan, PO, LP, LGd, CA3, DG, VISl, ...</td>\n",
       "    </tr>\n",
       "    <tr>\n",
       "      <th>719161530</th>\n",
       "      <td>2019-10-03T00:00:00Z</td>\n",
       "      <td>703279284</td>\n",
       "      <td>brain_observatory_1.1</td>\n",
       "      <td>122.0</td>\n",
       "      <td>M</td>\n",
       "      <td>Sst-IRES-Cre/wt;Ai32(RCL-ChR2(H134R)_EYFP)/wt</td>\n",
       "      <td>755</td>\n",
       "      <td>2214</td>\n",
       "      <td>6</td>\n",
       "      <td>[TH, Eth, APN, POL, LP, DG, CA1, VISpm, nan, N...</td>\n",
       "    </tr>\n",
       "    <tr>\n",
       "      <th>721123822</th>\n",
       "      <td>2019-10-03T00:00:00Z</td>\n",
       "      <td>707296982</td>\n",
       "      <td>brain_observatory_1.1</td>\n",
       "      <td>125.0</td>\n",
       "      <td>M</td>\n",
       "      <td>Pvalb-IRES-Cre/wt;Ai32(RCL-ChR2(H134R)_EYFP)/wt</td>\n",
       "      <td>444</td>\n",
       "      <td>2229</td>\n",
       "      <td>6</td>\n",
       "      <td>[MB, SCig, PPT, NOT, DG, CA1, VISam, nan, LP, ...</td>\n",
       "    </tr>\n",
       "    <tr>\n",
       "      <th>732592105</th>\n",
       "      <td>2019-10-03T00:00:00Z</td>\n",
       "      <td>717038288</td>\n",
       "      <td>brain_observatory_1.1</td>\n",
       "      <td>100.0</td>\n",
       "      <td>M</td>\n",
       "      <td>wt/wt</td>\n",
       "      <td>824</td>\n",
       "      <td>1847</td>\n",
       "      <td>5</td>\n",
       "      <td>[grey, VISpm, nan, VISp, VISl, VISal, VISrl]</td>\n",
       "    </tr>\n",
       "    <tr>\n",
       "      <th>737581020</th>\n",
       "      <td>2019-10-03T00:00:00Z</td>\n",
       "      <td>718643567</td>\n",
       "      <td>brain_observatory_1.1</td>\n",
       "      <td>108.0</td>\n",
       "      <td>M</td>\n",
       "      <td>wt/wt</td>\n",
       "      <td>568</td>\n",
       "      <td>2218</td>\n",
       "      <td>6</td>\n",
       "      <td>[grey, VISmma, nan, VISpm, VISp, VISl, VISrl]</td>\n",
       "    </tr>\n",
       "  </tbody>\n",
       "</table>\n",
       "</div>"
      ],
      "text/plain": [
       "                   published_at  specimen_id           session_type  \\\n",
       "id                                                                    \n",
       "715093703  2019-10-03T00:00:00Z    699733581  brain_observatory_1.1   \n",
       "719161530  2019-10-03T00:00:00Z    703279284  brain_observatory_1.1   \n",
       "721123822  2019-10-03T00:00:00Z    707296982  brain_observatory_1.1   \n",
       "732592105  2019-10-03T00:00:00Z    717038288  brain_observatory_1.1   \n",
       "737581020  2019-10-03T00:00:00Z    718643567  brain_observatory_1.1   \n",
       "\n",
       "           age_in_days sex                                    full_genotype  \\\n",
       "id                                                                            \n",
       "715093703        118.0   M    Sst-IRES-Cre/wt;Ai32(RCL-ChR2(H134R)_EYFP)/wt   \n",
       "719161530        122.0   M    Sst-IRES-Cre/wt;Ai32(RCL-ChR2(H134R)_EYFP)/wt   \n",
       "721123822        125.0   M  Pvalb-IRES-Cre/wt;Ai32(RCL-ChR2(H134R)_EYFP)/wt   \n",
       "732592105        100.0   M                                            wt/wt   \n",
       "737581020        108.0   M                                            wt/wt   \n",
       "\n",
       "           unit_count  channel_count  probe_count  \\\n",
       "id                                                  \n",
       "715093703         884           2219            6   \n",
       "719161530         755           2214            6   \n",
       "721123822         444           2229            6   \n",
       "732592105         824           1847            5   \n",
       "737581020         568           2218            6   \n",
       "\n",
       "                                  ecephys_structure_acronyms  \n",
       "id                                                            \n",
       "715093703  [CA1, VISrl, nan, PO, LP, LGd, CA3, DG, VISl, ...  \n",
       "719161530  [TH, Eth, APN, POL, LP, DG, CA1, VISpm, nan, N...  \n",
       "721123822  [MB, SCig, PPT, NOT, DG, CA1, VISam, nan, LP, ...  \n",
       "732592105       [grey, VISpm, nan, VISp, VISl, VISal, VISrl]  \n",
       "737581020      [grey, VISmma, nan, VISpm, VISp, VISl, VISrl]  "
      ]
     },
     "execution_count": 5,
     "metadata": {},
     "output_type": "execute_result"
    }
   ],
   "source": [
    "sessions = cache.get_session_table()\n",
    "\n",
    "print('Total number of sessions: ' + str(len(sessions)))\n",
    "\n",
    "sessions.head()"
   ]
  },
  {
   "cell_type": "markdown",
   "id": "59727a12",
   "metadata": {
    "papermill": {
     "duration": 0.006816,
     "end_time": "2023-11-30T06:27:16.902711",
     "exception": false,
     "start_time": "2023-11-30T06:27:16.895895",
     "status": "completed"
    },
    "pycharm": {
     "name": "#%% md\n"
    },
    "tags": []
   },
   "source": [
    "The `sessions` DataFrame provides a high-level overview of the Neuropixels Visual Coding dataset. The index column is a unique ID, which serves as a key for accessing the physiology data for each session. The other columns contain information about:\n",
    "\n",
    "- the session type (i.e., which stimulus set was shown?)\n",
    "- the age, sex, and genotype of the mouse (in this dataset, there's only one session per mouse)\n",
    "- the number of probes, channels, and units for each session\n",
    "- the brain structures recorded (CCFv3 acronyms)\n",
    "\n",
    "If we want to find all of recordings from male Sst-Cre mice that viewed the Brain Observatory 1.1 stimulus and contain units from area LM, we can use the following query:"
   ]
  },
  {
   "cell_type": "code",
   "execution_count": 6,
   "id": "5cd29a20",
   "metadata": {
    "execution": {
     "iopub.execute_input": "2023-11-30T06:27:16.917345Z",
     "iopub.status.busy": "2023-11-30T06:27:16.916907Z",
     "iopub.status.idle": "2023-11-30T06:27:16.929159Z",
     "shell.execute_reply": "2023-11-30T06:27:16.928601Z"
    },
    "papermill": {
     "duration": 0.021114,
     "end_time": "2023-11-30T06:27:16.930525",
     "exception": false,
     "start_time": "2023-11-30T06:27:16.909411",
     "status": "completed"
    },
    "pycharm": {
     "name": "#%%\n"
    },
    "tags": []
   },
   "outputs": [
    {
     "data": {
      "text/html": [
       "<div>\n",
       "<style scoped>\n",
       "    .dataframe tbody tr th:only-of-type {\n",
       "        vertical-align: middle;\n",
       "    }\n",
       "\n",
       "    .dataframe tbody tr th {\n",
       "        vertical-align: top;\n",
       "    }\n",
       "\n",
       "    .dataframe thead th {\n",
       "        text-align: right;\n",
       "    }\n",
       "</style>\n",
       "<table border=\"1\" class=\"dataframe\">\n",
       "  <thead>\n",
       "    <tr style=\"text-align: right;\">\n",
       "      <th></th>\n",
       "      <th>published_at</th>\n",
       "      <th>specimen_id</th>\n",
       "      <th>session_type</th>\n",
       "      <th>age_in_days</th>\n",
       "      <th>sex</th>\n",
       "      <th>full_genotype</th>\n",
       "      <th>unit_count</th>\n",
       "      <th>channel_count</th>\n",
       "      <th>probe_count</th>\n",
       "      <th>ecephys_structure_acronyms</th>\n",
       "    </tr>\n",
       "    <tr>\n",
       "      <th>id</th>\n",
       "      <th></th>\n",
       "      <th></th>\n",
       "      <th></th>\n",
       "      <th></th>\n",
       "      <th></th>\n",
       "      <th></th>\n",
       "      <th></th>\n",
       "      <th></th>\n",
       "      <th></th>\n",
       "      <th></th>\n",
       "    </tr>\n",
       "  </thead>\n",
       "  <tbody>\n",
       "    <tr>\n",
       "      <th>715093703</th>\n",
       "      <td>2019-10-03T00:00:00Z</td>\n",
       "      <td>699733581</td>\n",
       "      <td>brain_observatory_1.1</td>\n",
       "      <td>118.0</td>\n",
       "      <td>M</td>\n",
       "      <td>Sst-IRES-Cre/wt;Ai32(RCL-ChR2(H134R)_EYFP)/wt</td>\n",
       "      <td>884</td>\n",
       "      <td>2219</td>\n",
       "      <td>6</td>\n",
       "      <td>[CA1, VISrl, nan, PO, LP, LGd, CA3, DG, VISl, ...</td>\n",
       "    </tr>\n",
       "    <tr>\n",
       "      <th>719161530</th>\n",
       "      <td>2019-10-03T00:00:00Z</td>\n",
       "      <td>703279284</td>\n",
       "      <td>brain_observatory_1.1</td>\n",
       "      <td>122.0</td>\n",
       "      <td>M</td>\n",
       "      <td>Sst-IRES-Cre/wt;Ai32(RCL-ChR2(H134R)_EYFP)/wt</td>\n",
       "      <td>755</td>\n",
       "      <td>2214</td>\n",
       "      <td>6</td>\n",
       "      <td>[TH, Eth, APN, POL, LP, DG, CA1, VISpm, nan, N...</td>\n",
       "    </tr>\n",
       "    <tr>\n",
       "      <th>756029989</th>\n",
       "      <td>2019-10-03T00:00:00Z</td>\n",
       "      <td>734865738</td>\n",
       "      <td>brain_observatory_1.1</td>\n",
       "      <td>96.0</td>\n",
       "      <td>M</td>\n",
       "      <td>Sst-IRES-Cre/wt;Ai32(RCL-ChR2(H134R)_EYFP)/wt</td>\n",
       "      <td>684</td>\n",
       "      <td>2214</td>\n",
       "      <td>6</td>\n",
       "      <td>[TH, DG, CA3, CA1, VISl, nan, PO, Eth, LP, VIS...</td>\n",
       "    </tr>\n",
       "  </tbody>\n",
       "</table>\n",
       "</div>"
      ],
      "text/plain": [
       "                   published_at  specimen_id           session_type  \\\n",
       "id                                                                    \n",
       "715093703  2019-10-03T00:00:00Z    699733581  brain_observatory_1.1   \n",
       "719161530  2019-10-03T00:00:00Z    703279284  brain_observatory_1.1   \n",
       "756029989  2019-10-03T00:00:00Z    734865738  brain_observatory_1.1   \n",
       "\n",
       "           age_in_days sex                                  full_genotype  \\\n",
       "id                                                                          \n",
       "715093703        118.0   M  Sst-IRES-Cre/wt;Ai32(RCL-ChR2(H134R)_EYFP)/wt   \n",
       "719161530        122.0   M  Sst-IRES-Cre/wt;Ai32(RCL-ChR2(H134R)_EYFP)/wt   \n",
       "756029989         96.0   M  Sst-IRES-Cre/wt;Ai32(RCL-ChR2(H134R)_EYFP)/wt   \n",
       "\n",
       "           unit_count  channel_count  probe_count  \\\n",
       "id                                                  \n",
       "715093703         884           2219            6   \n",
       "719161530         755           2214            6   \n",
       "756029989         684           2214            6   \n",
       "\n",
       "                                  ecephys_structure_acronyms  \n",
       "id                                                            \n",
       "715093703  [CA1, VISrl, nan, PO, LP, LGd, CA3, DG, VISl, ...  \n",
       "719161530  [TH, Eth, APN, POL, LP, DG, CA1, VISpm, nan, N...  \n",
       "756029989  [TH, DG, CA3, CA1, VISl, nan, PO, Eth, LP, VIS...  "
      ]
     },
     "execution_count": 6,
     "metadata": {},
     "output_type": "execute_result"
    }
   ],
   "source": [
    "filtered_sessions = sessions[(sessions.sex == 'M') & \\\n",
    "                             (sessions.full_genotype.str.find('Sst') > -1) & \\\n",
    "                             (sessions.session_type == 'brain_observatory_1.1') & \\\n",
    "                             (['VISl' in acronyms for acronyms in \n",
    "                               sessions.ecephys_structure_acronyms])]\n",
    "\n",
    "filtered_sessions.head()"
   ]
  },
  {
   "cell_type": "markdown",
   "id": "b3fccb38",
   "metadata": {
    "papermill": {
     "duration": 0.006943,
     "end_time": "2023-11-30T06:27:16.944460",
     "exception": false,
     "start_time": "2023-11-30T06:27:16.937517",
     "status": "completed"
    },
    "pycharm": {
     "name": "#%% md\n"
    },
    "tags": []
   },
   "source": [
    "The `filtered_sessions` table contains the three sessions that meet these criteria.\n",
    "\n",
    "The code above uses standard syntax for filtering pandas DataFrames. If this is unfamiliar to you, we strongly recommend reading through the [pandas documentation](https://pandas.pydata.org/pandas-docs/stable/). The AllenSDK makes heavy use of pandas objects, so we don't have to come up with our own functions for working with tabular data.\n",
    "\n",
    "Let's take a look at another DataFrame, extracted from the `probes.csv` file."
   ]
  },
  {
   "cell_type": "markdown",
   "id": "d8375233",
   "metadata": {
    "papermill": {
     "duration": 0.037424,
     "end_time": "2023-11-30T06:30:24.590113",
     "exception": false,
     "start_time": "2023-11-30T06:30:24.552689",
     "status": "completed"
    },
    "pycharm": {
     "name": "#%% md\n"
    },
    "tags": []
   },
   "source": [
    "### Accessing data for individual sessions\n",
    "\n",
    "Assuming you've found a session you're interested in analyzing in more detail, it's now time to download the data. This is as simple as calling `cache.get_session_data()`, with the `session_id` as input. This method will check the cache for an existing NWB file and, if it's not present, will automatically download it for you.\n",
    "\n",
    "Each NWB file can be upwards of 2 GB, so please be patient while it's downloading!\n",
    "\n",
    "As an example, let's look at one of the sessions we selected earlier, disabling the default unit quality metrics filters:"
   ]
  },
  {
   "cell_type": "code",
   "execution_count": 32,
   "id": "681dff74",
   "metadata": {
    "execution": {
     "iopub.execute_input": "2023-11-30T06:30:24.606893Z",
     "iopub.status.busy": "2023-11-30T06:30:24.606379Z",
     "iopub.status.idle": "2023-11-30T06:33:59.680510Z",
     "shell.execute_reply": "2023-11-30T06:33:59.679943Z"
    },
    "papermill": {
     "duration": 215.084249,
     "end_time": "2023-11-30T06:33:59.681957",
     "exception": false,
     "start_time": "2023-11-30T06:30:24.597708",
     "status": "completed"
    },
    "pycharm": {
     "name": "#%%\n"
    },
    "tags": []
   },
   "outputs": [
    {
     "name": "stderr",
     "output_type": "stream",
     "text": [
      "WARNING:root:downloading a 2461.626MiB file from http://api.brain-map.org//api/v2/well_known_file_download/1026124216\n",
      "Downloading: 100%|██████████| 2.58G/2.58G [01:39<00:00, 26.0MB/s]\n",
      "/opt/conda/envs/allensdk/lib/python3.8/site-packages/hdmf/spec/namespace.py:535: UserWarning: Ignoring cached namespace 'hdmf-common' version 1.1.3 because version 1.8.0 is already loaded.\n",
      "  warn(\"Ignoring cached namespace '%s' version %s because version %s is already loaded.\"\n",
      "/opt/conda/envs/allensdk/lib/python3.8/site-packages/hdmf/spec/namespace.py:535: UserWarning: Ignoring cached namespace 'core' version 2.2.2 because version 2.7.0 is already loaded.\n",
      "  warn(\"Ignoring cached namespace '%s' version %s because version %s is already loaded.\"\n"
     ]
    },
    {
     "name": "stdout",
     "output_type": "stream",
     "text": [
      "['DETAILED_STIMULUS_PARAMETERS', 'LazyProperty', 'age_in_days', 'api', 'channel_structure_intervals', 'channels', 'conditionwise_spike_statistics', 'ecephys_session_id', 'from_nwb_path', 'full_genotype', 'get_current_source_density', 'get_inter_presentation_intervals_for_stimulus', 'get_invalid_times', 'get_lfp', 'get_parameter_values_for_stimulus', 'get_pupil_data', 'get_screen_gaze_data', 'get_stimulus_epochs', 'get_stimulus_parameter_values', 'get_stimulus_table', 'inter_presentation_intervals', 'invalid_times', 'mean_waveforms', 'metadata', 'num_channels', 'num_probes', 'num_stimulus_presentations', 'num_units', 'optogenetic_stimulation_epochs', 'presentationwise_spike_counts', 'presentationwise_spike_times', 'probes', 'rig_equipment_name', 'rig_geometry_data', 'running_speed', 'session_start_time', 'session_type', 'sex', 'specimen_name', 'spike_amplitudes', 'spike_times', 'stimulus_conditions', 'stimulus_names', 'stimulus_presentations', 'structure_acronyms', 'structurewise_unit_counts', 'units']\n"
     ]
    }
   ],
   "source": [
    "session = cache.get_session_data(filtered_sessions.index.values[2],\n",
    "                                 isi_violations_maximum = np.inf,\n",
    "                                 amplitude_cutoff_maximum = np.inf,\n",
    "                                 presence_ratio_minimum = -np.inf\n",
    "                                )\n",
    "\n",
    "print([attr_or_method for attr_or_method in dir(session) if attr_or_method[0] != '_'])"
   ]
  },
  {
   "cell_type": "code",
   "execution_count": 8,
   "id": "2156de1f",
   "metadata": {},
   "outputs": [],
   "source": []
  },
  {
   "cell_type": "code",
   "execution_count": 33,
   "id": "3eed845e",
   "metadata": {},
   "outputs": [
    {
     "name": "stderr",
     "output_type": "stream",
     "text": [
      "/opt/conda/envs/allensdk/lib/python3.8/site-packages/hdmf/spec/namespace.py:535: UserWarning: Ignoring cached namespace 'hdmf-common' version 1.1.3 because version 1.8.0 is already loaded.\n",
      "  warn(\"Ignoring cached namespace '%s' version %s because version %s is already loaded.\"\n",
      "/opt/conda/envs/allensdk/lib/python3.8/site-packages/hdmf/spec/namespace.py:535: UserWarning: Ignoring cached namespace 'core' version 2.2.2 because version 2.7.0 is already loaded.\n",
      "  warn(\"Ignoring cached namespace '%s' version %s because version %s is already loaded.\"\n",
      "/opt/conda/envs/allensdk/lib/python3.8/site-packages/hdmf/spec/namespace.py:535: UserWarning: Ignoring cached namespace 'hdmf-common' version 1.1.3 because version 1.8.0 is already loaded.\n",
      "  warn(\"Ignoring cached namespace '%s' version %s because version %s is already loaded.\"\n",
      "/opt/conda/envs/allensdk/lib/python3.8/site-packages/hdmf/spec/namespace.py:535: UserWarning: Ignoring cached namespace 'core' version 2.2.2 because version 2.7.0 is already loaded.\n",
      "  warn(\"Ignoring cached namespace '%s' version %s because version %s is already loaded.\"\n",
      "/opt/conda/envs/allensdk/lib/python3.8/site-packages/hdmf/spec/namespace.py:535: UserWarning: Ignoring cached namespace 'hdmf-common' version 1.1.3 because version 1.8.0 is already loaded.\n",
      "  warn(\"Ignoring cached namespace '%s' version %s because version %s is already loaded.\"\n",
      "/opt/conda/envs/allensdk/lib/python3.8/site-packages/hdmf/spec/namespace.py:535: UserWarning: Ignoring cached namespace 'core' version 2.2.2 because version 2.7.0 is already loaded.\n",
      "  warn(\"Ignoring cached namespace '%s' version %s because version %s is already loaded.\"\n",
      "/opt/conda/envs/allensdk/lib/python3.8/site-packages/hdmf/spec/namespace.py:535: UserWarning: Ignoring cached namespace 'hdmf-common' version 1.1.3 because version 1.8.0 is already loaded.\n",
      "  warn(\"Ignoring cached namespace '%s' version %s because version %s is already loaded.\"\n",
      "/opt/conda/envs/allensdk/lib/python3.8/site-packages/hdmf/spec/namespace.py:535: UserWarning: Ignoring cached namespace 'core' version 2.2.2 because version 2.7.0 is already loaded.\n",
      "  warn(\"Ignoring cached namespace '%s' version %s because version %s is already loaded.\"\n",
      "/opt/conda/envs/allensdk/lib/python3.8/site-packages/allensdk/brain_observatory/ecephys/ecephys_session.py:1371: UserWarning: Session includes invalid time intervals that could be accessed with the attribute 'invalid_times',Spikes within these intervals are invalid and may need to be excluded from the analysis.\n",
      "  warnings.warn(\"Session includes invalid time intervals that could \"\n",
      "/opt/conda/envs/allensdk/lib/python3.8/site-packages/hdmf/spec/namespace.py:535: UserWarning: Ignoring cached namespace 'hdmf-common' version 1.1.3 because version 1.8.0 is already loaded.\n",
      "  warn(\"Ignoring cached namespace '%s' version %s because version %s is already loaded.\"\n",
      "/opt/conda/envs/allensdk/lib/python3.8/site-packages/hdmf/spec/namespace.py:535: UserWarning: Ignoring cached namespace 'core' version 2.2.2 because version 2.7.0 is already loaded.\n",
      "  warn(\"Ignoring cached namespace '%s' version %s because version %s is already loaded.\"\n"
     ]
    }
   ],
   "source": [
    "json_dict = {}\n",
    "for key in session.mean_waveforms.keys():\n",
    "    #xindics = range(0,len(session.mean_waveforms[key].data[0]))\n",
    "    #yindics = session.mean_waveforms[key].data[0]\n",
    "    #plt.plot(xindics,yindics)\n",
    "    #print(session.spike_times[key])\n",
    "    json_dict[key] = {\"mean_waveform\" :session.mean_waveforms[key].data[0].tolist() , \"spike_times\":session.spike_times[key].tolist()}"
   ]
  },
  {
   "cell_type": "code",
   "execution_count": 37,
   "id": "66cbb1c1",
   "metadata": {},
   "outputs": [
    {
     "name": "stdout",
     "output_type": "stream",
     "text": [
      "dict_keys([951814867, 951814858, 951814846, 951814903, 951814895, 951814947, 951815092, 951815010, 951815111, 951818119, 951815166, 951815147, 951815335, 951815305, 951815325, 951815314, 951815354, 951815345, 951815364, 951815392, 951815434, 951815411, 951818130, 951815455, 951815446, 951815477, 951815517, 951815537, 951815580, 951815571, 951815611, 951815619, 951815632, 951815674, 951815664, 951815684, 951815691, 951815765, 951815785, 951815775, 951815812, 951815831, 951815822, 951815849, 951815839, 951815860, 951815879, 951815869, 951815910, 951815919, 951815938, 951815929, 951815967, 951816119, 951816162, 951816255, 951816247, 951816211, 951816271, 951816278, 951816293, 951816286, 951816263, 951818359, 951818150, 951818138, 951816314, 951816308, 951816301, 951816346, 951816336, 951818175, 951816407, 951816399, 951816375, 951816365, 951816354, 951816429, 951816391, 951818315, 951818186, 951816517, 951816493, 951816480, 951816471, 951816452, 951816443, 951816607, 951816597, 951816590, 951816578, 951816657, 951816647, 951816638, 951818326, 951818193, 951816797, 951816787, 951816775, 951816758, 951816874, 951816863, 951816897, 951816927, 951816916, 951816905, 951816943, 951816959, 951817054, 951817049, 951817042, 951817140, 951817084, 951817060, 951817147, 951817133, 951817153, 951817203, 951817191, 951817185, 951817227, 951817219, 951817212, 951817249, 951817241, 951817281, 951817317, 951817311, 951817303, 951818214, 951817332, 951817324, 951817489, 951818222, 951817414, 951817404, 951817396, 951817431, 951817422, 951817440, 951818241, 951818231, 951817532, 951817473, 951817455, 951817643, 951817514, 951817506, 951817482, 951817589, 951817577, 951817568, 951817559, 951817551, 951817523, 951817634, 951817614, 951817605, 951817597, 951817658, 951817651, 951817722, 951817712, 951817748, 951817669, 951817798, 951817757, 951818248, 951817731, 951817851, 951817844, 951817765, 951818268, 951817902, 951817893, 951818285, 951817944, 951817927, 951817918, 951818008, 951817962, 951817953, 951818000, 951817990, 951817971, 951818040, 951817981, 951818049, 951818301, 951818083, 951818077, 951818103, 951814824, 951814884, 951814876, 951814937, 951815032, 951815054, 951814960, 951814928, 951814916, 951815132, 951815188, 951815295, 951815285, 951815275, 951815383, 951815467, 951815508, 951815527, 951815560, 951815547, 951815590, 951815642, 951815652, 951815712, 951815701, 951815747, 951815735, 951815793, 951815803, 951815892, 951815886, 951815948, 951816153, 951816141, 951816201, 951816190, 951816180, 951816230, 951816222, 951818164, 951816328, 951816322, 951816747, 951816626, 951816565, 951816553, 951816539, 951816527, 951816416, 951818203, 951816826, 951816713, 951816691, 951816679, 951816668, 951816836, 951816951, 951816936, 951816995, 951816988, 951817035, 951817026, 951817018, 951817177, 951817170, 951817159, 951817233, 951817266, 951817257, 951817274, 951817350, 951817341, 951817296, 951817388, 951817376, 951817367, 951817447, 951817542, 951817693, 951817686, 951817677, 951817831, 951817823, 951817813, 951818261, 951817875, 951817867, 951817785, 951818276, 951817909, 951818350, 951818336, 951818307, 951818293, 951818031, 951818016, 951818068, 951818058, 951818112, 951818862, 951818878, 951818870, 951818894, 951821543, 951818934, 951818927, 951818998, 951818971, 951818982, 951819013, 951819005, 951819051, 951819032, 951819041, 951819076, 951819068, 951819099, 951819089, 951819118, 951819109, 951819126, 951819149, 951819140, 951821553, 951819175, 951819164, 951819191, 951821939, 951821874, 951821792, 951821560, 951819236, 951819225, 951819213, 951819182, 951819246, 951819203, 951819314, 951819332, 951819322, 951819384, 951819406, 951819393, 951819431, 951819421, 951819412, 951819471, 951819513, 951819533, 951819524, 951819559, 951819578, 951819551, 951819596, 951819606, 951819651, 951819699, 951821897, 951819753, 951819886, 951821903, 951819895, 951819958, 951819948, 951820035, 951820027, 951820046, 951821909, 951820074, 951820364, 951820160, 951820151, 951820142, 951820127, 951819967, 951821610, 951820246, 951820196, 951820188, 951820179, 951820171, 951820380, 951820331, 951820322, 951820356, 951820413, 951820405, 951820396, 951820422, 951820473, 951820455, 951820485, 951820479, 951820496, 951820502, 951820510, 951820547, 951820541, 951820551, 951820565, 951820557, 951820607, 951820602, 951820595, 951820631, 951820623, 951820648, 951820663, 951820656, 951820677, 951820670, 951821635, 951820720, 951820713, 951820699, 951820745, 951820739, 951820707, 951821649, 951821642, 951820769, 951820761, 951821833, 951820788, 951820774, 951821656, 951820802, 951820795, 951820754, 951821663, 951820851, 951820844, 951820857, 951820837, 951821669, 951820984, 951820908, 951820902, 951820896, 951820890, 951820924, 951820913, 951820977, 951820969, 951820963, 951820956, 951820950, 951820938, 951821030, 951821022, 951821015, 951821689, 951821081, 951821075, 951821070, 951821676, 951821114, 951821092, 951821087, 951821109, 951821103, 951821698, 951821711, 951821705, 951821156, 951821172, 951821165, 951821127, 951821761, 951821755, 951821749, 951821741, 951821734, 951821266, 951821230, 951821215, 951821193, 951821189, 951821880, 951821849, 951821719, 951821208, 951821201, 951821726, 951821260, 951821252, 951821245, 951821237, 951821300, 951821292, 951821284, 951821274, 951821223, 951821331, 951821322, 951821367, 951821385, 951821430, 951821417, 951821408, 951821857, 951821481, 951818441, 951818431, 951818460, 951818450, 951818497, 951818488, 951818480, 951818470, 951821529, 951818505, 951818534, 951818515, 951818566, 951818549, 951818600, 951818583, 951818614, 951818641, 951818655, 951818629, 951818724, 951818669, 951818732, 951818685, 951818756, 951818747, 951818739, 951821535, 951818764, 951818787, 951818779, 951818772, 951818803, 951818795, 951818837, 951818830, 951818810, 951818845, 951818854, 951818886, 951819283, 951819274, 951819262, 951819255, 951819293, 951821805, 951821799, 951821589, 951821582, 951821576, 951821567, 951819367, 951819359, 951819350, 951819342, 951821811, 951819461, 951819450, 951819439, 951819504, 951819496, 951819543, 951819628, 951819620, 951819777, 951819984, 951819976, 951819930, 951819907, 951820003, 951820020, 951820012, 951821916, 951820056, 951821948, 951821817, 951821597, 951820253, 951820135, 951820102, 951820094, 951820085, 951820065, 951821616, 951821604, 951820236, 951820225, 951820215, 951820304, 951820295, 951820286, 951820278, 951820269, 951820263, 951820388, 951820373, 951820431, 951820533, 951821627, 951820587, 951820580, 951820614, 951820574, 951820686, 951820732, 951820726, 951820780, 951821923, 951820823, 951820816, 951820809, 951820884, 951820877, 951820864, 951821065, 951821009, 951821000, 951820992, 951821841, 951821683, 951821060, 951821054, 951821049, 951821043, 951821037, 951821148, 951821142, 951821122, 951821315, 951821307, 951821768, 951821359, 951821351, 951821345, 951821339, 951821375, 951821888, 951821868, 951821776, 951821439, 951821781, 951821466, 951821458, 951821453, 951821446, 951821423, 951821504, 951821498, 951821489, 951812035, 951809101, 951809088, 951809077, 951809162, 951809153, 951809205, 951809193, 951809182, 951812420, 951812411, 951809232, 951809275, 951809440, 951809378, 951809370, 951809359, 951809453, 951809431, 951809496, 951809474, 951809464, 951809417, 951809485, 951809540, 951809528, 951809518, 951809623, 951809640, 951809744, 951809735, 951809807, 951809956, 951810166, 951810281, 951810369, 951812202, 951810392, 951810481, 951810436, 951810425, 951810400, 951810532, 951810618, 951810603, 951810594, 951810681, 951810724, 951810714, 951810747, 951810735, 951810780, 951810980, 951810971, 951810960, 951810949, 951812284, 951811082, 951811072, 951811061, 951811238, 951811227, 951811217, 951811306, 951811295, 951811281, 951812311, 951811440, 951811426, 951811399, 951811626, 951811546, 951811535, 951811591, 951811578, 951811558, 951812338, 951811745, 951811656, 951811869, 951811857, 951811847, 951811836, 951811825, 951811725, 951811933, 951809141, 951809120, 951809111, 951809172, 951809288, 951809221, 951812064, 951812056, 951812048, 951809262, 951809254, 951809243, 951812072, 951809317, 951809308, 951809347, 951809334, 951809402, 951809390, 951812084, 951809507, 951809552, 951809599, 951809586, 951809575, 951812093, 951809610, 951812103, 951809661, 951809648, 951812482, 951812124, 951809694, 951809714, 951809704, 951809767, 951809753, 951809826, 951809816, 951809833, 951809919, 951809888, 951809879, 951809864, 951809855, 951812135, 951809932, 951809943, 951812433, 951810118, 951810108, 951810094, 951810053, 951810042, 951810020, 951809986, 951809976, 951809968, 951810127, 951812157, 951810152, 951810140, 951810191, 951810222, 951810314, 951810357, 951810338, 951810379, 951812230, 951812218, 951810412, 951810459, 951810447, 951810548, 951810517, 951810495, 951810577, 951810564, 951810655, 951810646, 951810669, 951810692, 951810703, 951810768, 951810810, 951810800, 951812258, 951812250, 951810874, 951810862, 951810791, 951810759, 951810991, 951812269, 951810941, 951810930, 951810918, 951810906, 951810895, 951810821, 951811003, 951811011, 951811050, 951811041, 951811143, 951811123, 951811112, 951811093, 951811187, 951811177, 951811166, 951811155, 951811269, 951811259, 951811249, 951811347, 951811333, 951811321, 951812296, 951811386, 951811358, 951811458, 951811448, 951811569, 951811514, 951811504, 951811494, 951811482, 951811472, 951811637, 951812326, 951811677, 951811618, 951811612, 951811646, 951812367, 951811715, 951811704, 951812399, 951812353, 951811789, 951811778, 951811767, 951811667, 951812377, 951811900, 951811889, 951811954, 951811943, 951812388, 951812010, 951811997, 951811984, 951797828, 951803492, 951803373, 951802953, 951798311, 951798448, 951803018, 951798564, 951798552, 951798541, 951798623, 951798836, 951798824, 951798812, 951798803, 951798792, 951803042, 951798927, 951798902, 951799059, 951799046, 951799245, 951799233, 951799477, 951799465, 951799691, 951799626, 951803087, 951799665, 951799653, 951799638, 951799763, 951799838, 951799930, 951799976, 951800026, 951800330, 951800295, 951800387, 951800376, 951800893, 951800875, 951803161, 951800951, 951800938, 951800920, 951801069, 951801056, 951801200, 951801375, 951801363, 951801354, 951801340, 951801330, 951803167, 951801531, 951801716, 951801760, 951801848, 951801836, 951801901, 951801891, 951801880, 951801946, 951802003, 951802035, 951802025, 951802079, 951802068, 951802172, 951802162, 951802141, 951802126, 951802098, 951802253, 951802200, 951802399, 951802388, 951802377, 951802430, 951802420, 951802533, 951802557, 951803218, 951802664, 951802652, 951802727, 951803237, 951802763, 951802750, 951802819, 951797848, 951797870, 951797977, 951802868, 951798204, 951798219, 951803292, 951802935, 951802925, 951802911, 951802882, 951798241, 951802963, 951798263, 951803302, 951802983, 951802973, 951798410, 951798372, 951798461, 951798529, 951798638, 951798665, 951798725, 951798708, 951798694, 951798678, 951803311, 951803028, 951798781, 951798945, 951798892, 951798882, 951798872, 951798860, 951798849, 951803053, 951798985, 951798972, 951799024, 951799011, 951799210, 951799198, 951803420, 951803410, 951799323, 951799311, 951799336, 951799405, 951799450, 951799430, 951799419, 951803511, 951799532, 951799518, 951803443, 951799574, 951799612, 951799702, 951799812, 951799777, 951799753, 951799742, 951803470, 951799800, 951799826, 951800040, 951803108, 951800083, 951800069, 951800313, 951800190, 951800549, 951800521, 951800472, 951800443, 951800427, 951800362, 951800225, 951800654, 951800642, 951800612, 951800597, 951800625, 951800729, 951800680, 951800667, 951800797, 951803151, 951800854, 951800580, 951800964, 951800908, 951801041, 951800977, 951801100, 951801187, 951801175, 951801163, 951801153, 951801140, 951801127, 951801225, 951801212, 951801316, 951801304, 951801290, 951801276, 951801248, 951801414, 951801399, 951801384, 951801521, 951801449, 951801437, 951803325, 951801510, 951801498, 951801487, 951801475, 951801462, 951801571, 951801545, 951801585, 951803197, 951801724, 951803336, 951803178, 951801677, 951801664, 951801653, 951801785, 951801773, 951801818, 951801797, 951801859, 951801934, 951801923, 951801869, 951801982, 951801973, 951801963, 951801996, 951802045, 951802013, 951802055, 951802089, 951802264, 951802211, 951802184, 951803207, 951802244, 951802233, 951802223, 951802110, 951802334, 951802323, 951802310, 951802297, 951802288, 951802367, 951802357, 951802346, 951802409, 951802471, 951802462, 951802450, 951802440, 951802522, 951802512, 951802501, 951802492, 951802481, 951802568, 951802642, 951802589, 951802632, 951802695, 951802683, 951802716, 951803225, 951803359, 951803349, 951803265, 951802786, 951802775, 951803280, 951803658, 951803637, 951803611, 951808573, 951803815, 951803826, 951803969, 951803949, 951803849, 951804025, 951804015, 951804004, 951803995, 951804093, 951804080, 951804067, 951804123, 951804268, 951804233, 951804204, 951804195, 951804171, 951804386, 951804434, 951808987, 951808913, 951808634, 951804602, 951804531, 951804520, 951804508, 951804678, 951804736, 951804707, 951804695, 951804685, 951804933, 951804903, 951804890, 951804989, 951804971, 951805042, 951805078, 951805142, 951805317, 951805333, 951805299, 951805290, 951805279, 951805365, 951805592, 951805561, 951805636, 951808686, 951808677, 951805943, 951805813, 951805774, 951805761, 951805750, 951805738, 951805726, 951805682, 951805625, 951805864, 951805853, 951805954, 951805988, 951805978, 951806029, 951806017, 951806107, 951806215, 951806336, 951806288, 951806276, 951806266, 951806325, 951806368, 951806503, 951806560, 951806549, 951806536, 951806512, 951806493, 951806481, 951806598, 951808776, 951806722, 951806712, 951806690, 951806791, 951806780, 951806770, 951806828, 951806876, 951807116, 951807008, 951806994, 951806982, 951806973, 951806958, 951806942, 951807021, 951807173, 951807163, 951807358, 951807412, 951807423, 951808812, 951807565, 951807456, 951807445, 951807536, 951807522, 951807508, 951807495, 951807586, 951807699, 951807680, 951807756, 951807971, 951807962, 951807953, 951807944, 951807935, 951807899, 951808033, 951808083, 951808884, 951808875, 951808135, 951808122, 951808112, 951808212, 951808203, 951808193, 951808172, 951808258, 951808299, 951808315, 951808465, 951808932, 951808498, 951808490, 951808430, 951808978, 951808591, 951803924, 951803804, 951803717, 951803705, 951803696, 951808581, 951803793, 951803783, 951803772, 951803760, 951803750, 951803739, 951803728, 951803686, 951803649, 951803838, 951803913, 951803900, 951803882, 951803871, 951803960, 951803989, 951803979, 951804045, 951808602, 951804113, 951804152, 951804103, 951804356, 951804341, 951804326, 951808624, 951804421, 951804411, 951804443, 951804399, 951804375, 951804365, 951804458, 951804478, 951804567, 951804550, 951804541, 951808643, 951804613, 951804496, 951804625, 951808652, 951804669, 951804652, 951804792, 951804776, 951804759, 951804851, 951804838, 951804824, 951804877, 951804960, 951804948, 951805029, 951805002, 951805066, 951805053, 951805089, 951808659, 951805126, 951805114, 951805101, 951805256, 951805191, 951805166, 951805245, 951805233, 951805222, 951805212, 951805201, 951805267, 951805310, 951805306, 951805355, 951805340, 951805387, 951805427, 951805413, 951805400, 951808669, 951805507, 951805495, 951805472, 951805458, 951805442, 951805647, 951805582, 951805570, 951805552, 951805614, 951805603, 951805670, 951805659, 951805803, 951805715, 951805705, 951805693, 951805784, 951808696, 951805838, 951805826, 951805909, 951805875, 951805931, 951805919, 951806001, 951805965, 951806082, 951806193, 951806181, 951806171, 951806161, 951806152, 951808706, 951806255, 951806244, 951806233, 951806358, 951806377, 951806401, 951808726, 951806622, 951808997, 951806678, 951806739, 951806841, 951806801, 951806814, 951806851, 951806732, 951806899, 951806887, 951806911, 951806862, 951808793, 951807096, 951807087, 951807066, 951807055, 951807044, 951807139, 951807126, 951807270, 951807302, 951807331, 951807374, 951807343, 951807399, 951807434, 951807487, 951807552, 951807544, 951807576, 951807619, 951807608, 951807596, 951807630, 951807668, 951807659, 951807649, 951807639, 951808833, 951807707, 951807733, 951807725, 951807746, 951807716, 951807766, 951808844, 951807808, 951807793, 951807835, 951807822, 951807907, 951807871, 951807860, 951807880, 951808866, 951808857, 951808026, 951808007, 951807987, 951807917, 951807848, 951807997, 951808072, 951808059, 951808044, 951808890, 951808183, 951808100, 951808091, 951808147, 951808163, 951808898, 951808246, 951808232, 951808222, 951808268, 951808336, 951808326, 951808379, 951808363, 951808400, 951808393, 951808385, 951808417, 951808408, 951808473, 951808481, 951808555, 951808525, 951808517, 951812731, 951812722, 951814469, 951812774, 951812764, 951812715, 951812806, 951812795, 951812784, 951814479, 951812890, 951812879, 951814666, 951814489, 951812972, 951812961, 951812944, 951814510, 951813015, 951813003, 951812995, 951813135, 951813157, 951813204, 951813318, 951814692, 951814546, 951813463, 951813409, 951814580, 951814571, 951813525, 951813514, 951813423, 951813598, 951813650, 951813744, 951813766, 951813864, 951813846, 951813836, 951813826, 951813805, 951813914, 951813971, 951814108, 951814096, 951814089, 951814079, 951814139, 951814281, 951814326, 951812742, 951812753, 951814718, 951814500, 951812933, 951812922, 951813038, 951814520, 951813189, 951813178, 951813285, 951813339, 951813389, 951813307, 951813329, 951813441, 951813452, 951813554, 951813586, 951813670, 951813756, 951813786, 951813775, 951813797, 951814679, 951814589, 951813873, 951813904, 951813951, 951813941, 951813924, 951813893, 951813960, 951814704, 951814002, 951813991, 951813982, 951814129, 951814040, 951814030, 951814021, 951814011, 951814070, 951814060, 951814160, 951814150, 951814172, 951814252, 951814239, 951814220, 951814212, 951814199, 951814190, 951814614, 951814268, 951814302, 951814312, 951814348, 951814405, 951814395, 951814637, 951814628])\n"
     ]
    }
   ],
   "source": [
    "len(json_dict)\n",
    "print(json_dict.keys())\n",
    "k = list(json_dict.keys())[0]"
   ]
  },
  {
   "cell_type": "code",
   "execution_count": 38,
   "id": "4a989416",
   "metadata": {},
   "outputs": [
    {
     "data": {
      "text/plain": [
       "[0.0,\n",
       " 0.22639500000000723,\n",
       " 1.1200800000000006,\n",
       " -1.5364049999999931,\n",
       " -2.0995649999999975,\n",
       " -3.6767250000000073,\n",
       " -2.451539999999996,\n",
       " -2.0956649999999994,\n",
       " -1.8565949999999996,\n",
       " -1.0787400000000007,\n",
       " 0.23244000000001197,\n",
       " -0.4157400000000102,\n",
       " -0.3732300000000066,\n",
       " 0.7380750000000083,\n",
       " 3.6589800000000055,\n",
       " 11.686935000000002,\n",
       " 19.341270000000016,\n",
       " 18.121935000000008,\n",
       " -8.978969999999997,\n",
       " -49.880999999999986,\n",
       " -65.21111999999994,\n",
       " -45.995819999999995,\n",
       " -14.542124999999988,\n",
       " 12.297285000000011,\n",
       " 27.366299999999995,\n",
       " 31.93398,\n",
       " 28.760355000000004,\n",
       " 24.657750000000014,\n",
       " 20.54792999999999,\n",
       " 17.905485000000002,\n",
       " 14.221545000000003,\n",
       " 9.334455000000005,\n",
       " 8.182785000000003,\n",
       " 5.920590000000005,\n",
       " 5.265585000000006,\n",
       " 3.1658250000000048,\n",
       " 1.4570400000000077,\n",
       " 0.05206500000000869,\n",
       " -1.3131299999999904,\n",
       " -2.022539999999995,\n",
       " -0.237899999999998,\n",
       " -2.4548549999999967,\n",
       " -2.3984999999999994,\n",
       " -2.1457799999999994,\n",
       " -2.0320949999999964,\n",
       " -2.8308149999999985,\n",
       " -3.1256549999999903,\n",
       " -3.607694999999974,\n",
       " -3.5271599999999923,\n",
       " -3.477239999999985,\n",
       " -2.4404249999999923,\n",
       " -1.9365449999999944,\n",
       " -2.7532050000000057,\n",
       " -2.293199999999998,\n",
       " -1.7333549999999915,\n",
       " -2.656484999999999,\n",
       " -1.9209449999999961,\n",
       " -3.487770000000004,\n",
       " -4.292144999999988,\n",
       " -3.668145000000009,\n",
       " -4.26172499999999,\n",
       " -2.8358849999999984,\n",
       " -2.4511500000000055,\n",
       " -3.2332949999999956,\n",
       " -3.093285000000006,\n",
       " -0.5391749999999949,\n",
       " -1.2115349999999978,\n",
       " -0.49334999999999507,\n",
       " -1.701374999999989,\n",
       " -1.369290000000003,\n",
       " -3.5316449999999913,\n",
       " -3.128775,\n",
       " -3.198584999999995,\n",
       " -3.5729849999999947,\n",
       " -4.570994999999997,\n",
       " -3.2984249999999955,\n",
       " -3.310905000000008,\n",
       " -3.365309999999986,\n",
       " -2.539094999999998,\n",
       " -1.9644299999999895,\n",
       " -1.9234799999999925,\n",
       " -2.045549999999988]"
      ]
     },
     "execution_count": 38,
     "metadata": {},
     "output_type": "execute_result"
    }
   ],
   "source": [
    "\n",
    "json_dict[k]['mean_waveform']"
   ]
  },
  {
   "cell_type": "code",
   "execution_count": 39,
   "id": "6f5521fe",
   "metadata": {},
   "outputs": [
    {
     "ename": "",
     "evalue": "",
     "output_type": "error",
     "traceback": [
      "\u001b[1;31mEl kernel se bloqueó al ejecutar código en la celda actual o en una celda anterior. \n",
      "\u001b[1;31mRevise el código de las celdas para identificar una posible causa del error. \n",
      "\u001b[1;31mHaga clic <a href='https://aka.ms/vscodeJupyterKernelCrash'>aquí</a> para obtener más información. \n",
      "\u001b[1;31mVea Jupyter <a href='command:jupyter.viewOutput'>log</a> para obtener más detalles."
     ]
    }
   ],
   "source": [
    "import json\n",
    "with open(f'Session_id_756029989.json', \"w\") as outfile: \n",
    "    json.dump(json_dict, outfile)"
   ]
  },
  {
   "cell_type": "code",
   "execution_count": 14,
   "id": "5f3c8a7b",
   "metadata": {},
   "outputs": [],
   "source": [
    "# for key in session.spike_times.keys():\n",
    "#     print(session.spike_times[key])\n"
   ]
  },
  {
   "cell_type": "markdown",
   "id": "7f7a129c",
   "metadata": {
    "papermill": {
     "duration": 0.077525,
     "end_time": "2023-11-30T06:33:59.839817",
     "exception": false,
     "start_time": "2023-11-30T06:33:59.762292",
     "status": "completed"
    },
    "pycharm": {
     "name": "#%% md\n"
    },
    "tags": []
   },
   "source": [
    "As you can see, the `session` object has a lot of attributes and methods that can be used to access the underlying data in the NWB file. Most of these will be touched on in other tutorials, but for now we will look at the only one that is capable of triggering additional data downloads, `get_lfp()`.\n",
    "\n",
    "In general, each NWB file is meant to be a self-contained repository of data for one recording session. However, for the Neuropixels data, we've broken with convention a bit in order to store LFP data in separate files. If we hadn't done this, analyzing one session would require an initial 15 GB file download. Now, the session is broken up in to ~2 GB chunks..\n",
    "\n",
    "Once you have created a `session` object, downloading the LFP data is simple (but may be slow):"
   ]
  },
  {
   "cell_type": "code",
   "execution_count": 15,
   "id": "6fd47ae4",
   "metadata": {
    "execution": {
     "iopub.execute_input": "2023-11-30T06:33:59.996051Z",
     "iopub.status.busy": "2023-11-30T06:33:59.995527Z",
     "iopub.status.idle": "2023-11-30T06:36:59.460373Z",
     "shell.execute_reply": "2023-11-30T06:36:59.459660Z"
    },
    "papermill": {
     "duration": 179.544711,
     "end_time": "2023-11-30T06:36:59.462220",
     "exception": false,
     "start_time": "2023-11-30T06:33:59.917509",
     "status": "completed"
    },
    "pycharm": {
     "name": "#%%\n"
    },
    "tags": []
   },
   "outputs": [
    {
     "name": "stderr",
     "output_type": "stream",
     "text": [
      "/opt/hostedtoolcache/Python/3.8.18/x64/lib/python3.8/site-packages/hdmf/spec/namespace.py:531: UserWarning: Ignoring cached namespace 'hdmf-common' version 1.1.3 because version 1.8.0 is already loaded.\n",
      "  warn(\"Ignoring cached namespace '%s' version %s because version %s is already loaded.\"\n",
      "/opt/hostedtoolcache/Python/3.8.18/x64/lib/python3.8/site-packages/hdmf/spec/namespace.py:531: UserWarning: Ignoring cached namespace 'core' version 2.2.2 because version 2.6.0-alpha is already loaded.\n",
      "  warn(\"Ignoring cached namespace '%s' version %s because version %s is already loaded.\"\n",
      "WARNING:root:downloading a 1967.383MiB file from http://api.brain-map.org//api/v2/well_known_file_download/1026124481\n",
      "Downloading: 100%|██████████| 2.06G/2.06G [02:36<00:00, 13.2MB/s]\n"
     ]
    }
   ],
   "source": [
    "probe_id = session.probes.index.values[0]\n",
    "\n",
    "lfp = session.get_lfp(probe_id)"
   ]
  },
  {
   "cell_type": "markdown",
   "id": "adfd255a",
   "metadata": {
    "papermill": {
     "duration": 0.130023,
     "end_time": "2023-11-30T06:36:59.724222",
     "exception": false,
     "start_time": "2023-11-30T06:36:59.594199",
     "status": "completed"
    },
    "pycharm": {
     "name": "#%% md\n"
    },
    "tags": []
   },
   "source": [
    "Tips for analyzing LFP data can be found in [this tutorial](./ecephys_lfp_analysis.ipynb)."
   ]
  },
  {
   "cell_type": "markdown",
   "id": "9b0aeb80",
   "metadata": {
    "papermill": {
     "duration": 0.130385,
     "end_time": "2023-11-30T06:36:59.986077",
     "exception": false,
     "start_time": "2023-11-30T06:36:59.855692",
     "status": "completed"
    },
    "pycharm": {
     "name": "#%% md\n"
    },
    "tags": []
   },
   "source": [
    "### Downloading the complete dataset\n",
    "\n",
    "Analyzing one session at a time is nice, but in many case you'll want to be able to query across the whole dataset. To fill your cache with all available data, you can use a `for` loop like the one below. Note that we've added some checks to ensure that the complete file is present, in case the download has been interrupted due to an unreliable connection.\n",
    "\n",
    "Before running this code, please make sure that you have enough space available in your cache directory. You'll need around 855 GB for the whole dataset, and 147 GB if you're not downloading the LFP data files."
   ]
  },
  {
   "cell_type": "code",
   "execution_count": 16,
   "id": "edc422b4",
   "metadata": {
    "execution": {
     "iopub.execute_input": "2023-11-30T06:37:00.253446Z",
     "iopub.status.busy": "2023-11-30T06:37:00.252956Z",
     "iopub.status.idle": "2023-11-30T06:37:00.258616Z",
     "shell.execute_reply": "2023-11-30T06:37:00.258058Z"
    },
    "papermill": {
     "duration": 0.140528,
     "end_time": "2023-11-30T06:37:00.259967",
     "exception": false,
     "start_time": "2023-11-30T06:37:00.119439",
     "status": "completed"
    },
    "pycharm": {
     "name": "#%%\n"
    },
    "tags": []
   },
   "outputs": [],
   "source": [
    "if DOWNLOAD_COMPLETE_DATASET:\n",
    "    for session_id, row in sessions.iterrows():\n",
    "\n",
    "        truncated_file = True\n",
    "        directory = os.path.join(output_dir + '/session_' + str(session_id))\n",
    "\n",
    "        while truncated_file:\n",
    "            session = cache.get_session_data(session_id)\n",
    "            try:\n",
    "                print(session.specimen_name)\n",
    "                truncated_file = False\n",
    "            except OSError:\n",
    "                shutil.rmtree(directory)\n",
    "                print(\" Truncated spikes file, re-downloading\")\n",
    "\n",
    "        for probe_id, probe in session.probes.iterrows():\n",
    "\n",
    "            print(' ' + probe.description)\n",
    "            truncated_lfp = True\n",
    "\n",
    "            while truncated_lfp:\n",
    "                try:\n",
    "                    lfp = session.get_lfp(probe_id)\n",
    "                    truncated_lfp = False\n",
    "                except OSError:\n",
    "                    fname = directory + '/probe_' + str(probe_id) + '_lfp.nwb'\n",
    "                    os.remove(fname)\n",
    "                    print(\"  Truncated LFP file, re-downloading\")\n",
    "                except ValueError:\n",
    "                    print(\"  LFP file not found.\")\n",
    "                    truncated_lfp = False"
   ]
  },
  {
   "cell_type": "markdown",
   "id": "58e81eff",
   "metadata": {
    "papermill": {
     "duration": 0.130696,
     "end_time": "2023-11-30T06:37:00.524750",
     "exception": false,
     "start_time": "2023-11-30T06:37:00.394054",
     "status": "completed"
    },
    "pycharm": {
     "name": "#%% md\n"
    },
    "tags": []
   },
   "source": [
    "## Accessing data on AWS"
   ]
  },
  {
   "cell_type": "markdown",
   "id": "53339a6d",
   "metadata": {
    "papermill": {
     "duration": 0.130405,
     "end_time": "2023-11-30T06:37:00.786078",
     "exception": false,
     "start_time": "2023-11-30T06:37:00.655673",
     "status": "completed"
    },
    "pycharm": {
     "name": "#%% md\n"
    },
    "tags": []
   },
   "source": [
    "If you want to analyze the data without downloading anything to your local machine, you can use the AllenSDK on AWS.\n",
    "\n",
    "Follow [these instructions](https://github.com/AllenInstitute/AllenSDK/wiki/Use-the-Allen-Brain-Observatory-%E2%80%93-Visual-Coding-on-AWS) to launch a Jupyter notebook. Then, simply point to the existing manifest file in the Allen Institute's S3 bucket, and all of the data will be immediately available:"
   ]
  },
  {
   "cell_type": "code",
   "execution_count": 17,
   "id": "d4ae45de",
   "metadata": {
    "execution": {
     "iopub.execute_input": "2023-11-30T06:37:01.081882Z",
     "iopub.status.busy": "2023-11-30T06:37:01.081613Z",
     "iopub.status.idle": "2023-11-30T06:37:01.085220Z",
     "shell.execute_reply": "2023-11-30T06:37:01.084715Z"
    },
    "papermill": {
     "duration": 0.167183,
     "end_time": "2023-11-30T06:37:01.086515",
     "exception": false,
     "start_time": "2023-11-30T06:37:00.919332",
     "status": "completed"
    },
    "pycharm": {
     "name": "#%%\n"
    },
    "tags": []
   },
   "outputs": [],
   "source": [
    "cache = EcephysProjectCache(manifest=manifest_path)"
   ]
  },
  {
   "cell_type": "markdown",
   "id": "33b55412",
   "metadata": {
    "papermill": {
     "duration": 0.132476,
     "end_time": "2023-11-30T06:37:01.352339",
     "exception": false,
     "start_time": "2023-11-30T06:37:01.219863",
     "status": "completed"
    },
    "pycharm": {
     "name": "#%% md\n"
    },
    "tags": []
   },
   "source": [
    "Once your cache is initialized, you can create the `sessions` table, load individual `session` objects, and access LFP data using the same commands described above.\n",
    "\n",
    "Additional tutorials specific to using AWS are coming soon."
   ]
  },
  {
   "cell_type": "markdown",
   "id": "bbf77a21",
   "metadata": {
    "papermill": {
     "duration": 0.130782,
     "end_time": "2023-11-30T06:37:01.615168",
     "exception": false,
     "start_time": "2023-11-30T06:37:01.484386",
     "status": "completed"
    },
    "pycharm": {
     "name": "#%% md\n"
    },
    "tags": []
   },
   "source": [
    "## Direct download via api.brain-map.org"
   ]
  },
  {
   "cell_type": "markdown",
   "id": "434220ac",
   "metadata": {
    "papermill": {
     "duration": 0.130764,
     "end_time": "2023-11-30T06:37:01.877139",
     "exception": false,
     "start_time": "2023-11-30T06:37:01.746375",
     "status": "completed"
    },
    "pycharm": {
     "name": "#%% md\n"
    },
    "tags": []
   },
   "source": [
    "Some people have reported issues downloading the files via the AllenSDK (the connection is extremely slow, or gets interrupted frequently). If this applies to you, you can try downloading the files via HTTP requests sent to **api.brain-map.org**. This approach is not recommended, because you will have to manually keep track of the file locations. But if you're doing analysis that doesn't depend on the AllenSDK (e.g., in Matlab), this may not matter to you.\n",
    "\n",
    "You can follow the steps below to retrieve the URLs for all of the NWB files in this dataset."
   ]
  },
  {
   "cell_type": "code",
   "execution_count": 18,
   "id": "51c15b73",
   "metadata": {
    "execution": {
     "iopub.execute_input": "2023-11-30T06:37:02.169911Z",
     "iopub.status.busy": "2023-11-30T06:37:02.169457Z",
     "iopub.status.idle": "2023-11-30T06:37:02.173283Z",
     "shell.execute_reply": "2023-11-30T06:37:02.172744Z"
    },
    "papermill": {
     "duration": 0.166857,
     "end_time": "2023-11-30T06:37:02.174570",
     "exception": false,
     "start_time": "2023-11-30T06:37:02.007713",
     "status": "completed"
    },
    "pycharm": {
     "name": "#%%\n"
    },
    "tags": []
   },
   "outputs": [],
   "source": [
    "from allensdk.brain_observatory.ecephys.ecephys_project_api.utilities import build_and_execute\n",
    "from allensdk.brain_observatory.ecephys.ecephys_project_api.rma_engine import RmaEngine\n",
    "from allensdk.brain_observatory.ecephys.ecephys_project_cache import EcephysProjectCache\n",
    "\n",
    "rma_engine = RmaEngine(scheme=\"http\", host=\"api.brain-map.org\")"
   ]
  },
  {
   "cell_type": "code",
   "execution_count": 19,
   "id": "49fdecb5",
   "metadata": {
    "execution": {
     "iopub.execute_input": "2023-11-30T06:37:02.441601Z",
     "iopub.status.busy": "2023-11-30T06:37:02.440997Z",
     "iopub.status.idle": "2023-11-30T06:37:03.099094Z",
     "shell.execute_reply": "2023-11-30T06:37:03.098439Z"
    },
    "papermill": {
     "duration": 0.793805,
     "end_time": "2023-11-30T06:37:03.100741",
     "exception": false,
     "start_time": "2023-11-30T06:37:02.306936",
     "status": "completed"
    },
    "pycharm": {
     "name": "#%%\n"
    },
    "tags": []
   },
   "outputs": [],
   "source": [
    "cache = EcephysProjectCache.from_warehouse(manifest=manifest_path)\n",
    "\n",
    "sessions = cache.get_session_table()"
   ]
  },
  {
   "cell_type": "code",
   "execution_count": 20,
   "id": "71ed43a0",
   "metadata": {
    "execution": {
     "iopub.execute_input": "2023-11-30T06:37:03.365507Z",
     "iopub.status.busy": "2023-11-30T06:37:03.364830Z",
     "iopub.status.idle": "2023-11-30T06:37:13.344314Z",
     "shell.execute_reply": "2023-11-30T06:37:13.343653Z"
    },
    "papermill": {
     "duration": 10.111752,
     "end_time": "2023-11-30T06:37:13.345613",
     "exception": false,
     "start_time": "2023-11-30T06:37:03.233861",
     "status": "completed"
    },
    "pycharm": {
     "name": "#%%\n"
    },
    "tags": []
   },
   "outputs": [
    {
     "name": "stdout",
     "output_type": "stream",
     "text": [
      "http://api.brain-map.org//api/v2/well_known_file_download/1026124469\n",
      "http://api.brain-map.org//api/v2/well_known_file_download/1026124034\n",
      "http://api.brain-map.org//api/v2/well_known_file_download/1026123696\n",
      "http://api.brain-map.org//api/v2/well_known_file_download/1026123599\n",
      "http://api.brain-map.org//api/v2/well_known_file_download/1026123989\n",
      "http://api.brain-map.org//api/v2/well_known_file_download/1026123897\n",
      "http://api.brain-map.org//api/v2/well_known_file_download/1026123964\n",
      "http://api.brain-map.org//api/v2/well_known_file_download/1026124068\n",
      "http://api.brain-map.org//api/v2/well_known_file_download/1026124429\n",
      "http://api.brain-map.org//api/v2/well_known_file_download/1026124262\n",
      "http://api.brain-map.org//api/v2/well_known_file_download/1026124724\n",
      "http://api.brain-map.org//api/v2/well_known_file_download/1026124242\n",
      "http://api.brain-map.org//api/v2/well_known_file_download/1026124863\n",
      "http://api.brain-map.org//api/v2/well_known_file_download/1026123537\n",
      "http://api.brain-map.org//api/v2/well_known_file_download/1026124326\n",
      "http://api.brain-map.org//api/v2/well_known_file_download/1026124684\n",
      "http://api.brain-map.org//api/v2/well_known_file_download/1026124216\n",
      "http://api.brain-map.org//api/v2/well_known_file_download/1026124603\n",
      "http://api.brain-map.org//api/v2/well_known_file_download/1026123685\n",
      "http://api.brain-map.org//api/v2/well_known_file_download/1026123877\n",
      "http://api.brain-map.org//api/v2/well_known_file_download/1026123377\n",
      "http://api.brain-map.org//api/v2/well_known_file_download/1026123651\n",
      "http://api.brain-map.org//api/v2/well_known_file_download/1026124702\n",
      "http://api.brain-map.org//api/v2/well_known_file_download/1026124793\n",
      "http://api.brain-map.org//api/v2/well_known_file_download/1026124884\n",
      "http://api.brain-map.org//api/v2/well_known_file_download/1026124569\n",
      "http://api.brain-map.org//api/v2/well_known_file_download/1026124500\n",
      "http://api.brain-map.org//api/v2/well_known_file_download/1026124293\n",
      "http://api.brain-map.org//api/v2/well_known_file_download/1026124194\n",
      "http://api.brain-map.org//api/v2/well_known_file_download/1026124517\n",
      "http://api.brain-map.org//api/v2/well_known_file_download/1026124918\n",
      "http://api.brain-map.org//api/v2/well_known_file_download/1026124152\n",
      "http://api.brain-map.org//api/v2/well_known_file_download/1026124109\n",
      "http://api.brain-map.org//api/v2/well_known_file_download/1026124348\n",
      "http://api.brain-map.org//api/v2/well_known_file_download/1026124625\n",
      "http://api.brain-map.org//api/v2/well_known_file_download/1026124179\n",
      "http://api.brain-map.org//api/v2/well_known_file_download/1026124007\n",
      "http://api.brain-map.org//api/v2/well_known_file_download/1026124309\n",
      "http://api.brain-map.org//api/v2/well_known_file_download/1026123803\n",
      "http://api.brain-map.org//api/v2/well_known_file_download/1026124405\n",
      "http://api.brain-map.org//api/v2/well_known_file_download/1026123847\n",
      "http://api.brain-map.org//api/v2/well_known_file_download/1026124645\n",
      "http://api.brain-map.org//api/v2/well_known_file_download/1026124545\n",
      "http://api.brain-map.org//api/v2/well_known_file_download/1026124759\n",
      "http://api.brain-map.org//api/v2/well_known_file_download/1026124804\n",
      "http://api.brain-map.org//api/v2/well_known_file_download/1026124743\n",
      "http://api.brain-map.org//api/v2/well_known_file_download/1026125021\n",
      "http://api.brain-map.org//api/v2/well_known_file_download/1026124840\n",
      "http://api.brain-map.org//api/v2/well_known_file_download/1026124085\n",
      "http://api.brain-map.org//api/v2/well_known_file_download/1026124368\n",
      "http://api.brain-map.org//api/v2/well_known_file_download/1026123824\n",
      "http://api.brain-map.org//api/v2/well_known_file_download/1026123625\n",
      "http://api.brain-map.org//api/v2/well_known_file_download/1026123787\n",
      "http://api.brain-map.org//api/v2/well_known_file_download/1026123519\n",
      "http://api.brain-map.org//api/v2/well_known_file_download/1026123725\n",
      "http://api.brain-map.org//api/v2/well_known_file_download/1026122596\n",
      "http://api.brain-map.org//api/v2/well_known_file_download/1026124422\n",
      "http://api.brain-map.org//api/v2/well_known_file_download/1026123943\n"
     ]
    }
   ],
   "source": [
    "def retrieve_link(session_id):\n",
    "    \n",
    "    well_known_files = build_and_execute(\n",
    "        (\n",
    "        \"criteria=model::WellKnownFile\"\n",
    "        \",rma::criteria,well_known_file_type[name$eq'EcephysNwb']\"\n",
    "        \"[attachable_type$eq'EcephysSession']\"\n",
    "        r\"[attachable_id$eq{{session_id}}]\"\n",
    "        ),\n",
    "        engine=rma_engine.get_rma_tabular, \n",
    "        session_id=session_id\n",
    "    )\n",
    "    \n",
    "    return 'http://api.brain-map.org/' + well_known_files['download_link'].iloc[0]\n",
    "\n",
    "download_links = [retrieve_link(session_id) for session_id in sessions.index.values]\n",
    "\n",
    "_ = [print(link) for link in download_links]"
   ]
  },
  {
   "cell_type": "markdown",
   "id": "48f4fbba",
   "metadata": {
    "papermill": {
     "duration": 0.142373,
     "end_time": "2023-11-30T06:37:13.621529",
     "exception": false,
     "start_time": "2023-11-30T06:37:13.479156",
     "status": "completed"
    },
    "pycharm": {
     "name": "#%% md\n"
    },
    "tags": []
   },
   "source": [
    "`download_links` is a list of 58 links that can be used to download the NWB files for all available sessions. Clicking on the links above should start the download automatically.\n",
    "\n",
    "Please keep in mind that you'll have to move these files to the appropriate sub-directory once the download is complete. The `EcephysProjectCache` object expects the following directory structure:\n",
    "\n",
    "```\n",
    "cache_dir/\n",
    "+-- manifest.json               \n",
    "+-- session_<id>/    \n",
    "¦   +-- session_<id>.nwb\n",
    "+-- session_<id>/\n",
    "¦   +-- session_<id>.nwb\n",
    "+-- session_<id>/\n",
    "¦   +-- session_<id>.nwb\n",
    "\n",
    "```\n",
    "\n",
    "If you aren't interested in using the `EcephysProjectCache` object to keep track of what you've downloaded, you can create a `session` object just by passing a path to an NWB file:"
   ]
  },
  {
   "cell_type": "code",
   "execution_count": 21,
   "id": "19129285",
   "metadata": {
    "execution": {
     "iopub.execute_input": "2023-11-30T06:37:13.913366Z",
     "iopub.status.busy": "2023-11-30T06:37:13.913094Z",
     "iopub.status.idle": "2023-11-30T06:37:13.916707Z",
     "shell.execute_reply": "2023-11-30T06:37:13.916151Z"
    },
    "papermill": {
     "duration": 0.136313,
     "end_time": "2023-11-30T06:37:13.917966",
     "exception": false,
     "start_time": "2023-11-30T06:37:13.781653",
     "status": "completed"
    },
    "pycharm": {
     "name": "#%%\n"
    },
    "tags": []
   },
   "outputs": [],
   "source": [
    "from allensdk.brain_observatory.ecephys.ecephys_session import EcephysSession\n",
    "\n",
    "# nwb_path = '/mnt/nvme0/ecephys_cache_dir_10_31/session_721123822/session_721123822.nwb'\n",
    "\n",
    "# session = EcephysSession.from_nwb_path(nwb_path, api_kwargs={\n",
    "#         \"amplitude_cutoff_maximum\": np.inf,\n",
    "#         \"presence_ratio_minimum\": -np.inf,\n",
    "#         \"isi_violations_maximum\": np.inf\n",
    "#     })"
   ]
  },
  {
   "cell_type": "markdown",
   "id": "c99ad34f",
   "metadata": {
    "papermill": {
     "duration": 0.131136,
     "end_time": "2023-11-30T06:37:14.180603",
     "exception": false,
     "start_time": "2023-11-30T06:37:14.049467",
     "status": "completed"
    },
    "pycharm": {
     "name": "#%% md\n"
    },
    "tags": []
   },
   "source": [
    "This will load the data for one session, without applying the default unit quality metric filters. Everything will be available except the LFP data, because the `get_lfp()` method can only find the associated LFP files if you're using the `EcephysProjectCache` object.\n",
    "\n",
    "To obtain similar links for the LFP files, you can use the following code:"
   ]
  },
  {
   "cell_type": "code",
   "execution_count": 22,
   "id": "28a3b1de",
   "metadata": {
    "execution": {
     "iopub.execute_input": "2023-11-30T06:37:14.442979Z",
     "iopub.status.busy": "2023-11-30T06:37:14.442721Z",
     "iopub.status.idle": "2023-11-30T06:38:06.702943Z",
     "shell.execute_reply": "2023-11-30T06:38:06.702240Z"
    },
    "papermill": {
     "duration": 52.526123,
     "end_time": "2023-11-30T06:38:06.837588",
     "exception": false,
     "start_time": "2023-11-30T06:37:14.311465",
     "status": "completed"
    },
    "pycharm": {
     "name": "#%%\n"
    },
    "tags": []
   },
   "outputs": [
    {
     "name": "stdout",
     "output_type": "stream",
     "text": [
      "http://api.brain-map.org//api/v2/well_known_file_download/1026124040\n",
      "http://api.brain-map.org//api/v2/well_known_file_download/1026124036\n",
      "http://api.brain-map.org//api/v2/well_known_file_download/1026124038\n",
      "http://api.brain-map.org//api/v2/well_known_file_download/1026124042\n",
      "http://api.brain-map.org//api/v2/well_known_file_download/1026124044\n",
      "http://api.brain-map.org//api/v2/well_known_file_download/1026124046\n",
      "http://api.brain-map.org//api/v2/well_known_file_download/1026123601\n",
      "http://api.brain-map.org//api/v2/well_known_file_download/1026123603\n",
      "http://api.brain-map.org//api/v2/well_known_file_download/1026123605\n",
      "http://api.brain-map.org//api/v2/well_known_file_download/1026123607\n",
      "http://api.brain-map.org//api/v2/well_known_file_download/1026123609\n",
      "http://api.brain-map.org//api/v2/well_known_file_download/1026123539\n",
      "http://api.brain-map.org//api/v2/well_known_file_download/1026123543\n",
      "http://api.brain-map.org//api/v2/well_known_file_download/1026123550\n",
      "http://api.brain-map.org//api/v2/well_known_file_download/1026123546\n",
      "http://api.brain-map.org//api/v2/well_known_file_download/1026123541\n",
      "http://api.brain-map.org//api/v2/well_known_file_download/1026123548\n",
      "http://api.brain-map.org//api/v2/well_known_file_download/1026124433\n",
      "http://api.brain-map.org//api/v2/well_known_file_download/1026124436\n",
      "http://api.brain-map.org//api/v2/well_known_file_download/1026124439\n",
      "http://api.brain-map.org//api/v2/well_known_file_download/1026124442\n",
      "http://api.brain-map.org//api/v2/well_known_file_download/1026124446\n",
      "http://api.brain-map.org//api/v2/well_known_file_download/1026124448\n",
      "http://api.brain-map.org//api/v2/well_known_file_download/1026124728\n",
      "http://api.brain-map.org//api/v2/well_known_file_download/1026124726\n",
      "http://api.brain-map.org//api/v2/well_known_file_download/1026124730\n",
      "http://api.brain-map.org//api/v2/well_known_file_download/1026124732\n",
      "http://api.brain-map.org//api/v2/well_known_file_download/1026124737\n",
      "http://api.brain-map.org//api/v2/well_known_file_download/1026124735\n",
      "http://api.brain-map.org//api/v2/well_known_file_download/1026123901\n",
      "http://api.brain-map.org//api/v2/well_known_file_download/1026123909\n",
      "http://api.brain-map.org//api/v2/well_known_file_download/1026123907\n",
      "http://api.brain-map.org//api/v2/well_known_file_download/1026123905\n",
      "http://api.brain-map.org//api/v2/well_known_file_download/1026123903\n",
      "http://api.brain-map.org//api/v2/well_known_file_download/1026123899\n",
      "http://api.brain-map.org//api/v2/well_known_file_download/1026124867\n",
      "http://api.brain-map.org//api/v2/well_known_file_download/1026124871\n",
      "http://api.brain-map.org//api/v2/well_known_file_download/1026124873\n",
      "http://api.brain-map.org//api/v2/well_known_file_download/1026124875\n",
      "http://api.brain-map.org//api/v2/well_known_file_download/1026124869\n",
      "http://api.brain-map.org//api/v2/well_known_file_download/1026124865\n",
      "http://api.brain-map.org//api/v2/well_known_file_download/1026123993\n",
      "http://api.brain-map.org//api/v2/well_known_file_download/1026123997\n",
      "http://api.brain-map.org//api/v2/well_known_file_download/1026124001\n",
      "http://api.brain-map.org//api/v2/well_known_file_download/1026123999\n",
      "http://api.brain-map.org//api/v2/well_known_file_download/1026123995\n",
      "http://api.brain-map.org//api/v2/well_known_file_download/1026123991\n",
      "http://api.brain-map.org//api/v2/well_known_file_download/1026123702\n",
      "http://api.brain-map.org//api/v2/well_known_file_download/1026123704\n",
      "http://api.brain-map.org//api/v2/well_known_file_download/1026123700\n",
      "http://api.brain-map.org//api/v2/well_known_file_download/1026123706\n",
      "http://api.brain-map.org//api/v2/well_known_file_download/1026123710\n",
      "http://api.brain-map.org//api/v2/well_known_file_download/1026123708\n",
      "http://api.brain-map.org//api/v2/well_known_file_download/1026124330\n",
      "http://api.brain-map.org//api/v2/well_known_file_download/1026124334\n",
      "http://api.brain-map.org//api/v2/well_known_file_download/1026124337\n",
      "http://api.brain-map.org//api/v2/well_known_file_download/1026124332\n",
      "http://api.brain-map.org//api/v2/well_known_file_download/1026124328\n",
      "http://api.brain-map.org//api/v2/well_known_file_download/1026124229\n",
      "http://api.brain-map.org//api/v2/well_known_file_download/1026124227\n",
      "http://api.brain-map.org//api/v2/well_known_file_download/1026124225\n",
      "http://api.brain-map.org//api/v2/well_known_file_download/1026124221\n",
      "http://api.brain-map.org//api/v2/well_known_file_download/1026124223\n",
      "http://api.brain-map.org//api/v2/well_known_file_download/1026124219\n",
      "http://api.brain-map.org//api/v2/well_known_file_download/1026124697\n",
      "http://api.brain-map.org//api/v2/well_known_file_download/1026124695\n",
      "http://api.brain-map.org//api/v2/well_known_file_download/1026124688\n",
      "http://api.brain-map.org//api/v2/well_known_file_download/1026124686\n",
      "http://api.brain-map.org//api/v2/well_known_file_download/1026124690\n",
      "http://api.brain-map.org//api/v2/well_known_file_download/1026124693\n",
      "http://api.brain-map.org//api/v2/well_known_file_download/1026124268\n",
      "http://api.brain-map.org//api/v2/well_known_file_download/1026124266\n",
      "http://api.brain-map.org//api/v2/well_known_file_download/1026124264\n",
      "http://api.brain-map.org//api/v2/well_known_file_download/1026124270\n",
      "http://api.brain-map.org//api/v2/well_known_file_download/1026124272\n",
      "http://api.brain-map.org//api/v2/well_known_file_download/1026124274\n",
      "http://api.brain-map.org//api/v2/well_known_file_download/1026124888\n",
      "http://api.brain-map.org//api/v2/well_known_file_download/1026124890\n",
      "http://api.brain-map.org//api/v2/well_known_file_download/1026124886\n",
      "http://api.brain-map.org//api/v2/well_known_file_download/1026124892\n",
      "http://api.brain-map.org//api/v2/well_known_file_download/1026124894\n",
      "http://api.brain-map.org//api/v2/well_known_file_download/1026124803\n",
      "http://api.brain-map.org//api/v2/well_known_file_download/1026124799\n",
      "http://api.brain-map.org//api/v2/well_known_file_download/1026124795\n",
      "http://api.brain-map.org//api/v2/well_known_file_download/1026124801\n",
      "http://api.brain-map.org//api/v2/well_known_file_download/1026124797\n",
      "http://api.brain-map.org//api/v2/well_known_file_download/1026124806\n",
      "http://api.brain-map.org//api/v2/well_known_file_download/1026124571\n",
      "http://api.brain-map.org//api/v2/well_known_file_download/1026124575\n",
      "http://api.brain-map.org//api/v2/well_known_file_download/1026124579\n",
      "http://api.brain-map.org//api/v2/well_known_file_download/1026124577\n",
      "http://api.brain-map.org//api/v2/well_known_file_download/1026124582\n",
      "http://api.brain-map.org//api/v2/well_known_file_download/1026124573\n",
      "http://api.brain-map.org//api/v2/well_known_file_download/1026123975\n",
      "http://api.brain-map.org//api/v2/well_known_file_download/1026123978\n",
      "http://api.brain-map.org//api/v2/well_known_file_download/1026123973\n",
      "http://api.brain-map.org//api/v2/well_known_file_download/1026123966\n",
      "http://api.brain-map.org//api/v2/well_known_file_download/1026123971\n",
      "http://api.brain-map.org//api/v2/well_known_file_download/1026123969\n",
      "http://api.brain-map.org//api/v2/well_known_file_download/1026124614\n",
      "http://api.brain-map.org//api/v2/well_known_file_download/1026124612\n",
      "http://api.brain-map.org//api/v2/well_known_file_download/1026124616\n",
      "http://api.brain-map.org//api/v2/well_known_file_download/1026124610\n",
      "http://api.brain-map.org//api/v2/well_known_file_download/1026124607\n",
      "http://api.brain-map.org//api/v2/well_known_file_download/1026124605\n",
      "http://api.brain-map.org//api/v2/well_known_file_download/1026123385\n",
      "http://api.brain-map.org//api/v2/well_known_file_download/1026123383\n",
      "http://api.brain-map.org//api/v2/well_known_file_download/1026123379\n",
      "http://api.brain-map.org//api/v2/well_known_file_download/1026123381\n",
      "http://api.brain-map.org//api/v2/well_known_file_download/1026124248\n",
      "http://api.brain-map.org//api/v2/well_known_file_download/1026124246\n",
      "http://api.brain-map.org//api/v2/well_known_file_download/1026124252\n",
      "http://api.brain-map.org//api/v2/well_known_file_download/1026124250\n",
      "http://api.brain-map.org//api/v2/well_known_file_download/1026124254\n",
      "http://api.brain-map.org//api/v2/well_known_file_download/1026124244\n",
      "http://api.brain-map.org//api/v2/well_known_file_download/1026124709\n",
      "http://api.brain-map.org//api/v2/well_known_file_download/1026124707\n",
      "http://api.brain-map.org//api/v2/well_known_file_download/1026124704\n",
      "http://api.brain-map.org//api/v2/well_known_file_download/1026124711\n",
      "http://api.brain-map.org//api/v2/well_known_file_download/1026124713\n",
      "http://api.brain-map.org//api/v2/well_known_file_download/1026124715\n",
      "http://api.brain-map.org//api/v2/well_known_file_download/1026123691\n",
      "http://api.brain-map.org//api/v2/well_known_file_download/1026123695\n",
      "http://api.brain-map.org//api/v2/well_known_file_download/1026123693\n",
      "http://api.brain-map.org//api/v2/well_known_file_download/1026123689\n",
      "http://api.brain-map.org//api/v2/well_known_file_download/1026123687\n",
      "http://api.brain-map.org//api/v2/well_known_file_download/1026124073\n",
      "http://api.brain-map.org//api/v2/well_known_file_download/1026124075\n",
      "http://api.brain-map.org//api/v2/well_known_file_download/1026124071\n",
      "http://api.brain-map.org//api/v2/well_known_file_download/1026124082\n",
      "http://api.brain-map.org//api/v2/well_known_file_download/1026124079\n",
      "http://api.brain-map.org//api/v2/well_known_file_download/1026124077\n",
      "http://api.brain-map.org//api/v2/well_known_file_download/1026123879\n",
      "http://api.brain-map.org//api/v2/well_known_file_download/1026123881\n",
      "http://api.brain-map.org//api/v2/well_known_file_download/1026123883\n",
      "http://api.brain-map.org//api/v2/well_known_file_download/1026123885\n",
      "http://api.brain-map.org//api/v2/well_known_file_download/1026124205\n",
      "http://api.brain-map.org//api/v2/well_known_file_download/1026124208\n",
      "http://api.brain-map.org//api/v2/well_known_file_download/1026124199\n",
      "http://api.brain-map.org//api/v2/well_known_file_download/1026124197\n",
      "http://api.brain-map.org//api/v2/well_known_file_download/1026124201\n",
      "http://api.brain-map.org//api/v2/well_known_file_download/1026124203\n",
      "http://api.brain-map.org//api/v2/well_known_file_download/1026124507\n",
      "http://api.brain-map.org//api/v2/well_known_file_download/1026124504\n",
      "http://api.brain-map.org//api/v2/well_known_file_download/1026124502\n",
      "http://api.brain-map.org//api/v2/well_known_file_download/1026124509\n",
      "file for probe 773463023 not found\n",
      "http://api.brain-map.org//api/v2/well_known_file_download/1026124511\n",
      "http://api.brain-map.org//api/v2/well_known_file_download/1026124519\n",
      "http://api.brain-map.org//api/v2/well_known_file_download/1026124523\n",
      "http://api.brain-map.org//api/v2/well_known_file_download/1026124527\n",
      "http://api.brain-map.org//api/v2/well_known_file_download/1026124525\n",
      "http://api.brain-map.org//api/v2/well_known_file_download/1026124521\n",
      "http://api.brain-map.org//api/v2/well_known_file_download/1026124529\n",
      "http://api.brain-map.org//api/v2/well_known_file_download/1026124299\n",
      "http://api.brain-map.org//api/v2/well_known_file_download/1026124297\n",
      "http://api.brain-map.org//api/v2/well_known_file_download/1026124295\n",
      "http://api.brain-map.org//api/v2/well_known_file_download/1026124301\n",
      "http://api.brain-map.org//api/v2/well_known_file_download/1026124303\n",
      "http://api.brain-map.org//api/v2/well_known_file_download/1026124305\n",
      "http://api.brain-map.org//api/v2/well_known_file_download/1026124922\n",
      "http://api.brain-map.org//api/v2/well_known_file_download/1026124924\n",
      "http://api.brain-map.org//api/v2/well_known_file_download/1026124926\n",
      "http://api.brain-map.org//api/v2/well_known_file_download/1026124928\n",
      "http://api.brain-map.org//api/v2/well_known_file_download/1026124930\n",
      "http://api.brain-map.org//api/v2/well_known_file_download/1026124920\n",
      "http://api.brain-map.org//api/v2/well_known_file_download/1026124156\n",
      "http://api.brain-map.org//api/v2/well_known_file_download/1026124164\n",
      "http://api.brain-map.org//api/v2/well_known_file_download/1026124160\n",
      "http://api.brain-map.org//api/v2/well_known_file_download/1026124162\n",
      "http://api.brain-map.org//api/v2/well_known_file_download/1026124158\n",
      "http://api.brain-map.org//api/v2/well_known_file_download/1026124154\n",
      "http://api.brain-map.org//api/v2/well_known_file_download/1026124415\n",
      "http://api.brain-map.org//api/v2/well_known_file_download/1026124413\n",
      "http://api.brain-map.org//api/v2/well_known_file_download/1026124417\n",
      "http://api.brain-map.org//api/v2/well_known_file_download/1026124409\n",
      "http://api.brain-map.org//api/v2/well_known_file_download/1026124411\n",
      "http://api.brain-map.org//api/v2/well_known_file_download/1026124407\n",
      "http://api.brain-map.org//api/v2/well_known_file_download/1026124311\n",
      "http://api.brain-map.org//api/v2/well_known_file_download/1026124313\n",
      "http://api.brain-map.org//api/v2/well_known_file_download/1026124319\n",
      "http://api.brain-map.org//api/v2/well_known_file_download/1026124317\n",
      "http://api.brain-map.org//api/v2/well_known_file_download/1026124321\n",
      "http://api.brain-map.org//api/v2/well_known_file_download/1026124315\n",
      "http://api.brain-map.org//api/v2/well_known_file_download/1026124350\n",
      "http://api.brain-map.org//api/v2/well_known_file_download/1026124354\n",
      "http://api.brain-map.org//api/v2/well_known_file_download/1026124356\n",
      "http://api.brain-map.org//api/v2/well_known_file_download/1026124358\n",
      "http://api.brain-map.org//api/v2/well_known_file_download/1026124360\n",
      "http://api.brain-map.org//api/v2/well_known_file_download/1026124352\n",
      "http://api.brain-map.org//api/v2/well_known_file_download/1026124627\n",
      "http://api.brain-map.org//api/v2/well_known_file_download/1026124631\n",
      "http://api.brain-map.org//api/v2/well_known_file_download/1026124629\n",
      "http://api.brain-map.org//api/v2/well_known_file_download/1026124634\n",
      "http://api.brain-map.org//api/v2/well_known_file_download/1026124638\n",
      "http://api.brain-map.org//api/v2/well_known_file_download/1026124636\n",
      "http://api.brain-map.org//api/v2/well_known_file_download/1026123805\n",
      "http://api.brain-map.org//api/v2/well_known_file_download/1026123809\n",
      "http://api.brain-map.org//api/v2/well_known_file_download/1026123807\n",
      "http://api.brain-map.org//api/v2/well_known_file_download/1026123811\n",
      "http://api.brain-map.org//api/v2/well_known_file_download/1026123813\n",
      "http://api.brain-map.org//api/v2/well_known_file_download/1026123815\n",
      "http://api.brain-map.org//api/v2/well_known_file_download/1026124183\n",
      "http://api.brain-map.org//api/v2/well_known_file_download/1026124187\n",
      "http://api.brain-map.org//api/v2/well_known_file_download/1026124185\n",
      "http://api.brain-map.org//api/v2/well_known_file_download/1026124181\n",
      "http://api.brain-map.org//api/v2/well_known_file_download/1026124189\n",
      "http://api.brain-map.org//api/v2/well_known_file_download/1026124191\n",
      "http://api.brain-map.org//api/v2/well_known_file_download/1026124013\n",
      "http://api.brain-map.org//api/v2/well_known_file_download/1026124011\n",
      "http://api.brain-map.org//api/v2/well_known_file_download/1026124009\n",
      "http://api.brain-map.org//api/v2/well_known_file_download/1026124015\n",
      "http://api.brain-map.org//api/v2/well_known_file_download/1026124017\n",
      "http://api.brain-map.org//api/v2/well_known_file_download/1026124019\n",
      "http://api.brain-map.org//api/v2/well_known_file_download/1026124111\n",
      "http://api.brain-map.org//api/v2/well_known_file_download/1026124116\n",
      "http://api.brain-map.org//api/v2/well_known_file_download/1026124114\n",
      "http://api.brain-map.org//api/v2/well_known_file_download/1026124118\n",
      "http://api.brain-map.org//api/v2/well_known_file_download/1026124120\n",
      "http://api.brain-map.org//api/v2/well_known_file_download/1026124123\n",
      "http://api.brain-map.org//api/v2/well_known_file_download/1026124754\n",
      "http://api.brain-map.org//api/v2/well_known_file_download/1026124748\n",
      "http://api.brain-map.org//api/v2/well_known_file_download/1026124746\n",
      "http://api.brain-map.org//api/v2/well_known_file_download/1026124752\n",
      "http://api.brain-map.org//api/v2/well_known_file_download/1026124756\n",
      "http://api.brain-map.org//api/v2/well_known_file_download/1026124750\n",
      "http://api.brain-map.org//api/v2/well_known_file_download/1026123849\n",
      "http://api.brain-map.org//api/v2/well_known_file_download/1026123857\n",
      "http://api.brain-map.org//api/v2/well_known_file_download/1026123853\n",
      "http://api.brain-map.org//api/v2/well_known_file_download/1026123851\n",
      "http://api.brain-map.org//api/v2/well_known_file_download/1026123859\n",
      "http://api.brain-map.org//api/v2/well_known_file_download/1026123855\n",
      "http://api.brain-map.org//api/v2/well_known_file_download/1026124653\n",
      "http://api.brain-map.org//api/v2/well_known_file_download/1026124651\n",
      "http://api.brain-map.org//api/v2/well_known_file_download/1026124657\n",
      "http://api.brain-map.org//api/v2/well_known_file_download/1026124647\n",
      "http://api.brain-map.org//api/v2/well_known_file_download/1026124649\n",
      "http://api.brain-map.org//api/v2/well_known_file_download/1026124655\n",
      "http://api.brain-map.org//api/v2/well_known_file_download/1026124553\n",
      "http://api.brain-map.org//api/v2/well_known_file_download/1026124551\n",
      "http://api.brain-map.org//api/v2/well_known_file_download/1026124549\n",
      "http://api.brain-map.org//api/v2/well_known_file_download/1026124547\n",
      "http://api.brain-map.org//api/v2/well_known_file_download/1026124555\n",
      "http://api.brain-map.org//api/v2/well_known_file_download/1026124557\n",
      "http://api.brain-map.org//api/v2/well_known_file_download/1026125023\n",
      "http://api.brain-map.org//api/v2/well_known_file_download/1026125027\n",
      "http://api.brain-map.org//api/v2/well_known_file_download/1026125025\n",
      "http://api.brain-map.org//api/v2/well_known_file_download/1026125029\n",
      "http://api.brain-map.org//api/v2/well_known_file_download/1026125031\n",
      "http://api.brain-map.org//api/v2/well_known_file_download/1026125034\n",
      "http://api.brain-map.org//api/v2/well_known_file_download/1026124814\n",
      "http://api.brain-map.org//api/v2/well_known_file_download/1026124808\n",
      "http://api.brain-map.org//api/v2/well_known_file_download/1026124811\n",
      "http://api.brain-map.org//api/v2/well_known_file_download/1026124816\n",
      "http://api.brain-map.org//api/v2/well_known_file_download/1026124820\n",
      "http://api.brain-map.org//api/v2/well_known_file_download/1026124818\n",
      "http://api.brain-map.org//api/v2/well_known_file_download/1026123659\n",
      "http://api.brain-map.org//api/v2/well_known_file_download/1026123657\n",
      "http://api.brain-map.org//api/v2/well_known_file_download/1026123653\n",
      "http://api.brain-map.org//api/v2/well_known_file_download/1026123655\n",
      "http://api.brain-map.org//api/v2/well_known_file_download/1026123661\n",
      "http://api.brain-map.org//api/v2/well_known_file_download/1026124481\n",
      "http://api.brain-map.org//api/v2/well_known_file_download/1026124479\n",
      "http://api.brain-map.org//api/v2/well_known_file_download/1026124471\n",
      "http://api.brain-map.org//api/v2/well_known_file_download/1026124473\n",
      "http://api.brain-map.org//api/v2/well_known_file_download/1026124475\n",
      "http://api.brain-map.org//api/v2/well_known_file_download/1026124477\n",
      "http://api.brain-map.org//api/v2/well_known_file_download/1026124761\n",
      "http://api.brain-map.org//api/v2/well_known_file_download/1026124765\n",
      "http://api.brain-map.org//api/v2/well_known_file_download/1026124763\n",
      "http://api.brain-map.org//api/v2/well_known_file_download/1026124767\n",
      "http://api.brain-map.org//api/v2/well_known_file_download/1026124769\n",
      "http://api.brain-map.org//api/v2/well_known_file_download/1026124771\n",
      "http://api.brain-map.org//api/v2/well_known_file_download/1026124097\n",
      "http://api.brain-map.org//api/v2/well_known_file_download/1026124095\n",
      "http://api.brain-map.org//api/v2/well_known_file_download/1026124093\n",
      "http://api.brain-map.org//api/v2/well_known_file_download/1026124088\n",
      "http://api.brain-map.org//api/v2/well_known_file_download/1026124091\n",
      "http://api.brain-map.org//api/v2/well_known_file_download/1026123830\n",
      "http://api.brain-map.org//api/v2/well_known_file_download/1026123828\n",
      "http://api.brain-map.org//api/v2/well_known_file_download/1026123834\n",
      "http://api.brain-map.org//api/v2/well_known_file_download/1026123832\n",
      "http://api.brain-map.org//api/v2/well_known_file_download/1026123826\n",
      "http://api.brain-map.org//api/v2/well_known_file_download/1026123635\n",
      "http://api.brain-map.org//api/v2/well_known_file_download/1026123631\n",
      "http://api.brain-map.org//api/v2/well_known_file_download/1026123629\n",
      "http://api.brain-map.org//api/v2/well_known_file_download/1026123633\n",
      "http://api.brain-map.org//api/v2/well_known_file_download/1026123627\n",
      "http://api.brain-map.org//api/v2/well_known_file_download/1026123791\n",
      "http://api.brain-map.org//api/v2/well_known_file_download/1026123793\n",
      "http://api.brain-map.org//api/v2/well_known_file_download/1026123795\n",
      "http://api.brain-map.org//api/v2/well_known_file_download/1026123789\n",
      "http://api.brain-map.org//api/v2/well_known_file_download/1026123797\n",
      "file for probe 832810584 not found\n",
      "http://api.brain-map.org//api/v2/well_known_file_download/1026124842\n",
      "http://api.brain-map.org//api/v2/well_known_file_download/1026124846\n",
      "http://api.brain-map.org//api/v2/well_known_file_download/1026124844\n",
      "http://api.brain-map.org//api/v2/well_known_file_download/1026124848\n",
      "http://api.brain-map.org//api/v2/well_known_file_download/1026124850\n",
      "http://api.brain-map.org//api/v2/well_known_file_download/1026124374\n",
      "http://api.brain-map.org//api/v2/well_known_file_download/1026124370\n",
      "http://api.brain-map.org//api/v2/well_known_file_download/1026124378\n",
      "http://api.brain-map.org//api/v2/well_known_file_download/1026124376\n",
      "http://api.brain-map.org//api/v2/well_known_file_download/1026124372\n",
      "http://api.brain-map.org//api/v2/well_known_file_download/1026123521\n",
      "http://api.brain-map.org//api/v2/well_known_file_download/1026123524\n",
      "http://api.brain-map.org//api/v2/well_known_file_download/1026123526\n",
      "http://api.brain-map.org//api/v2/well_known_file_download/1026123528\n",
      "http://api.brain-map.org//api/v2/well_known_file_download/1026123530\n",
      "http://api.brain-map.org//api/v2/well_known_file_download/1026124428\n",
      "http://api.brain-map.org//api/v2/well_known_file_download/1026124431\n",
      "http://api.brain-map.org//api/v2/well_known_file_download/1026124426\n",
      "http://api.brain-map.org//api/v2/well_known_file_download/1026124424\n",
      "http://api.brain-map.org//api/v2/well_known_file_download/1026124437\n",
      "http://api.brain-map.org//api/v2/well_known_file_download/1026124443\n",
      "http://api.brain-map.org//api/v2/well_known_file_download/1026123729\n",
      "http://api.brain-map.org//api/v2/well_known_file_download/1026123733\n",
      "http://api.brain-map.org//api/v2/well_known_file_download/1026123731\n",
      "http://api.brain-map.org//api/v2/well_known_file_download/1026123727\n",
      "http://api.brain-map.org//api/v2/well_known_file_download/1026123738\n",
      "http://api.brain-map.org//api/v2/well_known_file_download/1026123735\n",
      "file for probe 846401828 not found\n",
      "file for probe 846401830 not found\n",
      "file for probe 846401834 not found\n",
      "file for probe 846401838 not found\n",
      "file for probe 846401841 not found\n",
      "http://api.brain-map.org//api/v2/well_known_file_download/1026123956\n",
      "http://api.brain-map.org//api/v2/well_known_file_download/1026123951\n",
      "http://api.brain-map.org//api/v2/well_known_file_download/1026123953\n",
      "http://api.brain-map.org//api/v2/well_known_file_download/1026123949\n",
      "http://api.brain-map.org//api/v2/well_known_file_download/1026123945\n",
      "http://api.brain-map.org//api/v2/well_known_file_download/1026123947\n"
     ]
    }
   ],
   "source": [
    "def retrieve_lfp_link(probe_id):\n",
    "\n",
    "    well_known_files = build_and_execute(\n",
    "        (\n",
    "            \"criteria=model::WellKnownFile\"\n",
    "            \",rma::criteria,well_known_file_type[name$eq'EcephysLfpNwb']\"\n",
    "            \"[attachable_type$eq'EcephysProbe']\"\n",
    "            r\"[attachable_id$eq{{probe_id}}]\"\n",
    "        ),\n",
    "        engine=rma_engine.get_rma_tabular, \n",
    "        probe_id=probe_id\n",
    "    )\n",
    "\n",
    "    if well_known_files.shape[0] != 1:\n",
    "        return 'file for probe ' + str(probe_id) + ' not found'\n",
    "        \n",
    "    return 'http://api.brain-map.org/' + well_known_files.loc[0, \"download_link\"]\n",
    "\n",
    "probes = cache.get_probes()\n",
    "\n",
    "download_links = [retrieve_lfp_link(probe_id) for probe_id in probes.index.values]\n",
    "\n",
    "_ = [print(link) for link in download_links]"
   ]
  }
 ],
 "metadata": {
  "celltoolbar": "Tags",
  "kernelspec": {
   "display_name": "allensdk",
   "language": "python",
   "name": "allensdk"
  },
  "language_info": {
   "codemirror_mode": {
    "name": "ipython",
    "version": 3
   },
   "file_extension": ".py",
   "mimetype": "text/x-python",
   "name": "python",
   "nbconvert_exporter": "python",
   "pygments_lexer": "ipython3",
   "version": "3.8.19"
  },
  "papermill": {
   "default_parameters": {},
   "duration": 885.213977,
   "end_time": "2023-11-30T06:38:07.391317",
   "environment_variables": {},
   "exception": null,
   "input_path": "doc_template/examples_root/examples/nb/ecephys_data_access.ipynb",
   "output_path": "/tmp/tmpja7ncvq6/scratch_nb.ipynb",
   "parameters": {
    "DOWNLOAD_COMPLETE_DATASET": false,
    "output_dir": "/tmp/tmpja7ncvq6",
    "resources_dir": "/home/runner/work/AllenSDK/AllenSDK/allensdk/internal/notebooks/resources"
   },
   "start_time": "2023-11-30T06:23:22.177340",
   "version": "2.4.0"
  }
 },
 "nbformat": 4,
 "nbformat_minor": 5
}
