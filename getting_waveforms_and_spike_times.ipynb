{
 "cells": [
  {
   "cell_type": "markdown",
   "id": "4af47151",
   "metadata": {
    "papermill": {
     "duration": 0.007349,
     "end_time": "2023-11-30T06:23:22.921624",
     "exception": false,
     "start_time": "2023-11-30T06:23:22.914275",
     "status": "completed"
    },
    "pycharm": {
     "name": "#%% md\n"
    },
    "tags": []
   },
   "source": [
    "# Accessing Neuropixels Visual Coding Data\n",
    "\n",
    "## Tutorial overview\n",
    "\n",
    "This Jupyter notebook covers the various methods for accessing the Allen Institute Neuropixels Visual Coding dataset. We will go over how to request data, where it's stored, and what the various files contain.  If you're having trouble downloading the data, or you just want to know more about what's going on under the hood, this is a good place to start.\n",
    "\n",
    "Currently, we do not have a web interface for browsing through the available cells and experiments, as with the [two-photon imaging Visual Coding dataset](http://observatory.brain-map.org/visualcoding). Instead, the data must be retrieved through the AllenSDK (Python 3.6+), or via requests sent to [api.brain-map.org](http://mouse.brain-map.org/static/api).\n",
    "\n",
    "Functions related to data analysis will be covered in other tutorials. For a full list of available tutorials, see the [SDK documentation](https://allensdk.readthedocs.io/en/latest/visual_coding_neuropixels.html).\n",
    "\n",
    "## Options for data access\n",
    "\n",
    "The **`EcephysProjectCache` object of the AllenSDK** is the easiest way to interact with the data. This object abstracts away the details of on-disk file storage, and delivers the data to you as ready-to-analyze Python objects. The cache will automatically keep track of which files are stored locally, and will download additional files on an as-needed basis. Usually you won't need to worry about how these files are structured, but this tutorial will cover those details in case you want to analyze them without using the AllenSDK (e.g., in Matlab). This tutorial begins with <a href='#Using-the-AllenSDK-to-retrieve-data'>an introduction to this approach</a>.\n",
    "\n",
    "If you have an **Amazon Web Services (AWS)** account, you can use an `EcephysProjectCache` object to access the data via the Allen Brain Observatory Simple Storage Service (S3) bucket. This is an AWS Public Dataset located at `arn:aws:s3:::allen-brain-observatory` in region `us-west-2`. Launching a Jupyter notebook instance on AWS will allow you to access the complete dataset without having to download anything locally. This includes around 80 TB of raw data files, which are not accessible via the AllenSDK. The only drawback is that you'll need to pay for the time that your instance is running—but this can still be economical in many cases. A brief overview of this approach can be found <a href='#Accessing-data-on-AWS'>below</a>.\n",
    "\n",
    "A third option is to directly download the data via **api.brain-map.org**. This should be used only as a last resort if the other options are broken or are not available to you. Instructions for this can be found <a href='#Direct-download-via-api.brain-map.org'>at the end of this tutorial</a>."
   ]
  },
  {
   "cell_type": "markdown",
   "id": "87a7f7a8",
   "metadata": {
    "papermill": {
     "duration": 0.006367,
     "end_time": "2023-11-30T06:23:22.934556",
     "exception": false,
     "start_time": "2023-11-30T06:23:22.928189",
     "status": "completed"
    },
    "pycharm": {
     "name": "#%% md\n"
    },
    "tags": []
   },
   "source": [
    "## Using the AllenSDK to retrieve data"
   ]
  },
  {
   "cell_type": "markdown",
   "id": "fa74e2be",
   "metadata": {
    "papermill": {
     "duration": 0.006475,
     "end_time": "2023-11-30T06:23:22.947343",
     "exception": false,
     "start_time": "2023-11-30T06:23:22.940868",
     "status": "completed"
    },
    "pycharm": {
     "name": "#%% md\n"
    },
    "tags": []
   },
   "source": [
    "Most users will want to access data via the AllenSDK. This requires nothing more than a Python interpreter and some free disk space to store the data locally.\n",
    "\n",
    "How much data is there? If you want to download the complete dataset (58 experiments), you'll need 855 GB of space, split across the following files:\n",
    "\n",
    "1. CSV files containing information about sessions, probes, channels and units (58.1 MB)\n",
    "2. NWB files containing spike times, behavior data, and stimulus information for each session (146.5 GB total, min file size = 1.7 GB, max file size = 3.3 GB)\n",
    "3. NWB files containing LFP data for each probe (707 GB total, min file size = 0.9 GB, max file size = 2.7 GB)\n",
    "\n",
    "Before downloading the data, you must decide where the `manifest.json` file lives. This file serves as the map that guides the `EcephysProjectCache` object to the file locations.\n",
    "\n",
    "When you initialize a local cache for the first time, it will create the manifest file at the path that you specify. This file lives in the same directory as the rest of the data, so make sure you put it somewhere that has enough space available. \n",
    "\n",
    "When you need to access the data in subsequent analysis sessions, you should point the `EcephysProjectCache` object to an _existing_ `manifest.json` file; otherwise, it will try to re-download the data in a new location.\n",
    "\n",
    "To get started with this approach, first take care of the necessary imports:"
   ]
  },
  {
   "cell_type": "code",
   "execution_count": 1,
   "id": "8c3fba2b",
   "metadata": {
    "execution": {
     "iopub.execute_input": "2023-11-30T06:23:22.961105Z",
     "iopub.status.busy": "2023-11-30T06:23:22.960880Z",
     "iopub.status.idle": "2023-11-30T06:23:27.168628Z",
     "shell.execute_reply": "2023-11-30T06:23:27.167977Z"
    },
    "papermill": {
     "duration": 4.216733,
     "end_time": "2023-11-30T06:23:27.170380",
     "exception": false,
     "start_time": "2023-11-30T06:23:22.953647",
     "status": "completed"
    },
    "pycharm": {
     "name": "#%%\n"
    },
    "tags": []
   },
   "outputs": [
    {
     "name": "stderr",
     "output_type": "stream",
     "text": [
      "/opt/conda/envs/allensdk/lib/python3.9/site-packages/tqdm/auto.py:21: TqdmWarning: IProgress not found. Please update jupyter and ipywidgets. See https://ipywidgets.readthedocs.io/en/stable/user_install.html\n",
      "  from .autonotebook import tqdm as notebook_tqdm\n"
     ]
    }
   ],
   "source": [
    "import os\n",
    "import shutil\n",
    "import numpy as np\n",
    "import pandas as pd\n",
    "from pathlib import Path\n",
    "import matplotlib.pyplot as plt\n",
    "from allensdk.brain_observatory.ecephys.ecephys_project_cache import EcephysProjectCache"
   ]
  },
  {
   "cell_type": "markdown",
   "id": "9fe3b5b5",
   "metadata": {
    "papermill": {
     "duration": 0.006475,
     "end_time": "2023-11-30T06:23:27.183824",
     "exception": false,
     "start_time": "2023-11-30T06:23:27.177349",
     "status": "completed"
    },
    "pycharm": {
     "name": "#%% md\n"
    },
    "tags": []
   },
   "source": [
    "Next, we'll specify the location of the manifest file. If you're creating a cache for the first time, this file won't exist yet, but it _must_ be placed in an existing data directory. Remember to choose a location that has plenty of free space available."
   ]
  },
  {
   "cell_type": "code",
   "execution_count": 2,
   "id": "ed4b9fe8",
   "metadata": {
    "execution": {
     "iopub.execute_input": "2023-11-30T06:23:27.198375Z",
     "iopub.status.busy": "2023-11-30T06:23:27.197665Z",
     "iopub.status.idle": "2023-11-30T06:23:27.201149Z",
     "shell.execute_reply": "2023-11-30T06:23:27.200579Z"
    },
    "papermill": {
     "duration": 0.012164,
     "end_time": "2023-11-30T06:23:27.202538",
     "exception": false,
     "start_time": "2023-11-30T06:23:27.190374",
     "status": "completed"
    },
    "pycharm": {
     "name": "#%%\n"
    },
    "tags": [
     "parameters"
    ]
   },
   "outputs": [],
   "source": [
    "output_dir = './local1/ecephys_cache_dir' # must be updated to a valid directory in your filesystem\n",
    "DOWNLOAD_COMPLETE_DATASET = True"
   ]
  },
  {
   "cell_type": "code",
   "execution_count": 3,
   "id": "00bd7b08",
   "metadata": {
    "execution": {
     "iopub.execute_input": "2023-11-30T06:23:27.235066Z",
     "iopub.status.busy": "2023-11-30T06:23:27.234690Z",
     "iopub.status.idle": "2023-11-30T06:23:27.237624Z",
     "shell.execute_reply": "2023-11-30T06:23:27.237062Z"
    },
    "papermill": {
     "duration": 0.011422,
     "end_time": "2023-11-30T06:23:27.238949",
     "exception": false,
     "start_time": "2023-11-30T06:23:27.227527",
     "status": "completed"
    },
    "pycharm": {
     "name": "#%%\n"
    },
    "tags": []
   },
   "outputs": [],
   "source": [
    "manifest_path = os.path.join(output_dir, \"manifest.json\")"
   ]
  },
  {
   "cell_type": "markdown",
   "id": "805ed1fa",
   "metadata": {
    "papermill": {
     "duration": 0.006453,
     "end_time": "2023-11-30T06:23:27.251971",
     "exception": false,
     "start_time": "2023-11-30T06:23:27.245518",
     "status": "completed"
    },
    "pycharm": {
     "name": "#%% md\n"
    },
    "tags": []
   },
   "source": [
    "Now we can create the cache object, specifying both the local storage directory (the `manifest_path`) and the remote storage location (the Allen Institute data warehouse)."
   ]
  },
  {
   "cell_type": "code",
   "execution_count": 4,
   "id": "205cd199",
   "metadata": {
    "execution": {
     "iopub.execute_input": "2023-11-30T06:23:27.266056Z",
     "iopub.status.busy": "2023-11-30T06:23:27.265647Z",
     "iopub.status.idle": "2023-11-30T06:23:27.269325Z",
     "shell.execute_reply": "2023-11-30T06:23:27.268708Z"
    },
    "papermill": {
     "duration": 0.012288,
     "end_time": "2023-11-30T06:23:27.270770",
     "exception": false,
     "start_time": "2023-11-30T06:23:27.258482",
     "status": "completed"
    },
    "pycharm": {
     "name": "#%%\n"
    },
    "tags": []
   },
   "outputs": [],
   "source": [
    "cache = EcephysProjectCache.from_warehouse(manifest=manifest_path)"
   ]
  },
  {
   "cell_type": "markdown",
   "id": "08bca1f1",
   "metadata": {
    "papermill": {
     "duration": 0.006512,
     "end_time": "2023-11-30T06:23:27.283867",
     "exception": false,
     "start_time": "2023-11-30T06:23:27.277355",
     "status": "completed"
    },
    "pycharm": {
     "name": "#%% md\n"
    },
    "tags": []
   },
   "source": [
    "This will prepare the cache to download four files:\n",
    "\n",
    "1. `sessions.csv` (7.8 kB)\n",
    "2. `probes.csv` (27.0 kB)\n",
    "3. `channels.csv` (6.6 MB)\n",
    "4. `units.csv` (51.4 MB)\n",
    "\n",
    "Each one contains a table of information related to its file name. If you're using the AllenSDK, you won't have to worry about how these files are formatted. Instead, you'll load the relevant data using specific accessor functions: `get_session_table()`, `get_probes()`, `get_channels()`, and `get_units()`. These functions return a [pandas DataFrame](https://pandas.pydata.org/pandas-docs/stable/reference/frame.html?highlight=dataframe) containing a row for each item and a column for each metric.\n",
    "\n",
    "If you are analyzing data without using the AllenSDK, you can load the data using your CSV file reader of choice. However, please be aware the columns in the original file do not necessarily match what's returned by the AllenSDK, which may combine information from multiple files to produce the final DataFrame.\n",
    "\n",
    "Let's take a closer look at what's in the `sessions.csv` file:"
   ]
  },
  {
   "cell_type": "code",
   "execution_count": 5,
   "id": "51c27283",
   "metadata": {
    "execution": {
     "iopub.execute_input": "2023-11-30T06:23:27.297906Z",
     "iopub.status.busy": "2023-11-30T06:23:27.297515Z",
     "iopub.status.idle": "2023-11-30T06:27:16.881043Z",
     "shell.execute_reply": "2023-11-30T06:27:16.880287Z"
    },
    "papermill": {
     "duration": 229.59866,
     "end_time": "2023-11-30T06:27:16.889009",
     "exception": false,
     "start_time": "2023-11-30T06:23:27.290349",
     "status": "completed"
    },
    "pycharm": {
     "name": "#%%\n"
    },
    "tags": []
   },
   "outputs": [
    {
     "name": "stdout",
     "output_type": "stream",
     "text": [
      "Total number of sessions: 58\n"
     ]
    },
    {
     "data": {
      "text/html": [
       "<div>\n",
       "<style scoped>\n",
       "    .dataframe tbody tr th:only-of-type {\n",
       "        vertical-align: middle;\n",
       "    }\n",
       "\n",
       "    .dataframe tbody tr th {\n",
       "        vertical-align: top;\n",
       "    }\n",
       "\n",
       "    .dataframe thead th {\n",
       "        text-align: right;\n",
       "    }\n",
       "</style>\n",
       "<table border=\"1\" class=\"dataframe\">\n",
       "  <thead>\n",
       "    <tr style=\"text-align: right;\">\n",
       "      <th></th>\n",
       "      <th>published_at</th>\n",
       "      <th>specimen_id</th>\n",
       "      <th>session_type</th>\n",
       "      <th>age_in_days</th>\n",
       "      <th>sex</th>\n",
       "      <th>full_genotype</th>\n",
       "      <th>unit_count</th>\n",
       "      <th>channel_count</th>\n",
       "      <th>probe_count</th>\n",
       "      <th>ecephys_structure_acronyms</th>\n",
       "    </tr>\n",
       "    <tr>\n",
       "      <th>id</th>\n",
       "      <th></th>\n",
       "      <th></th>\n",
       "      <th></th>\n",
       "      <th></th>\n",
       "      <th></th>\n",
       "      <th></th>\n",
       "      <th></th>\n",
       "      <th></th>\n",
       "      <th></th>\n",
       "      <th></th>\n",
       "    </tr>\n",
       "  </thead>\n",
       "  <tbody>\n",
       "    <tr>\n",
       "      <th>715093703</th>\n",
       "      <td>2019-10-03T00:00:00Z</td>\n",
       "      <td>699733581</td>\n",
       "      <td>brain_observatory_1.1</td>\n",
       "      <td>118.0</td>\n",
       "      <td>M</td>\n",
       "      <td>Sst-IRES-Cre/wt;Ai32(RCL-ChR2(H134R)_EYFP)/wt</td>\n",
       "      <td>884</td>\n",
       "      <td>2219</td>\n",
       "      <td>6</td>\n",
       "      <td>[CA1, VISrl, nan, PO, LP, LGd, CA3, DG, VISl, ...</td>\n",
       "    </tr>\n",
       "    <tr>\n",
       "      <th>719161530</th>\n",
       "      <td>2019-10-03T00:00:00Z</td>\n",
       "      <td>703279284</td>\n",
       "      <td>brain_observatory_1.1</td>\n",
       "      <td>122.0</td>\n",
       "      <td>M</td>\n",
       "      <td>Sst-IRES-Cre/wt;Ai32(RCL-ChR2(H134R)_EYFP)/wt</td>\n",
       "      <td>755</td>\n",
       "      <td>2214</td>\n",
       "      <td>6</td>\n",
       "      <td>[TH, Eth, APN, POL, LP, DG, CA1, VISpm, nan, N...</td>\n",
       "    </tr>\n",
       "    <tr>\n",
       "      <th>721123822</th>\n",
       "      <td>2019-10-03T00:00:00Z</td>\n",
       "      <td>707296982</td>\n",
       "      <td>brain_observatory_1.1</td>\n",
       "      <td>125.0</td>\n",
       "      <td>M</td>\n",
       "      <td>Pvalb-IRES-Cre/wt;Ai32(RCL-ChR2(H134R)_EYFP)/wt</td>\n",
       "      <td>444</td>\n",
       "      <td>2229</td>\n",
       "      <td>6</td>\n",
       "      <td>[MB, SCig, PPT, NOT, DG, CA1, VISam, nan, LP, ...</td>\n",
       "    </tr>\n",
       "    <tr>\n",
       "      <th>732592105</th>\n",
       "      <td>2019-10-03T00:00:00Z</td>\n",
       "      <td>717038288</td>\n",
       "      <td>brain_observatory_1.1</td>\n",
       "      <td>100.0</td>\n",
       "      <td>M</td>\n",
       "      <td>wt/wt</td>\n",
       "      <td>824</td>\n",
       "      <td>1847</td>\n",
       "      <td>5</td>\n",
       "      <td>[grey, VISpm, nan, VISp, VISl, VISal, VISrl]</td>\n",
       "    </tr>\n",
       "    <tr>\n",
       "      <th>737581020</th>\n",
       "      <td>2019-10-03T00:00:00Z</td>\n",
       "      <td>718643567</td>\n",
       "      <td>brain_observatory_1.1</td>\n",
       "      <td>108.0</td>\n",
       "      <td>M</td>\n",
       "      <td>wt/wt</td>\n",
       "      <td>568</td>\n",
       "      <td>2218</td>\n",
       "      <td>6</td>\n",
       "      <td>[grey, VISmma, nan, VISpm, VISp, VISl, VISrl]</td>\n",
       "    </tr>\n",
       "  </tbody>\n",
       "</table>\n",
       "</div>"
      ],
      "text/plain": [
       "                   published_at  specimen_id           session_type  \\\n",
       "id                                                                    \n",
       "715093703  2019-10-03T00:00:00Z    699733581  brain_observatory_1.1   \n",
       "719161530  2019-10-03T00:00:00Z    703279284  brain_observatory_1.1   \n",
       "721123822  2019-10-03T00:00:00Z    707296982  brain_observatory_1.1   \n",
       "732592105  2019-10-03T00:00:00Z    717038288  brain_observatory_1.1   \n",
       "737581020  2019-10-03T00:00:00Z    718643567  brain_observatory_1.1   \n",
       "\n",
       "           age_in_days sex                                    full_genotype  \\\n",
       "id                                                                            \n",
       "715093703        118.0   M    Sst-IRES-Cre/wt;Ai32(RCL-ChR2(H134R)_EYFP)/wt   \n",
       "719161530        122.0   M    Sst-IRES-Cre/wt;Ai32(RCL-ChR2(H134R)_EYFP)/wt   \n",
       "721123822        125.0   M  Pvalb-IRES-Cre/wt;Ai32(RCL-ChR2(H134R)_EYFP)/wt   \n",
       "732592105        100.0   M                                            wt/wt   \n",
       "737581020        108.0   M                                            wt/wt   \n",
       "\n",
       "           unit_count  channel_count  probe_count  \\\n",
       "id                                                  \n",
       "715093703         884           2219            6   \n",
       "719161530         755           2214            6   \n",
       "721123822         444           2229            6   \n",
       "732592105         824           1847            5   \n",
       "737581020         568           2218            6   \n",
       "\n",
       "                                  ecephys_structure_acronyms  \n",
       "id                                                            \n",
       "715093703  [CA1, VISrl, nan, PO, LP, LGd, CA3, DG, VISl, ...  \n",
       "719161530  [TH, Eth, APN, POL, LP, DG, CA1, VISpm, nan, N...  \n",
       "721123822  [MB, SCig, PPT, NOT, DG, CA1, VISam, nan, LP, ...  \n",
       "732592105       [grey, VISpm, nan, VISp, VISl, VISal, VISrl]  \n",
       "737581020      [grey, VISmma, nan, VISpm, VISp, VISl, VISrl]  "
      ]
     },
     "execution_count": 5,
     "metadata": {},
     "output_type": "execute_result"
    }
   ],
   "source": [
    "sessions = cache.get_session_table()\n",
    "\n",
    "print('Total number of sessions: ' + str(len(sessions)))\n",
    "\n",
    "sessions.head()"
   ]
  },
  {
   "cell_type": "markdown",
   "id": "59727a12",
   "metadata": {
    "papermill": {
     "duration": 0.006816,
     "end_time": "2023-11-30T06:27:16.902711",
     "exception": false,
     "start_time": "2023-11-30T06:27:16.895895",
     "status": "completed"
    },
    "pycharm": {
     "name": "#%% md\n"
    },
    "tags": []
   },
   "source": [
    "The `sessions` DataFrame provides a high-level overview of the Neuropixels Visual Coding dataset. The index column is a unique ID, which serves as a key for accessing the physiology data for each session. The other columns contain information about:\n",
    "\n",
    "- the session type (i.e., which stimulus set was shown?)\n",
    "- the age, sex, and genotype of the mouse (in this dataset, there's only one session per mouse)\n",
    "- the number of probes, channels, and units for each session\n",
    "- the brain structures recorded (CCFv3 acronyms)\n",
    "\n",
    "If we want to find all of recordings from male Sst-Cre mice that viewed the Brain Observatory 1.1 stimulus and contain units from area LM, we can use the following query:"
   ]
  },
  {
   "cell_type": "code",
   "execution_count": 6,
   "id": "5cd29a20",
   "metadata": {
    "execution": {
     "iopub.execute_input": "2023-11-30T06:27:16.917345Z",
     "iopub.status.busy": "2023-11-30T06:27:16.916907Z",
     "iopub.status.idle": "2023-11-30T06:27:16.929159Z",
     "shell.execute_reply": "2023-11-30T06:27:16.928601Z"
    },
    "papermill": {
     "duration": 0.021114,
     "end_time": "2023-11-30T06:27:16.930525",
     "exception": false,
     "start_time": "2023-11-30T06:27:16.909411",
     "status": "completed"
    },
    "pycharm": {
     "name": "#%%\n"
    },
    "tags": []
   },
   "outputs": [
    {
     "data": {
      "text/html": [
       "<div>\n",
       "<style scoped>\n",
       "    .dataframe tbody tr th:only-of-type {\n",
       "        vertical-align: middle;\n",
       "    }\n",
       "\n",
       "    .dataframe tbody tr th {\n",
       "        vertical-align: top;\n",
       "    }\n",
       "\n",
       "    .dataframe thead th {\n",
       "        text-align: right;\n",
       "    }\n",
       "</style>\n",
       "<table border=\"1\" class=\"dataframe\">\n",
       "  <thead>\n",
       "    <tr style=\"text-align: right;\">\n",
       "      <th></th>\n",
       "      <th>published_at</th>\n",
       "      <th>specimen_id</th>\n",
       "      <th>session_type</th>\n",
       "      <th>age_in_days</th>\n",
       "      <th>sex</th>\n",
       "      <th>full_genotype</th>\n",
       "      <th>unit_count</th>\n",
       "      <th>channel_count</th>\n",
       "      <th>probe_count</th>\n",
       "      <th>ecephys_structure_acronyms</th>\n",
       "    </tr>\n",
       "    <tr>\n",
       "      <th>id</th>\n",
       "      <th></th>\n",
       "      <th></th>\n",
       "      <th></th>\n",
       "      <th></th>\n",
       "      <th></th>\n",
       "      <th></th>\n",
       "      <th></th>\n",
       "      <th></th>\n",
       "      <th></th>\n",
       "      <th></th>\n",
       "    </tr>\n",
       "  </thead>\n",
       "  <tbody>\n",
       "    <tr>\n",
       "      <th>715093703</th>\n",
       "      <td>2019-10-03T00:00:00Z</td>\n",
       "      <td>699733581</td>\n",
       "      <td>brain_observatory_1.1</td>\n",
       "      <td>118.0</td>\n",
       "      <td>M</td>\n",
       "      <td>Sst-IRES-Cre/wt;Ai32(RCL-ChR2(H134R)_EYFP)/wt</td>\n",
       "      <td>884</td>\n",
       "      <td>2219</td>\n",
       "      <td>6</td>\n",
       "      <td>[CA1, VISrl, nan, PO, LP, LGd, CA3, DG, VISl, ...</td>\n",
       "    </tr>\n",
       "    <tr>\n",
       "      <th>719161530</th>\n",
       "      <td>2019-10-03T00:00:00Z</td>\n",
       "      <td>703279284</td>\n",
       "      <td>brain_observatory_1.1</td>\n",
       "      <td>122.0</td>\n",
       "      <td>M</td>\n",
       "      <td>Sst-IRES-Cre/wt;Ai32(RCL-ChR2(H134R)_EYFP)/wt</td>\n",
       "      <td>755</td>\n",
       "      <td>2214</td>\n",
       "      <td>6</td>\n",
       "      <td>[TH, Eth, APN, POL, LP, DG, CA1, VISpm, nan, N...</td>\n",
       "    </tr>\n",
       "    <tr>\n",
       "      <th>756029989</th>\n",
       "      <td>2019-10-03T00:00:00Z</td>\n",
       "      <td>734865738</td>\n",
       "      <td>brain_observatory_1.1</td>\n",
       "      <td>96.0</td>\n",
       "      <td>M</td>\n",
       "      <td>Sst-IRES-Cre/wt;Ai32(RCL-ChR2(H134R)_EYFP)/wt</td>\n",
       "      <td>684</td>\n",
       "      <td>2214</td>\n",
       "      <td>6</td>\n",
       "      <td>[TH, DG, CA3, CA1, VISl, nan, PO, Eth, LP, VIS...</td>\n",
       "    </tr>\n",
       "  </tbody>\n",
       "</table>\n",
       "</div>"
      ],
      "text/plain": [
       "                   published_at  specimen_id           session_type  \\\n",
       "id                                                                    \n",
       "715093703  2019-10-03T00:00:00Z    699733581  brain_observatory_1.1   \n",
       "719161530  2019-10-03T00:00:00Z    703279284  brain_observatory_1.1   \n",
       "756029989  2019-10-03T00:00:00Z    734865738  brain_observatory_1.1   \n",
       "\n",
       "           age_in_days sex                                  full_genotype  \\\n",
       "id                                                                          \n",
       "715093703        118.0   M  Sst-IRES-Cre/wt;Ai32(RCL-ChR2(H134R)_EYFP)/wt   \n",
       "719161530        122.0   M  Sst-IRES-Cre/wt;Ai32(RCL-ChR2(H134R)_EYFP)/wt   \n",
       "756029989         96.0   M  Sst-IRES-Cre/wt;Ai32(RCL-ChR2(H134R)_EYFP)/wt   \n",
       "\n",
       "           unit_count  channel_count  probe_count  \\\n",
       "id                                                  \n",
       "715093703         884           2219            6   \n",
       "719161530         755           2214            6   \n",
       "756029989         684           2214            6   \n",
       "\n",
       "                                  ecephys_structure_acronyms  \n",
       "id                                                            \n",
       "715093703  [CA1, VISrl, nan, PO, LP, LGd, CA3, DG, VISl, ...  \n",
       "719161530  [TH, Eth, APN, POL, LP, DG, CA1, VISpm, nan, N...  \n",
       "756029989  [TH, DG, CA3, CA1, VISl, nan, PO, Eth, LP, VIS...  "
      ]
     },
     "execution_count": 6,
     "metadata": {},
     "output_type": "execute_result"
    }
   ],
   "source": [
    "filtered_sessions = sessions[(sessions.sex == 'M') & \\\n",
    "                             (sessions.full_genotype.str.find('Sst') > -1) & \\\n",
    "                             (sessions.session_type == 'brain_observatory_1.1') & \\\n",
    "                             (['VISl' in acronyms for acronyms in \n",
    "                               sessions.ecephys_structure_acronyms])]\n",
    "\n",
    "filtered_sessions.head()"
   ]
  },
  {
   "cell_type": "markdown",
   "id": "b3fccb38",
   "metadata": {
    "papermill": {
     "duration": 0.006943,
     "end_time": "2023-11-30T06:27:16.944460",
     "exception": false,
     "start_time": "2023-11-30T06:27:16.937517",
     "status": "completed"
    },
    "pycharm": {
     "name": "#%% md\n"
    },
    "tags": []
   },
   "source": [
    "The `filtered_sessions` table contains the three sessions that meet these criteria.\n",
    "\n",
    "The code above uses standard syntax for filtering pandas DataFrames. If this is unfamiliar to you, we strongly recommend reading through the [pandas documentation](https://pandas.pydata.org/pandas-docs/stable/). The AllenSDK makes heavy use of pandas objects, so we don't have to come up with our own functions for working with tabular data.\n",
    "\n",
    "Let's take a look at another DataFrame, extracted from the `probes.csv` file."
   ]
  },
  {
   "cell_type": "markdown",
   "id": "d8375233",
   "metadata": {
    "papermill": {
     "duration": 0.037424,
     "end_time": "2023-11-30T06:30:24.590113",
     "exception": false,
     "start_time": "2023-11-30T06:30:24.552689",
     "status": "completed"
    },
    "pycharm": {
     "name": "#%% md\n"
    },
    "tags": []
   },
   "source": [
    "### Accessing data for individual sessions\n",
    "\n",
    "Assuming you've found a session you're interested in analyzing in more detail, it's now time to download the data. This is as simple as calling `cache.get_session_data()`, with the `session_id` as input. This method will check the cache for an existing NWB file and, if it's not present, will automatically download it for you.\n",
    "\n",
    "Each NWB file can be upwards of 2 GB, so please be patient while it's downloading!\n",
    "\n",
    "As an example, let's look at one of the sessions we selected earlier, disabling the default unit quality metrics filters:"
   ]
  },
  {
   "cell_type": "code",
   "execution_count": 12,
   "id": "681dff74",
   "metadata": {
    "execution": {
     "iopub.execute_input": "2023-11-30T06:30:24.606893Z",
     "iopub.status.busy": "2023-11-30T06:30:24.606379Z",
     "iopub.status.idle": "2023-11-30T06:33:59.680510Z",
     "shell.execute_reply": "2023-11-30T06:33:59.679943Z"
    },
    "papermill": {
     "duration": 215.084249,
     "end_time": "2023-11-30T06:33:59.681957",
     "exception": false,
     "start_time": "2023-11-30T06:30:24.597708",
     "status": "completed"
    },
    "pycharm": {
     "name": "#%%\n"
    },
    "tags": []
   },
   "outputs": [
    {
     "name": "stderr",
     "output_type": "stream",
     "text": [
      "WARNING:root:downloading a 2929.156MiB file from http://api.brain-map.org//api/v2/well_known_file_download/1026124034\n",
      "Downloading: 100%|██████████| 3.07G/3.07G [01:56<00:00, 26.5MB/s]\n",
      "/opt/conda/envs/allensdk/lib/python3.9/site-packages/hdmf/spec/namespace.py:535: UserWarning: Ignoring cached namespace 'hdmf-common' version 1.1.3 because version 1.8.0 is already loaded.\n",
      "  warn(\"Ignoring cached namespace '%s' version %s because version %s is already loaded.\"\n",
      "/opt/conda/envs/allensdk/lib/python3.9/site-packages/hdmf/spec/namespace.py:535: UserWarning: Ignoring cached namespace 'core' version 2.2.2 because version 2.7.0 is already loaded.\n",
      "  warn(\"Ignoring cached namespace '%s' version %s because version %s is already loaded.\"\n"
     ]
    },
    {
     "name": "stdout",
     "output_type": "stream",
     "text": [
      "['DETAILED_STIMULUS_PARAMETERS', 'LazyProperty', 'age_in_days', 'api', 'channel_structure_intervals', 'channels', 'conditionwise_spike_statistics', 'ecephys_session_id', 'from_nwb_path', 'full_genotype', 'get_current_source_density', 'get_inter_presentation_intervals_for_stimulus', 'get_invalid_times', 'get_lfp', 'get_parameter_values_for_stimulus', 'get_pupil_data', 'get_screen_gaze_data', 'get_stimulus_epochs', 'get_stimulus_parameter_values', 'get_stimulus_table', 'inter_presentation_intervals', 'invalid_times', 'mean_waveforms', 'metadata', 'num_channels', 'num_probes', 'num_stimulus_presentations', 'num_units', 'optogenetic_stimulation_epochs', 'presentationwise_spike_counts', 'presentationwise_spike_times', 'probes', 'rig_equipment_name', 'rig_geometry_data', 'running_speed', 'session_start_time', 'session_type', 'sex', 'specimen_name', 'spike_amplitudes', 'spike_times', 'stimulus_conditions', 'stimulus_names', 'stimulus_presentations', 'structure_acronyms', 'structurewise_unit_counts', 'units']\n"
     ]
    }
   ],
   "source": [
    "session = cache.get_session_data(filtered_sessions.index.values[1],\n",
    "                                 isi_violations_maximum = np.inf,\n",
    "                                 amplitude_cutoff_maximum = np.inf,\n",
    "                                 presence_ratio_minimum = -np.inf\n",
    "                                )\n",
    "\n",
    "print([attr_or_method for attr_or_method in dir(session) if attr_or_method[0] != '_'])"
   ]
  },
  {
   "cell_type": "code",
   "execution_count": 8,
   "id": "2156de1f",
   "metadata": {},
   "outputs": [],
   "source": []
  },
  {
   "cell_type": "code",
   "execution_count": 13,
   "id": "3eed845e",
   "metadata": {},
   "outputs": [
    {
     "name": "stderr",
     "output_type": "stream",
     "text": [
      "/opt/conda/envs/allensdk/lib/python3.9/site-packages/hdmf/spec/namespace.py:535: UserWarning: Ignoring cached namespace 'hdmf-common' version 1.1.3 because version 1.8.0 is already loaded.\n",
      "  warn(\"Ignoring cached namespace '%s' version %s because version %s is already loaded.\"\n",
      "/opt/conda/envs/allensdk/lib/python3.9/site-packages/hdmf/spec/namespace.py:535: UserWarning: Ignoring cached namespace 'core' version 2.2.2 because version 2.7.0 is already loaded.\n",
      "  warn(\"Ignoring cached namespace '%s' version %s because version %s is already loaded.\"\n",
      "/opt/conda/envs/allensdk/lib/python3.9/site-packages/hdmf/spec/namespace.py:535: UserWarning: Ignoring cached namespace 'hdmf-common' version 1.1.3 because version 1.8.0 is already loaded.\n",
      "  warn(\"Ignoring cached namespace '%s' version %s because version %s is already loaded.\"\n",
      "/opt/conda/envs/allensdk/lib/python3.9/site-packages/hdmf/spec/namespace.py:535: UserWarning: Ignoring cached namespace 'core' version 2.2.2 because version 2.7.0 is already loaded.\n",
      "  warn(\"Ignoring cached namespace '%s' version %s because version %s is already loaded.\"\n",
      "/opt/conda/envs/allensdk/lib/python3.9/site-packages/hdmf/spec/namespace.py:535: UserWarning: Ignoring cached namespace 'hdmf-common' version 1.1.3 because version 1.8.0 is already loaded.\n",
      "  warn(\"Ignoring cached namespace '%s' version %s because version %s is already loaded.\"\n",
      "/opt/conda/envs/allensdk/lib/python3.9/site-packages/hdmf/spec/namespace.py:535: UserWarning: Ignoring cached namespace 'core' version 2.2.2 because version 2.7.0 is already loaded.\n",
      "  warn(\"Ignoring cached namespace '%s' version %s because version %s is already loaded.\"\n",
      "/opt/conda/envs/allensdk/lib/python3.9/site-packages/hdmf/spec/namespace.py:535: UserWarning: Ignoring cached namespace 'hdmf-common' version 1.1.3 because version 1.8.0 is already loaded.\n",
      "  warn(\"Ignoring cached namespace '%s' version %s because version %s is already loaded.\"\n",
      "/opt/conda/envs/allensdk/lib/python3.9/site-packages/hdmf/spec/namespace.py:535: UserWarning: Ignoring cached namespace 'core' version 2.2.2 because version 2.7.0 is already loaded.\n",
      "  warn(\"Ignoring cached namespace '%s' version %s because version %s is already loaded.\"\n",
      "/opt/conda/envs/allensdk/lib/python3.9/site-packages/hdmf/spec/namespace.py:535: UserWarning: Ignoring cached namespace 'hdmf-common' version 1.1.3 because version 1.8.0 is already loaded.\n",
      "  warn(\"Ignoring cached namespace '%s' version %s because version %s is already loaded.\"\n",
      "/opt/conda/envs/allensdk/lib/python3.9/site-packages/hdmf/spec/namespace.py:535: UserWarning: Ignoring cached namespace 'core' version 2.2.2 because version 2.7.0 is already loaded.\n",
      "  warn(\"Ignoring cached namespace '%s' version %s because version %s is already loaded.\"\n"
     ]
    }
   ],
   "source": [
    "json_dict = {}\n",
    "for key in session.mean_waveforms.keys():\n",
    "    #xindics = range(0,len(session.mean_waveforms[key].data[0]))\n",
    "    #yindics = session.mean_waveforms[key].data[0]\n",
    "    #plt.plot(xindics,yindics)\n",
    "    #print(session.spike_times[key])\n",
    "    json_dict[key] = {\"mean_waveform\" :session.mean_waveforms[key].data[0].tolist() , \"spike_times\":session.spike_times[key].tolist()}"
   ]
  },
  {
   "cell_type": "code",
   "execution_count": 14,
   "id": "66cbb1c1",
   "metadata": {},
   "outputs": [
    {
     "name": "stdout",
     "output_type": "stream",
     "text": [
      "dict_keys([950916730, 950916743, 950916812, 950916789, 950916822, 950916845, 950916868, 950916856, 950916892, 950916904, 950916916, 950916956, 950916943, 950916968, 950917034, 950917085, 950917064, 950917133, 950917119, 950917165, 950917149, 950917199, 950917242, 950917288, 950917305, 950920479, 950917336, 950917392, 950917381, 950917421, 950920490, 950920510, 950917479, 950917466, 950917451, 950917602, 950917586, 950917573, 950917558, 950917616, 950917729, 950917662, 950917715, 950917768, 950917741, 950917782, 950917795, 950920793, 950917833, 950917859, 950917847, 950917883, 950917872, 950917895, 950917919, 950918072, 950918117, 950920545, 950918168, 950918154, 950918182, 950918260, 950918351, 950918363, 950918390, 950918475, 950920804, 950918495, 950918517, 950918505, 950918574, 950920852, 950920724, 950918660, 950918636, 950920841, 950920585, 950918710, 950918698, 950918685, 950918671, 950918735, 950918899, 950918884, 950918860, 950918847, 950918837, 950918825, 950918803, 950919005, 950918992, 950918980, 950918967, 950918953, 950918941, 950918926, 950918913, 950919045, 950919019, 950919083, 950919109, 950919098, 950919151, 950919137, 950919269, 950919256, 950919295, 950919334, 950919321, 950919309, 950919363, 950919348, 950919434, 950919486, 950919527, 950919515, 950919540, 950919563, 950919551, 950919600, 950919618, 950919717, 950919675, 950920596, 950919775, 950919763, 950919746, 950919733, 950919902, 950920608, 950919931, 950919987, 950919958, 950920739, 950920620, 950919972, 950920931, 950920915, 950920660, 950920753, 950920671, 950920150, 950920135, 950920694, 950920765, 950920681, 950920207, 950920192, 950920278, 950916755, 950916776, 950920435, 950916996, 950917047, 950917181, 950917212, 950917363, 950917349, 950920524, 950917532, 950917492, 950917544, 950917647, 950917700, 950917687, 950917755, 950917823, 950917908, 950917944, 950918130, 950918096, 950918287, 950920564, 950918424, 950918414, 950918464, 950918454, 950920818, 950918563, 950918550, 950918539, 950918610, 950918598, 950918588, 950918527, 950918649, 950920904, 950920574, 950918721, 950920864, 950918787, 950918772, 950918761, 950918749, 950919070, 950919058, 950918872, 950919124, 950919164, 950919242, 950919229, 950919392, 950919377, 950919419, 950919407, 950919446, 950919470, 950919459, 950919498, 950919662, 950919588, 950919575, 950919646, 950919633, 950919802, 950919830, 950919818, 950919873, 950919857, 950919946, 950919887, 950920877, 950920634, 950920032, 950920019, 950920068, 950920647, 950920178, 950920106, 950920779, 950920237, 950920223, 950920252, 950921187, 950921152, 950921135, 950921111, 950921260, 950921248, 950921334, 950921422, 950921409, 950921372, 950921580, 950921757, 950921728, 950921712, 950921926, 950921911, 950929722, 950928838, 950922058, 950922003, 950921990, 950921975, 950921964, 950922131, 950922117, 950922199, 950922184, 950922431, 950922417, 950922402, 950922388, 950922372, 950922360, 950922345, 950922321, 950922309, 950922586, 950922572, 950922516, 950922505, 950928995, 950928972, 950922872, 950922855, 950922833, 950922817, 950922804, 950922791, 950923047, 950923099, 950923249, 950923234, 950923220, 950923302, 950923353, 950923342, 950923328, 950923316, 950923414, 950923399, 950923383, 950923489, 950929792, 950923592, 950923576, 950923563, 950929065, 950923694, 950923681, 950923665, 950923759, 950923745, 950923810, 950923931, 950923882, 950923870, 950923917, 950923904, 950923894, 950924014, 950924182, 950929130, 950929118, 950924315, 950924301, 950924287, 950924273, 950924196, 950924480, 950924456, 950924441, 950929203, 950929189, 950924558, 950924544, 950924520, 950929837, 950929246, 950924726, 950924712, 950924643, 950924698, 950924683, 950929852, 950929261, 950924810, 950925260, 950925303, 950925372, 950925360, 950925290, 950925443, 950925773, 950925869, 950925858, 950925971, 950925896, 950926118, 950926100, 950929387, 950926209, 950926187, 950930211, 950926504, 950926320, 950926306, 950926293, 950926278, 950926263, 950926249, 950930241, 950930225, 950926479, 950926466, 950926452, 950930271, 950929473, 950929427, 950929414, 950929401, 950926611, 950926598, 950926586, 950926561, 950926547, 950926532, 950926517, 950926350, 950926699, 950926969, 950926997, 950927099, 950927213, 950927265, 950927253, 950927541, 950927482, 950927469, 950927637, 950927650, 950927681, 950929657, 950927780, 950927860, 950927845, 950927974, 950927933, 950928047, 950928109, 950928180, 950928165, 950928141, 950928123, 950928475, 950928797, 950921232, 950921204, 950921218, 950921321, 950921308, 950921294, 950921506, 950921490, 950921473, 950921347, 950921536, 950921521, 950921609, 950921595, 950921550, 950921446, 950921432, 950921698, 950921685, 950921670, 950921653, 950921638, 950921623, 950921782, 950921770, 950928826, 950921814, 950921742, 950921850, 950921838, 950921825, 950921797, 950921898, 950921884, 950921938, 950922104, 950922016, 950921951, 950922074, 950928868, 950922170, 950922156, 950922447, 950922297, 950922283, 950922270, 950922243, 950922144, 950922488, 950922557, 950929751, 950928913, 950922649, 950922631, 950922615, 950922601, 950922542, 950928956, 950928940, 950928928, 950922733, 950922718, 950922701, 950922531, 950929010, 950922775, 950922761, 950922747, 950922910, 950922898, 950922885, 950922935, 950922921, 950929024, 950923032, 950923017, 950922976, 950923065, 950923003, 950922988, 950923169, 950923288, 950923182, 950923447, 950923548, 950923534, 950923519, 950923506, 950929051, 950923650, 950923634, 950923618, 950923603, 950923710, 950923734, 950923721, 950923785, 950923771, 950923799, 950923848, 950923835, 950923824, 950923971, 950923956, 950923942, 950923986, 950929092, 950929079, 950924043, 950924028, 950924098, 950924086, 950924073, 950924058, 950924168, 950924153, 950924138, 950924224, 950924209, 950929106, 950924239, 950929174, 950929159, 950924427, 950924411, 950924398, 950924384, 950924369, 950924356, 950924493, 950924594, 950924583, 950924533, 950924507, 950924468, 950929220, 950924629, 950924608, 950924570, 950924752, 950924739, 950924839, 950925038, 950925205, 950925191, 950925163, 950925245, 950925274, 950925347, 950925333, 950929302, 950925607, 950925703, 950925746, 950925731, 950925815, 950925789, 950925845, 950925830, 950925923, 950925961, 950926042, 950926012, 950925999, 950926162, 950929362, 950926377, 950926363, 950926333, 950926623, 950926415, 950926389, 950929443, 950926673, 950926492, 950926430, 950926645, 950926634, 950929487, 950926791, 950926750, 950926724, 950926714, 950926763, 950929500, 950926816, 950926879, 950926864, 950927057, 950927042, 950927084, 950929544, 950927140, 950927126, 950927112, 950927155, 950927239, 950927328, 950927365, 950927352, 950929627, 950927569, 950927555, 950927607, 950927665, 950927726, 950927764, 950927830, 950927918, 950927794, 950927961, 950927948, 950927874, 950928079, 950928063, 950928223, 950928239, 950928270, 950928360, 950928344, 950928430, 950928459, 950929694, 950928508, 950928491, 950928555, 950928599, 950928582, 950930603, 950936685, 950930630, 950936079, 950930714, 950930700, 950930685, 950930672, 950930657, 950936102, 950936090, 950930772, 950930758, 950930744, 950930883, 950930957, 950930940, 950936125, 950931033, 950931018, 950931003, 950931089, 950931197, 950931174, 950931147, 950931131, 950931119, 950936699, 950936136, 950931289, 950931399, 950931365, 950931421, 950931412, 950931538, 950931527, 950931608, 950931595, 950931635, 950936184, 950931863, 950931970, 950931958, 950931946, 950936197, 950932065, 950936711, 950936276, 950936241, 950932182, 950932174, 950932224, 950932213, 950932362, 950932498, 950932487, 950932476, 950932466, 950936359, 950932579, 950932567, 950932556, 950936748, 950936391, 950936382, 950932803, 950936823, 950936451, 950936440, 950932879, 950936491, 950932956, 950932945, 950936502, 950933091, 950933078, 950933066, 950933296, 950933384, 950933359, 950933338, 950933424, 950933584, 950933478, 950933722, 950933607, 950933595, 950933492, 950936521, 950933686, 950933673, 950933659, 950933644, 950933632, 950933852, 950933909, 950933897, 950933887, 950934057, 950934034, 950934025, 950934124, 950934215, 950934202, 950934262, 950934249, 950934334, 950934300, 950934406, 950934394, 950934418, 950934533, 950934589, 950934577, 950934565, 950934693, 950934711, 950934750, 950934857, 950934960, 950935168, 950935055, 950935043, 950935027, 950934974, 950935230, 950936593, 950935264, 950935244, 950935376, 950935366, 950935354, 950936633, 950935429, 950935416, 950935587, 950935726, 950935804, 950936836, 950936810, 950935909, 950935888, 950935828, 950935970, 950930543, 950930527, 950930484, 950930470, 950930588, 950930572, 950930513, 950930616, 950936066, 950930642, 950930730, 950930825, 950930801, 950930784, 950930869, 950930839, 950930988, 950930911, 950930899, 950936112, 950930973, 950931075, 950931062, 950930926, 950931105, 950931047, 950931210, 950931234, 950931223, 950931277, 950931263, 950931248, 950931303, 950931377, 950931353, 950931328, 950931388, 950931456, 950931446, 950931436, 950931477, 950931469, 950931499, 950931488, 950931583, 950931547, 950931572, 950931558, 950931622, 950931793, 950931782, 950931698, 950931686, 950931661, 950931648, 950931771, 950931746, 950931733, 950931711, 950936173, 950936161, 950936149, 950931819, 950931807, 950931851, 950931758, 950931887, 950931898, 950931874, 950931925, 950931912, 950936218, 950932016, 950932005, 950931994, 950931983, 950931936, 950936231, 950932054, 950932042, 950932031, 950932100, 950932075, 950932161, 950932142, 950932124, 950932111, 950932090, 950936253, 950932203, 950932193, 950936300, 950936289, 950936263, 950932250, 950932235, 950936736, 950936723, 950936312, 950932342, 950932329, 950932316, 950932303, 950932290, 950932275, 950932262, 950932383, 950932372, 950936334, 950936322, 950932523, 950932454, 950932435, 950932420, 950932409, 950932395, 950932351, 950936346, 950932534, 950932509, 950932544, 950936372, 950932606, 950932591, 950932648, 950932637, 950932628, 950932619, 950932781, 950936464, 950936417, 950936404, 950932854, 950932833, 950932793, 950932769, 950936427, 950932866, 950932967, 950932911, 950932901, 950936760, 950936477, 950932924, 950932843, 950932990, 950932979, 950933052, 950933030, 950933014, 950933001, 950933106, 950933144, 950933256, 950933410, 950933397, 950933465, 950933453, 950933440, 950936770, 950933517, 950933504, 950933557, 950933545, 950933733, 950933711, 950933746, 950933812, 950933801, 950933784, 950933949, 950933837, 950933827, 950933773, 950933862, 950934089, 950933995, 950933984, 950933973, 950933963, 950933936, 950934046, 950934006, 950936546, 950934157, 950934080, 950934069, 950934101, 950934144, 950934133, 950934179, 950934236, 950934227, 950934274, 950934314, 950934441, 950934483, 950934506, 950934555, 950934544, 950934638, 950934626, 950934614, 950934597, 950934670, 950934661, 950936784, 950936556, 950934734, 950934722, 950934774, 950934762, 950936568, 950934813, 950934798, 950934786, 950934848, 950934835, 950934824, 950934884, 950934870, 950936581, 950934947, 950934933, 950934912, 950934987, 950935013, 950935002, 950935081, 950935066, 950935142, 950935130, 950935118, 950935105, 950935094, 950936796, 950935221, 950935206, 950935194, 950935182, 950935154, 950936618, 950935343, 950935287, 950935276, 950936606, 950935320, 950935308, 950935296, 950935440, 950935403, 950935492, 950935480, 950935465, 950935552, 950935529, 950935519, 950935507, 950935541, 950935602, 950935640, 950935628, 950935615, 950935701, 950935677, 950935664, 950935651, 950936658, 950935766, 950935753, 950935792, 950935840, 950935863, 950935923, 950935936, 950935948, 950938998, 950938989, 950938975, 950938964, 950938941, 950938905, 950938755, 950944670, 950939204, 950947057, 950946755, 950945852, 950944705, 950944693, 950939339, 950939285, 950939268, 950939256, 950939164, 950939408, 950939390, 950939381, 950939773, 950939924, 950939894, 950940150, 950940143, 950940230, 950946804, 950946374, 950944928, 950944920, 950940300, 950940276, 950940242, 950940567, 950940555, 950940505, 950940675, 950946498, 950940757, 950941088, 950941141, 950945147, 950941312, 950941300, 950945172, 950941420, 950945224, 950941598, 950941586, 950947015, 950946530, 950941854, 950941832, 950941818, 950941903, 950942034, 950941937, 950941925, 950941892, 950945351, 950942096, 950942071, 950942059, 950942345, 950942521, 950942720, 950942833, 950942942, 950943024, 950943099, 950943213, 950943190, 950943168, 950945495, 950943286, 950943277, 950945531, 950943438, 950943399, 950945543, 950943512, 950943488, 950946153, 950945593, 950945582, 950943685, 950943674, 950943835, 950943737, 950945646, 950943794, 950946185, 950945685, 950945672, 950944065, 950944303, 950939076, 950939067, 950939055, 950939043, 950939425, 950939418, 950939361, 950939350, 950945876, 950944786, 950944760, 950939502, 950939670, 950939681, 950939831, 950939958, 950940037, 950945913, 950944900, 950940099, 950940179, 950940217, 950940206, 950940312, 950946425, 950946409, 950940418, 950940407, 950940387, 950945924, 950944995, 950944971, 950944959, 950940450, 950940439, 950945937, 950940616, 950940919, 950940973, 950941394, 950941338, 950941473, 950941459, 950945208, 950941521, 950941634, 950946853, 950945995, 950945262, 950945250, 950945236, 950941741, 950941679, 950941666, 950941656, 950941646, 950945288, 950945273, 950941766, 950941753, 950941728, 950941717, 950941704, 950941691, 950945312, 950945299, 950941792, 950947029, 950946563, 950946547, 950945339, 950945324, 950941915, 950941866, 950942162, 950941880, 950942312, 950942083, 950942011, 950941997, 950941985, 950941974, 950942022, 950942110, 950946582, 950942195, 950942149, 950942334, 950942324, 950942300, 950942288, 950942276, 950942210, 950942393, 950942381, 950942370, 950942418, 950942472, 950942449, 950942807, 950942733, 950942819, 950942795, 950942782, 950942758, 950942953, 950946637, 950942918, 950942906, 950942965, 950943074, 950943058, 950943047, 950942929, 950943084, 950943125, 950943111, 950943226, 950943138, 950943329, 950943269, 950943261, 950943201, 950943307, 950943296, 950943317, 950943365, 950943337, 950943374, 950943451, 950943576, 950946133, 950943638, 950943589, 950943614, 950943604, 950943662, 950945605, 950943725, 950943711, 950943698, 950943750, 950943766, 950943915, 950943888, 950944000, 950943988, 950944126, 950944182, 950945713, 950944205, 950937089, 950937067, 950937056, 950937137, 950937149, 950937191, 950937179, 950937159, 950937237, 950937454, 950946920, 950945811, 950945797, 950944551, 950937726, 950944596, 950938132, 950938107, 950938097, 950938084, 950938072, 950938061, 950938036, 950938012, 950937987, 950938120, 950938271, 950938260, 950938250, 950938330, 950938317, 950938296, 950938283, 950938443, 950938429, 950938399, 950938388, 950938377, 950938364, 950938354, 950938343, 950938410, 950938463, 950938452, 950944619, 950938541, 950938530, 950938515, 950938502, 950938487, 950938577, 950938707, 950938694, 950938670, 950938659, 950938626, 950938617, 950938567, 950938729, 950946311, 950938866, 950938747, 950938737, 950944631, 950938931, 950938879, 950938851, 950938837, 950938823, 950938811, 950944681, 950938919, 950938893, 950947274, 950947414, 950947513, 950954326, 950947695, 950947678, 950947644, 950947530, 950954354, 950954345, 950947825, 950947796, 950947765, 950947881, 950947856, 950947932, 950947978, 950947954, 950955208, 950948249, 950948203, 950955044, 950954378, 950948216, 950948280, 950948264, 950948325, 950948313, 950948296, 950948388, 950948501, 950948401, 950948478, 950948463, 950948451, 950948434, 950948513, 950948635, 950948601, 950948556, 950948662, 950948768, 950948727, 950948714, 950948738, 950948990, 950948836, 950948818, 950948908, 950948934, 950949005, 950948974, 950948959, 950949092, 950949033, 950949127, 950949113, 950949102, 950949219, 950949268, 950949398, 950949252, 950949701, 950949497, 950949476, 950949465, 950954505, 950949737, 950949725, 950949682, 950949668, 950949785, 950949800, 950949897, 950949881, 950949866, 950949958, 950950104, 950950090, 950950076, 950950060, 950950015, 950949943, 950950145, 950950221, 950950385, 950950373, 950950358, 950950334, 950950319, 950950303, 950950431, 950950416, 950950399, 950954515, 950950549, 950950539, 950950526, 950950672, 950950657, 950950646, 950950633, 950950798, 950950781, 950950764, 950950883, 950950948, 950950933, 950950923, 950950973, 950950959, 950951021, 950951183, 950951170, 950951157, 950951145, 950951208, 950951194, 950951219, 950951311, 950951279, 950951265, 950951250, 950951338, 950951529, 950952136, 950951600, 950951561, 950955088, 950954714, 950954641, 950951935, 950951667, 950951661, 950951646, 950951634, 950951626, 950951616, 950954686, 950951826, 950951801, 950951711, 950951690, 950955099, 950954699, 950954666, 950951883, 950951839, 950951790, 950951754, 950951744, 950951735, 950951722, 950951924, 950951984, 950952327, 950952387, 950952451, 950952479, 950952742, 950952754, 950952940, 950952814, 950952801, 950952952, 950952922, 950952910, 950952899, 950952885, 950952869, 950952856, 950953168, 950953129, 950953116, 950953021, 950952991, 950953180, 950953191, 950953290, 950953350, 950953390, 950953381, 950953371, 950953464, 950953516, 950953582, 950953690, 950953678, 950953846, 950953757, 950953745, 950953833, 950953822, 950953811, 950953786, 950953893, 950953883, 950953873, 950953945, 950953965, 950947260, 950947376, 950947400, 950947455, 950947442, 950954335, 950947751, 950947731, 950947711, 950948190, 950948176, 950948060, 950948033, 950947908, 950948365, 950948351, 950948420, 950948540, 950948525, 950948677, 950948749, 950948896, 950948801, 950948921, 950949082, 950948945, 950954439, 950949068, 950949166, 950949154, 950949291, 950949281, 950949453, 950949441, 950949429, 950949413, 950949769, 950949751, 950949838, 950950131, 950950028, 950949995, 950950205, 950950180, 950950169, 950950158, 950950044, 950950266, 950950250, 950950235, 950950475, 950950562, 950950516, 950950503, 950950490, 950950460, 950950447, 950950592, 950950577, 950950748, 950950705, 950950607, 950950870, 950950854, 950950833, 950950818, 950950909, 950950898, 950954524, 950951000, 950950987, 950951132, 950951122, 950951111, 950951097, 950951082, 950951067, 950951700, 950951912, 950951777, 950951764, 950951903, 950951893, 950951872, 950951858, 950952303, 950952353, 950952722, 950952790, 950952777, 950952732, 950952842, 950952828, 950953139, 950955601, 950955450, 950953107, 950953093, 950953083, 950953066, 950953337, 950953325, 950953540, 950953711, 950953700, 950953918, 950954946, 950955752, 950955880, 950955861, 950955841, 950956099, 950958652, 950956953, 950958904, 950958681, 950957100, 950957090, 950959094, 950958690, 950957145, 950957051, 950959030, 950958674, 950957221, 950957212, 950957201, 950957522, 950957782, 950957773, 950957765, 950957755, 950957747, 950957789, 950957976, 950958022, 950958006, 950958047, 950958877, 950958072, 950958122, 950958130, 950958149, 950958337, 950958593, 950955797, 950955786, 950958635, 950956091, 950955920, 950956123, 950958602, 950956184, 950956172, 950956158, 950956139, 950956130, 950956245, 950956236, 950956225, 950956314, 950956382, 950956617, 950956725, 950956741, 950956769, 950956750, 950956760, 950956842, 950958668, 950958660, 950957005, 950957041, 950957081, 950957376, 950957231, 950957184, 950957172, 950957165, 950957248, 950958715, 950957276, 950957072, 950959023, 950957365, 950957356, 950957340, 950957385, 950957508, 950957662, 950957653, 950957833, 950957968, 950957961, 950957954, 950958806, 950958957, 950958029, 950958000, 950957990, 950958948, 950958939, 950958827, 950958817, 950958015, 950958038, 950958064])\n"
     ]
    }
   ],
   "source": [
    "len(json_dict)\n",
    "print(json_dict.keys())\n",
    "k = list(json_dict.keys())[0]"
   ]
  },
  {
   "cell_type": "code",
   "execution_count": 15,
   "id": "4a989416",
   "metadata": {},
   "outputs": [
    {
     "data": {
      "text/plain": [
       "[0.0,\n",
       " -0.5146050000000053,\n",
       " -0.634725000000004,\n",
       " -0.6922500000000054,\n",
       " 0.8205599999999975,\n",
       " -0.19909500000000246,\n",
       " -1.468155000000003,\n",
       " -0.3143400000000005,\n",
       " -0.024960000000002758,\n",
       " 0.9763649999999986,\n",
       " 2.1726899999999976,\n",
       " -1.4987700000000053,\n",
       " 0.7731749999999971,\n",
       " 0.3665999999999967,\n",
       " -3.1798650000000124,\n",
       " -10.067264999999995,\n",
       " -19.40990999999999,\n",
       " -25.49118000000001,\n",
       " -29.49277500000001,\n",
       " -26.324805000000012,\n",
       " -18.68646000000001,\n",
       " -15.603900000000014,\n",
       " -7.467719999999996,\n",
       " -2.782454999999992,\n",
       " 0.7729799999999967,\n",
       " 4.625204999999998,\n",
       " 11.593139999999979,\n",
       " 13.961804999999996,\n",
       " 14.125604999999986,\n",
       " 14.18332499999998,\n",
       " 15.288389999999996,\n",
       " 16.17329999999999,\n",
       " 14.888250000000005,\n",
       " 11.398724999999985,\n",
       " 10.67079,\n",
       " 7.884045000000002,\n",
       " 6.539324999999993,\n",
       " 6.735105000000001,\n",
       " 8.496735000000001,\n",
       " 6.316050000000001,\n",
       " 5.860725000000002,\n",
       " 5.598644999999998,\n",
       " 4.495919999999996,\n",
       " 2.6295749999999964,\n",
       " 2.746769999999997,\n",
       " 1.7530499999999967,\n",
       " 2.6449799999999963,\n",
       " 3.4308299999999967,\n",
       " 0.8552699999999975,\n",
       " 2.0428199999999963,\n",
       " 1.3521299999999967,\n",
       " 0.03743999999999614,\n",
       " 0.0538199999999982,\n",
       " 2.0664149999999974,\n",
       " 3.4745099999999978,\n",
       " 0.3983849999999942,\n",
       " 2.766659999999997,\n",
       " 1.3024049999999963,\n",
       " 0.7776599999999967,\n",
       " 1.5950999999999966,\n",
       " 2.2926149999999965,\n",
       " 1.5798899999999967,\n",
       " 2.2887149999999967,\n",
       " 1.3975649999999975,\n",
       " 0.5132399999999973,\n",
       " 0.6085949999999973,\n",
       " -1.4599650000000017,\n",
       " -0.5621850000000017,\n",
       " -0.7995000000000032,\n",
       " -0.07878000000000673,\n",
       " 0.5286449999999994,\n",
       " 0.6337499999999971,\n",
       " 0.776684999999997,\n",
       " -0.5286450000000054,\n",
       " -0.47989500000000396,\n",
       " 1.8630299999999962,\n",
       " 1.5592199999999974,\n",
       " 1.6175249999999965,\n",
       " 0.4709249999999958,\n",
       " -1.4997449999999994,\n",
       " -2.002845000000003,\n",
       " -0.4518150000000052]"
      ]
     },
     "execution_count": 15,
     "metadata": {},
     "output_type": "execute_result"
    }
   ],
   "source": [
    "\n",
    "json_dict[k]['mean_waveform']"
   ]
  },
  {
   "cell_type": "code",
   "execution_count": 16,
   "id": "6f5521fe",
   "metadata": {},
   "outputs": [],
   "source": [
    "import json\n",
    "with open(f'Session_id_719161530.json', \"w\") as outfile: \n",
    "    json.dump(json_dict, outfile)"
   ]
  },
  {
   "cell_type": "code",
   "execution_count": 14,
   "id": "5f3c8a7b",
   "metadata": {},
   "outputs": [],
   "source": [
    "# for key in session.spike_times.keys():\n",
    "#     print(session.spike_times[key])\n"
   ]
  },
  {
   "cell_type": "markdown",
   "id": "7f7a129c",
   "metadata": {
    "papermill": {
     "duration": 0.077525,
     "end_time": "2023-11-30T06:33:59.839817",
     "exception": false,
     "start_time": "2023-11-30T06:33:59.762292",
     "status": "completed"
    },
    "pycharm": {
     "name": "#%% md\n"
    },
    "tags": []
   },
   "source": [
    "As you can see, the `session` object has a lot of attributes and methods that can be used to access the underlying data in the NWB file. Most of these will be touched on in other tutorials, but for now we will look at the only one that is capable of triggering additional data downloads, `get_lfp()`.\n",
    "\n",
    "In general, each NWB file is meant to be a self-contained repository of data for one recording session. However, for the Neuropixels data, we've broken with convention a bit in order to store LFP data in separate files. If we hadn't done this, analyzing one session would require an initial 15 GB file download. Now, the session is broken up in to ~2 GB chunks..\n",
    "\n",
    "Once you have created a `session` object, downloading the LFP data is simple (but may be slow):"
   ]
  },
  {
   "cell_type": "code",
   "execution_count": 15,
   "id": "6fd47ae4",
   "metadata": {
    "execution": {
     "iopub.execute_input": "2023-11-30T06:33:59.996051Z",
     "iopub.status.busy": "2023-11-30T06:33:59.995527Z",
     "iopub.status.idle": "2023-11-30T06:36:59.460373Z",
     "shell.execute_reply": "2023-11-30T06:36:59.459660Z"
    },
    "papermill": {
     "duration": 179.544711,
     "end_time": "2023-11-30T06:36:59.462220",
     "exception": false,
     "start_time": "2023-11-30T06:33:59.917509",
     "status": "completed"
    },
    "pycharm": {
     "name": "#%%\n"
    },
    "tags": []
   },
   "outputs": [
    {
     "name": "stderr",
     "output_type": "stream",
     "text": [
      "/opt/hostedtoolcache/Python/3.8.18/x64/lib/python3.8/site-packages/hdmf/spec/namespace.py:531: UserWarning: Ignoring cached namespace 'hdmf-common' version 1.1.3 because version 1.8.0 is already loaded.\n",
      "  warn(\"Ignoring cached namespace '%s' version %s because version %s is already loaded.\"\n",
      "/opt/hostedtoolcache/Python/3.8.18/x64/lib/python3.8/site-packages/hdmf/spec/namespace.py:531: UserWarning: Ignoring cached namespace 'core' version 2.2.2 because version 2.6.0-alpha is already loaded.\n",
      "  warn(\"Ignoring cached namespace '%s' version %s because version %s is already loaded.\"\n",
      "WARNING:root:downloading a 1967.383MiB file from http://api.brain-map.org//api/v2/well_known_file_download/1026124481\n",
      "Downloading: 100%|██████████| 2.06G/2.06G [02:36<00:00, 13.2MB/s]\n"
     ]
    }
   ],
   "source": [
    "probe_id = session.probes.index.values[0]\n",
    "\n",
    "lfp = session.get_lfp(probe_id)"
   ]
  },
  {
   "cell_type": "markdown",
   "id": "adfd255a",
   "metadata": {
    "papermill": {
     "duration": 0.130023,
     "end_time": "2023-11-30T06:36:59.724222",
     "exception": false,
     "start_time": "2023-11-30T06:36:59.594199",
     "status": "completed"
    },
    "pycharm": {
     "name": "#%% md\n"
    },
    "tags": []
   },
   "source": [
    "Tips for analyzing LFP data can be found in [this tutorial](./ecephys_lfp_analysis.ipynb)."
   ]
  },
  {
   "cell_type": "markdown",
   "id": "9b0aeb80",
   "metadata": {
    "papermill": {
     "duration": 0.130385,
     "end_time": "2023-11-30T06:36:59.986077",
     "exception": false,
     "start_time": "2023-11-30T06:36:59.855692",
     "status": "completed"
    },
    "pycharm": {
     "name": "#%% md\n"
    },
    "tags": []
   },
   "source": [
    "### Downloading the complete dataset\n",
    "\n",
    "Analyzing one session at a time is nice, but in many case you'll want to be able to query across the whole dataset. To fill your cache with all available data, you can use a `for` loop like the one below. Note that we've added some checks to ensure that the complete file is present, in case the download has been interrupted due to an unreliable connection.\n",
    "\n",
    "Before running this code, please make sure that you have enough space available in your cache directory. You'll need around 855 GB for the whole dataset, and 147 GB if you're not downloading the LFP data files."
   ]
  },
  {
   "cell_type": "code",
   "execution_count": 16,
   "id": "edc422b4",
   "metadata": {
    "execution": {
     "iopub.execute_input": "2023-11-30T06:37:00.253446Z",
     "iopub.status.busy": "2023-11-30T06:37:00.252956Z",
     "iopub.status.idle": "2023-11-30T06:37:00.258616Z",
     "shell.execute_reply": "2023-11-30T06:37:00.258058Z"
    },
    "papermill": {
     "duration": 0.140528,
     "end_time": "2023-11-30T06:37:00.259967",
     "exception": false,
     "start_time": "2023-11-30T06:37:00.119439",
     "status": "completed"
    },
    "pycharm": {
     "name": "#%%\n"
    },
    "tags": []
   },
   "outputs": [],
   "source": [
    "if DOWNLOAD_COMPLETE_DATASET:\n",
    "    for session_id, row in sessions.iterrows():\n",
    "\n",
    "        truncated_file = True\n",
    "        directory = os.path.join(output_dir + '/session_' + str(session_id))\n",
    "\n",
    "        while truncated_file:\n",
    "            session = cache.get_session_data(session_id)\n",
    "            try:\n",
    "                print(session.specimen_name)\n",
    "                truncated_file = False\n",
    "            except OSError:\n",
    "                shutil.rmtree(directory)\n",
    "                print(\" Truncated spikes file, re-downloading\")\n",
    "\n",
    "        for probe_id, probe in session.probes.iterrows():\n",
    "\n",
    "            print(' ' + probe.description)\n",
    "            truncated_lfp = True\n",
    "\n",
    "            while truncated_lfp:\n",
    "                try:\n",
    "                    lfp = session.get_lfp(probe_id)\n",
    "                    truncated_lfp = False\n",
    "                except OSError:\n",
    "                    fname = directory + '/probe_' + str(probe_id) + '_lfp.nwb'\n",
    "                    os.remove(fname)\n",
    "                    print(\"  Truncated LFP file, re-downloading\")\n",
    "                except ValueError:\n",
    "                    print(\"  LFP file not found.\")\n",
    "                    truncated_lfp = False"
   ]
  },
  {
   "cell_type": "markdown",
   "id": "58e81eff",
   "metadata": {
    "papermill": {
     "duration": 0.130696,
     "end_time": "2023-11-30T06:37:00.524750",
     "exception": false,
     "start_time": "2023-11-30T06:37:00.394054",
     "status": "completed"
    },
    "pycharm": {
     "name": "#%% md\n"
    },
    "tags": []
   },
   "source": [
    "## Accessing data on AWS"
   ]
  },
  {
   "cell_type": "markdown",
   "id": "53339a6d",
   "metadata": {
    "papermill": {
     "duration": 0.130405,
     "end_time": "2023-11-30T06:37:00.786078",
     "exception": false,
     "start_time": "2023-11-30T06:37:00.655673",
     "status": "completed"
    },
    "pycharm": {
     "name": "#%% md\n"
    },
    "tags": []
   },
   "source": [
    "If you want to analyze the data without downloading anything to your local machine, you can use the AllenSDK on AWS.\n",
    "\n",
    "Follow [these instructions](https://github.com/AllenInstitute/AllenSDK/wiki/Use-the-Allen-Brain-Observatory-%E2%80%93-Visual-Coding-on-AWS) to launch a Jupyter notebook. Then, simply point to the existing manifest file in the Allen Institute's S3 bucket, and all of the data will be immediately available:"
   ]
  },
  {
   "cell_type": "code",
   "execution_count": 17,
   "id": "d4ae45de",
   "metadata": {
    "execution": {
     "iopub.execute_input": "2023-11-30T06:37:01.081882Z",
     "iopub.status.busy": "2023-11-30T06:37:01.081613Z",
     "iopub.status.idle": "2023-11-30T06:37:01.085220Z",
     "shell.execute_reply": "2023-11-30T06:37:01.084715Z"
    },
    "papermill": {
     "duration": 0.167183,
     "end_time": "2023-11-30T06:37:01.086515",
     "exception": false,
     "start_time": "2023-11-30T06:37:00.919332",
     "status": "completed"
    },
    "pycharm": {
     "name": "#%%\n"
    },
    "tags": []
   },
   "outputs": [],
   "source": [
    "cache = EcephysProjectCache(manifest=manifest_path)"
   ]
  },
  {
   "cell_type": "markdown",
   "id": "33b55412",
   "metadata": {
    "papermill": {
     "duration": 0.132476,
     "end_time": "2023-11-30T06:37:01.352339",
     "exception": false,
     "start_time": "2023-11-30T06:37:01.219863",
     "status": "completed"
    },
    "pycharm": {
     "name": "#%% md\n"
    },
    "tags": []
   },
   "source": [
    "Once your cache is initialized, you can create the `sessions` table, load individual `session` objects, and access LFP data using the same commands described above.\n",
    "\n",
    "Additional tutorials specific to using AWS are coming soon."
   ]
  },
  {
   "cell_type": "markdown",
   "id": "bbf77a21",
   "metadata": {
    "papermill": {
     "duration": 0.130782,
     "end_time": "2023-11-30T06:37:01.615168",
     "exception": false,
     "start_time": "2023-11-30T06:37:01.484386",
     "status": "completed"
    },
    "pycharm": {
     "name": "#%% md\n"
    },
    "tags": []
   },
   "source": [
    "## Direct download via api.brain-map.org"
   ]
  },
  {
   "cell_type": "markdown",
   "id": "434220ac",
   "metadata": {
    "papermill": {
     "duration": 0.130764,
     "end_time": "2023-11-30T06:37:01.877139",
     "exception": false,
     "start_time": "2023-11-30T06:37:01.746375",
     "status": "completed"
    },
    "pycharm": {
     "name": "#%% md\n"
    },
    "tags": []
   },
   "source": [
    "Some people have reported issues downloading the files via the AllenSDK (the connection is extremely slow, or gets interrupted frequently). If this applies to you, you can try downloading the files via HTTP requests sent to **api.brain-map.org**. This approach is not recommended, because you will have to manually keep track of the file locations. But if you're doing analysis that doesn't depend on the AllenSDK (e.g., in Matlab), this may not matter to you.\n",
    "\n",
    "You can follow the steps below to retrieve the URLs for all of the NWB files in this dataset."
   ]
  },
  {
   "cell_type": "code",
   "execution_count": 18,
   "id": "51c15b73",
   "metadata": {
    "execution": {
     "iopub.execute_input": "2023-11-30T06:37:02.169911Z",
     "iopub.status.busy": "2023-11-30T06:37:02.169457Z",
     "iopub.status.idle": "2023-11-30T06:37:02.173283Z",
     "shell.execute_reply": "2023-11-30T06:37:02.172744Z"
    },
    "papermill": {
     "duration": 0.166857,
     "end_time": "2023-11-30T06:37:02.174570",
     "exception": false,
     "start_time": "2023-11-30T06:37:02.007713",
     "status": "completed"
    },
    "pycharm": {
     "name": "#%%\n"
    },
    "tags": []
   },
   "outputs": [],
   "source": [
    "from allensdk.brain_observatory.ecephys.ecephys_project_api.utilities import build_and_execute\n",
    "from allensdk.brain_observatory.ecephys.ecephys_project_api.rma_engine import RmaEngine\n",
    "from allensdk.brain_observatory.ecephys.ecephys_project_cache import EcephysProjectCache\n",
    "\n",
    "rma_engine = RmaEngine(scheme=\"http\", host=\"api.brain-map.org\")"
   ]
  },
  {
   "cell_type": "code",
   "execution_count": 19,
   "id": "49fdecb5",
   "metadata": {
    "execution": {
     "iopub.execute_input": "2023-11-30T06:37:02.441601Z",
     "iopub.status.busy": "2023-11-30T06:37:02.440997Z",
     "iopub.status.idle": "2023-11-30T06:37:03.099094Z",
     "shell.execute_reply": "2023-11-30T06:37:03.098439Z"
    },
    "papermill": {
     "duration": 0.793805,
     "end_time": "2023-11-30T06:37:03.100741",
     "exception": false,
     "start_time": "2023-11-30T06:37:02.306936",
     "status": "completed"
    },
    "pycharm": {
     "name": "#%%\n"
    },
    "tags": []
   },
   "outputs": [],
   "source": [
    "cache = EcephysProjectCache.from_warehouse(manifest=manifest_path)\n",
    "\n",
    "sessions = cache.get_session_table()"
   ]
  },
  {
   "cell_type": "code",
   "execution_count": 20,
   "id": "71ed43a0",
   "metadata": {
    "execution": {
     "iopub.execute_input": "2023-11-30T06:37:03.365507Z",
     "iopub.status.busy": "2023-11-30T06:37:03.364830Z",
     "iopub.status.idle": "2023-11-30T06:37:13.344314Z",
     "shell.execute_reply": "2023-11-30T06:37:13.343653Z"
    },
    "papermill": {
     "duration": 10.111752,
     "end_time": "2023-11-30T06:37:13.345613",
     "exception": false,
     "start_time": "2023-11-30T06:37:03.233861",
     "status": "completed"
    },
    "pycharm": {
     "name": "#%%\n"
    },
    "tags": []
   },
   "outputs": [
    {
     "name": "stdout",
     "output_type": "stream",
     "text": [
      "http://api.brain-map.org//api/v2/well_known_file_download/1026124469\n",
      "http://api.brain-map.org//api/v2/well_known_file_download/1026124034\n",
      "http://api.brain-map.org//api/v2/well_known_file_download/1026123696\n",
      "http://api.brain-map.org//api/v2/well_known_file_download/1026123599\n",
      "http://api.brain-map.org//api/v2/well_known_file_download/1026123989\n",
      "http://api.brain-map.org//api/v2/well_known_file_download/1026123897\n",
      "http://api.brain-map.org//api/v2/well_known_file_download/1026123964\n",
      "http://api.brain-map.org//api/v2/well_known_file_download/1026124068\n",
      "http://api.brain-map.org//api/v2/well_known_file_download/1026124429\n",
      "http://api.brain-map.org//api/v2/well_known_file_download/1026124262\n",
      "http://api.brain-map.org//api/v2/well_known_file_download/1026124724\n",
      "http://api.brain-map.org//api/v2/well_known_file_download/1026124242\n",
      "http://api.brain-map.org//api/v2/well_known_file_download/1026124863\n",
      "http://api.brain-map.org//api/v2/well_known_file_download/1026123537\n",
      "http://api.brain-map.org//api/v2/well_known_file_download/1026124326\n",
      "http://api.brain-map.org//api/v2/well_known_file_download/1026124684\n",
      "http://api.brain-map.org//api/v2/well_known_file_download/1026124216\n",
      "http://api.brain-map.org//api/v2/well_known_file_download/1026124603\n",
      "http://api.brain-map.org//api/v2/well_known_file_download/1026123685\n",
      "http://api.brain-map.org//api/v2/well_known_file_download/1026123877\n",
      "http://api.brain-map.org//api/v2/well_known_file_download/1026123377\n",
      "http://api.brain-map.org//api/v2/well_known_file_download/1026123651\n",
      "http://api.brain-map.org//api/v2/well_known_file_download/1026124702\n",
      "http://api.brain-map.org//api/v2/well_known_file_download/1026124793\n",
      "http://api.brain-map.org//api/v2/well_known_file_download/1026124884\n",
      "http://api.brain-map.org//api/v2/well_known_file_download/1026124569\n",
      "http://api.brain-map.org//api/v2/well_known_file_download/1026124500\n",
      "http://api.brain-map.org//api/v2/well_known_file_download/1026124293\n",
      "http://api.brain-map.org//api/v2/well_known_file_download/1026124194\n",
      "http://api.brain-map.org//api/v2/well_known_file_download/1026124517\n",
      "http://api.brain-map.org//api/v2/well_known_file_download/1026124918\n",
      "http://api.brain-map.org//api/v2/well_known_file_download/1026124152\n",
      "http://api.brain-map.org//api/v2/well_known_file_download/1026124109\n",
      "http://api.brain-map.org//api/v2/well_known_file_download/1026124348\n",
      "http://api.brain-map.org//api/v2/well_known_file_download/1026124625\n",
      "http://api.brain-map.org//api/v2/well_known_file_download/1026124179\n",
      "http://api.brain-map.org//api/v2/well_known_file_download/1026124007\n",
      "http://api.brain-map.org//api/v2/well_known_file_download/1026124309\n",
      "http://api.brain-map.org//api/v2/well_known_file_download/1026123803\n",
      "http://api.brain-map.org//api/v2/well_known_file_download/1026124405\n",
      "http://api.brain-map.org//api/v2/well_known_file_download/1026123847\n",
      "http://api.brain-map.org//api/v2/well_known_file_download/1026124645\n",
      "http://api.brain-map.org//api/v2/well_known_file_download/1026124545\n",
      "http://api.brain-map.org//api/v2/well_known_file_download/1026124759\n",
      "http://api.brain-map.org//api/v2/well_known_file_download/1026124804\n",
      "http://api.brain-map.org//api/v2/well_known_file_download/1026124743\n",
      "http://api.brain-map.org//api/v2/well_known_file_download/1026125021\n",
      "http://api.brain-map.org//api/v2/well_known_file_download/1026124840\n",
      "http://api.brain-map.org//api/v2/well_known_file_download/1026124085\n",
      "http://api.brain-map.org//api/v2/well_known_file_download/1026124368\n",
      "http://api.brain-map.org//api/v2/well_known_file_download/1026123824\n",
      "http://api.brain-map.org//api/v2/well_known_file_download/1026123625\n",
      "http://api.brain-map.org//api/v2/well_known_file_download/1026123787\n",
      "http://api.brain-map.org//api/v2/well_known_file_download/1026123519\n",
      "http://api.brain-map.org//api/v2/well_known_file_download/1026123725\n",
      "http://api.brain-map.org//api/v2/well_known_file_download/1026122596\n",
      "http://api.brain-map.org//api/v2/well_known_file_download/1026124422\n",
      "http://api.brain-map.org//api/v2/well_known_file_download/1026123943\n"
     ]
    }
   ],
   "source": [
    "def retrieve_link(session_id):\n",
    "    \n",
    "    well_known_files = build_and_execute(\n",
    "        (\n",
    "        \"criteria=model::WellKnownFile\"\n",
    "        \",rma::criteria,well_known_file_type[name$eq'EcephysNwb']\"\n",
    "        \"[attachable_type$eq'EcephysSession']\"\n",
    "        r\"[attachable_id$eq{{session_id}}]\"\n",
    "        ),\n",
    "        engine=rma_engine.get_rma_tabular, \n",
    "        session_id=session_id\n",
    "    )\n",
    "    \n",
    "    return 'http://api.brain-map.org/' + well_known_files['download_link'].iloc[0]\n",
    "\n",
    "download_links = [retrieve_link(session_id) for session_id in sessions.index.values]\n",
    "\n",
    "_ = [print(link) for link in download_links]"
   ]
  },
  {
   "cell_type": "markdown",
   "id": "48f4fbba",
   "metadata": {
    "papermill": {
     "duration": 0.142373,
     "end_time": "2023-11-30T06:37:13.621529",
     "exception": false,
     "start_time": "2023-11-30T06:37:13.479156",
     "status": "completed"
    },
    "pycharm": {
     "name": "#%% md\n"
    },
    "tags": []
   },
   "source": [
    "`download_links` is a list of 58 links that can be used to download the NWB files for all available sessions. Clicking on the links above should start the download automatically.\n",
    "\n",
    "Please keep in mind that you'll have to move these files to the appropriate sub-directory once the download is complete. The `EcephysProjectCache` object expects the following directory structure:\n",
    "\n",
    "```\n",
    "cache_dir/\n",
    "+-- manifest.json               \n",
    "+-- session_<id>/    \n",
    "¦   +-- session_<id>.nwb\n",
    "+-- session_<id>/\n",
    "¦   +-- session_<id>.nwb\n",
    "+-- session_<id>/\n",
    "¦   +-- session_<id>.nwb\n",
    "\n",
    "```\n",
    "\n",
    "If you aren't interested in using the `EcephysProjectCache` object to keep track of what you've downloaded, you can create a `session` object just by passing a path to an NWB file:"
   ]
  },
  {
   "cell_type": "code",
   "execution_count": 21,
   "id": "19129285",
   "metadata": {
    "execution": {
     "iopub.execute_input": "2023-11-30T06:37:13.913366Z",
     "iopub.status.busy": "2023-11-30T06:37:13.913094Z",
     "iopub.status.idle": "2023-11-30T06:37:13.916707Z",
     "shell.execute_reply": "2023-11-30T06:37:13.916151Z"
    },
    "papermill": {
     "duration": 0.136313,
     "end_time": "2023-11-30T06:37:13.917966",
     "exception": false,
     "start_time": "2023-11-30T06:37:13.781653",
     "status": "completed"
    },
    "pycharm": {
     "name": "#%%\n"
    },
    "tags": []
   },
   "outputs": [],
   "source": [
    "from allensdk.brain_observatory.ecephys.ecephys_session import EcephysSession\n",
    "\n",
    "# nwb_path = '/mnt/nvme0/ecephys_cache_dir_10_31/session_721123822/session_721123822.nwb'\n",
    "\n",
    "# session = EcephysSession.from_nwb_path(nwb_path, api_kwargs={\n",
    "#         \"amplitude_cutoff_maximum\": np.inf,\n",
    "#         \"presence_ratio_minimum\": -np.inf,\n",
    "#         \"isi_violations_maximum\": np.inf\n",
    "#     })"
   ]
  },
  {
   "cell_type": "markdown",
   "id": "c99ad34f",
   "metadata": {
    "papermill": {
     "duration": 0.131136,
     "end_time": "2023-11-30T06:37:14.180603",
     "exception": false,
     "start_time": "2023-11-30T06:37:14.049467",
     "status": "completed"
    },
    "pycharm": {
     "name": "#%% md\n"
    },
    "tags": []
   },
   "source": [
    "This will load the data for one session, without applying the default unit quality metric filters. Everything will be available except the LFP data, because the `get_lfp()` method can only find the associated LFP files if you're using the `EcephysProjectCache` object.\n",
    "\n",
    "To obtain similar links for the LFP files, you can use the following code:"
   ]
  },
  {
   "cell_type": "code",
   "execution_count": 22,
   "id": "28a3b1de",
   "metadata": {
    "execution": {
     "iopub.execute_input": "2023-11-30T06:37:14.442979Z",
     "iopub.status.busy": "2023-11-30T06:37:14.442721Z",
     "iopub.status.idle": "2023-11-30T06:38:06.702943Z",
     "shell.execute_reply": "2023-11-30T06:38:06.702240Z"
    },
    "papermill": {
     "duration": 52.526123,
     "end_time": "2023-11-30T06:38:06.837588",
     "exception": false,
     "start_time": "2023-11-30T06:37:14.311465",
     "status": "completed"
    },
    "pycharm": {
     "name": "#%%\n"
    },
    "tags": []
   },
   "outputs": [
    {
     "name": "stdout",
     "output_type": "stream",
     "text": [
      "http://api.brain-map.org//api/v2/well_known_file_download/1026124040\n",
      "http://api.brain-map.org//api/v2/well_known_file_download/1026124036\n",
      "http://api.brain-map.org//api/v2/well_known_file_download/1026124038\n",
      "http://api.brain-map.org//api/v2/well_known_file_download/1026124042\n",
      "http://api.brain-map.org//api/v2/well_known_file_download/1026124044\n",
      "http://api.brain-map.org//api/v2/well_known_file_download/1026124046\n",
      "http://api.brain-map.org//api/v2/well_known_file_download/1026123601\n",
      "http://api.brain-map.org//api/v2/well_known_file_download/1026123603\n",
      "http://api.brain-map.org//api/v2/well_known_file_download/1026123605\n",
      "http://api.brain-map.org//api/v2/well_known_file_download/1026123607\n",
      "http://api.brain-map.org//api/v2/well_known_file_download/1026123609\n",
      "http://api.brain-map.org//api/v2/well_known_file_download/1026123539\n",
      "http://api.brain-map.org//api/v2/well_known_file_download/1026123543\n",
      "http://api.brain-map.org//api/v2/well_known_file_download/1026123550\n",
      "http://api.brain-map.org//api/v2/well_known_file_download/1026123546\n",
      "http://api.brain-map.org//api/v2/well_known_file_download/1026123541\n",
      "http://api.brain-map.org//api/v2/well_known_file_download/1026123548\n",
      "http://api.brain-map.org//api/v2/well_known_file_download/1026124433\n",
      "http://api.brain-map.org//api/v2/well_known_file_download/1026124436\n",
      "http://api.brain-map.org//api/v2/well_known_file_download/1026124439\n",
      "http://api.brain-map.org//api/v2/well_known_file_download/1026124442\n",
      "http://api.brain-map.org//api/v2/well_known_file_download/1026124446\n",
      "http://api.brain-map.org//api/v2/well_known_file_download/1026124448\n",
      "http://api.brain-map.org//api/v2/well_known_file_download/1026124728\n",
      "http://api.brain-map.org//api/v2/well_known_file_download/1026124726\n",
      "http://api.brain-map.org//api/v2/well_known_file_download/1026124730\n",
      "http://api.brain-map.org//api/v2/well_known_file_download/1026124732\n",
      "http://api.brain-map.org//api/v2/well_known_file_download/1026124737\n",
      "http://api.brain-map.org//api/v2/well_known_file_download/1026124735\n",
      "http://api.brain-map.org//api/v2/well_known_file_download/1026123901\n",
      "http://api.brain-map.org//api/v2/well_known_file_download/1026123909\n",
      "http://api.brain-map.org//api/v2/well_known_file_download/1026123907\n",
      "http://api.brain-map.org//api/v2/well_known_file_download/1026123905\n",
      "http://api.brain-map.org//api/v2/well_known_file_download/1026123903\n",
      "http://api.brain-map.org//api/v2/well_known_file_download/1026123899\n",
      "http://api.brain-map.org//api/v2/well_known_file_download/1026124867\n",
      "http://api.brain-map.org//api/v2/well_known_file_download/1026124871\n",
      "http://api.brain-map.org//api/v2/well_known_file_download/1026124873\n",
      "http://api.brain-map.org//api/v2/well_known_file_download/1026124875\n",
      "http://api.brain-map.org//api/v2/well_known_file_download/1026124869\n",
      "http://api.brain-map.org//api/v2/well_known_file_download/1026124865\n",
      "http://api.brain-map.org//api/v2/well_known_file_download/1026123993\n",
      "http://api.brain-map.org//api/v2/well_known_file_download/1026123997\n",
      "http://api.brain-map.org//api/v2/well_known_file_download/1026124001\n",
      "http://api.brain-map.org//api/v2/well_known_file_download/1026123999\n",
      "http://api.brain-map.org//api/v2/well_known_file_download/1026123995\n",
      "http://api.brain-map.org//api/v2/well_known_file_download/1026123991\n",
      "http://api.brain-map.org//api/v2/well_known_file_download/1026123702\n",
      "http://api.brain-map.org//api/v2/well_known_file_download/1026123704\n",
      "http://api.brain-map.org//api/v2/well_known_file_download/1026123700\n",
      "http://api.brain-map.org//api/v2/well_known_file_download/1026123706\n",
      "http://api.brain-map.org//api/v2/well_known_file_download/1026123710\n",
      "http://api.brain-map.org//api/v2/well_known_file_download/1026123708\n",
      "http://api.brain-map.org//api/v2/well_known_file_download/1026124330\n",
      "http://api.brain-map.org//api/v2/well_known_file_download/1026124334\n",
      "http://api.brain-map.org//api/v2/well_known_file_download/1026124337\n",
      "http://api.brain-map.org//api/v2/well_known_file_download/1026124332\n",
      "http://api.brain-map.org//api/v2/well_known_file_download/1026124328\n",
      "http://api.brain-map.org//api/v2/well_known_file_download/1026124229\n",
      "http://api.brain-map.org//api/v2/well_known_file_download/1026124227\n",
      "http://api.brain-map.org//api/v2/well_known_file_download/1026124225\n",
      "http://api.brain-map.org//api/v2/well_known_file_download/1026124221\n",
      "http://api.brain-map.org//api/v2/well_known_file_download/1026124223\n",
      "http://api.brain-map.org//api/v2/well_known_file_download/1026124219\n",
      "http://api.brain-map.org//api/v2/well_known_file_download/1026124697\n",
      "http://api.brain-map.org//api/v2/well_known_file_download/1026124695\n",
      "http://api.brain-map.org//api/v2/well_known_file_download/1026124688\n",
      "http://api.brain-map.org//api/v2/well_known_file_download/1026124686\n",
      "http://api.brain-map.org//api/v2/well_known_file_download/1026124690\n",
      "http://api.brain-map.org//api/v2/well_known_file_download/1026124693\n",
      "http://api.brain-map.org//api/v2/well_known_file_download/1026124268\n",
      "http://api.brain-map.org//api/v2/well_known_file_download/1026124266\n",
      "http://api.brain-map.org//api/v2/well_known_file_download/1026124264\n",
      "http://api.brain-map.org//api/v2/well_known_file_download/1026124270\n",
      "http://api.brain-map.org//api/v2/well_known_file_download/1026124272\n",
      "http://api.brain-map.org//api/v2/well_known_file_download/1026124274\n",
      "http://api.brain-map.org//api/v2/well_known_file_download/1026124888\n",
      "http://api.brain-map.org//api/v2/well_known_file_download/1026124890\n",
      "http://api.brain-map.org//api/v2/well_known_file_download/1026124886\n",
      "http://api.brain-map.org//api/v2/well_known_file_download/1026124892\n",
      "http://api.brain-map.org//api/v2/well_known_file_download/1026124894\n",
      "http://api.brain-map.org//api/v2/well_known_file_download/1026124803\n",
      "http://api.brain-map.org//api/v2/well_known_file_download/1026124799\n",
      "http://api.brain-map.org//api/v2/well_known_file_download/1026124795\n",
      "http://api.brain-map.org//api/v2/well_known_file_download/1026124801\n",
      "http://api.brain-map.org//api/v2/well_known_file_download/1026124797\n",
      "http://api.brain-map.org//api/v2/well_known_file_download/1026124806\n",
      "http://api.brain-map.org//api/v2/well_known_file_download/1026124571\n",
      "http://api.brain-map.org//api/v2/well_known_file_download/1026124575\n",
      "http://api.brain-map.org//api/v2/well_known_file_download/1026124579\n",
      "http://api.brain-map.org//api/v2/well_known_file_download/1026124577\n",
      "http://api.brain-map.org//api/v2/well_known_file_download/1026124582\n",
      "http://api.brain-map.org//api/v2/well_known_file_download/1026124573\n",
      "http://api.brain-map.org//api/v2/well_known_file_download/1026123975\n",
      "http://api.brain-map.org//api/v2/well_known_file_download/1026123978\n",
      "http://api.brain-map.org//api/v2/well_known_file_download/1026123973\n",
      "http://api.brain-map.org//api/v2/well_known_file_download/1026123966\n",
      "http://api.brain-map.org//api/v2/well_known_file_download/1026123971\n",
      "http://api.brain-map.org//api/v2/well_known_file_download/1026123969\n",
      "http://api.brain-map.org//api/v2/well_known_file_download/1026124614\n",
      "http://api.brain-map.org//api/v2/well_known_file_download/1026124612\n",
      "http://api.brain-map.org//api/v2/well_known_file_download/1026124616\n",
      "http://api.brain-map.org//api/v2/well_known_file_download/1026124610\n",
      "http://api.brain-map.org//api/v2/well_known_file_download/1026124607\n",
      "http://api.brain-map.org//api/v2/well_known_file_download/1026124605\n",
      "http://api.brain-map.org//api/v2/well_known_file_download/1026123385\n",
      "http://api.brain-map.org//api/v2/well_known_file_download/1026123383\n",
      "http://api.brain-map.org//api/v2/well_known_file_download/1026123379\n",
      "http://api.brain-map.org//api/v2/well_known_file_download/1026123381\n",
      "http://api.brain-map.org//api/v2/well_known_file_download/1026124248\n",
      "http://api.brain-map.org//api/v2/well_known_file_download/1026124246\n",
      "http://api.brain-map.org//api/v2/well_known_file_download/1026124252\n",
      "http://api.brain-map.org//api/v2/well_known_file_download/1026124250\n",
      "http://api.brain-map.org//api/v2/well_known_file_download/1026124254\n",
      "http://api.brain-map.org//api/v2/well_known_file_download/1026124244\n",
      "http://api.brain-map.org//api/v2/well_known_file_download/1026124709\n",
      "http://api.brain-map.org//api/v2/well_known_file_download/1026124707\n",
      "http://api.brain-map.org//api/v2/well_known_file_download/1026124704\n",
      "http://api.brain-map.org//api/v2/well_known_file_download/1026124711\n",
      "http://api.brain-map.org//api/v2/well_known_file_download/1026124713\n",
      "http://api.brain-map.org//api/v2/well_known_file_download/1026124715\n",
      "http://api.brain-map.org//api/v2/well_known_file_download/1026123691\n",
      "http://api.brain-map.org//api/v2/well_known_file_download/1026123695\n",
      "http://api.brain-map.org//api/v2/well_known_file_download/1026123693\n",
      "http://api.brain-map.org//api/v2/well_known_file_download/1026123689\n",
      "http://api.brain-map.org//api/v2/well_known_file_download/1026123687\n",
      "http://api.brain-map.org//api/v2/well_known_file_download/1026124073\n",
      "http://api.brain-map.org//api/v2/well_known_file_download/1026124075\n",
      "http://api.brain-map.org//api/v2/well_known_file_download/1026124071\n",
      "http://api.brain-map.org//api/v2/well_known_file_download/1026124082\n",
      "http://api.brain-map.org//api/v2/well_known_file_download/1026124079\n",
      "http://api.brain-map.org//api/v2/well_known_file_download/1026124077\n",
      "http://api.brain-map.org//api/v2/well_known_file_download/1026123879\n",
      "http://api.brain-map.org//api/v2/well_known_file_download/1026123881\n",
      "http://api.brain-map.org//api/v2/well_known_file_download/1026123883\n",
      "http://api.brain-map.org//api/v2/well_known_file_download/1026123885\n",
      "http://api.brain-map.org//api/v2/well_known_file_download/1026124205\n",
      "http://api.brain-map.org//api/v2/well_known_file_download/1026124208\n",
      "http://api.brain-map.org//api/v2/well_known_file_download/1026124199\n",
      "http://api.brain-map.org//api/v2/well_known_file_download/1026124197\n",
      "http://api.brain-map.org//api/v2/well_known_file_download/1026124201\n",
      "http://api.brain-map.org//api/v2/well_known_file_download/1026124203\n",
      "http://api.brain-map.org//api/v2/well_known_file_download/1026124507\n",
      "http://api.brain-map.org//api/v2/well_known_file_download/1026124504\n",
      "http://api.brain-map.org//api/v2/well_known_file_download/1026124502\n",
      "http://api.brain-map.org//api/v2/well_known_file_download/1026124509\n",
      "file for probe 773463023 not found\n",
      "http://api.brain-map.org//api/v2/well_known_file_download/1026124511\n",
      "http://api.brain-map.org//api/v2/well_known_file_download/1026124519\n",
      "http://api.brain-map.org//api/v2/well_known_file_download/1026124523\n",
      "http://api.brain-map.org//api/v2/well_known_file_download/1026124527\n",
      "http://api.brain-map.org//api/v2/well_known_file_download/1026124525\n",
      "http://api.brain-map.org//api/v2/well_known_file_download/1026124521\n",
      "http://api.brain-map.org//api/v2/well_known_file_download/1026124529\n",
      "http://api.brain-map.org//api/v2/well_known_file_download/1026124299\n",
      "http://api.brain-map.org//api/v2/well_known_file_download/1026124297\n",
      "http://api.brain-map.org//api/v2/well_known_file_download/1026124295\n",
      "http://api.brain-map.org//api/v2/well_known_file_download/1026124301\n",
      "http://api.brain-map.org//api/v2/well_known_file_download/1026124303\n",
      "http://api.brain-map.org//api/v2/well_known_file_download/1026124305\n",
      "http://api.brain-map.org//api/v2/well_known_file_download/1026124922\n",
      "http://api.brain-map.org//api/v2/well_known_file_download/1026124924\n",
      "http://api.brain-map.org//api/v2/well_known_file_download/1026124926\n",
      "http://api.brain-map.org//api/v2/well_known_file_download/1026124928\n",
      "http://api.brain-map.org//api/v2/well_known_file_download/1026124930\n",
      "http://api.brain-map.org//api/v2/well_known_file_download/1026124920\n",
      "http://api.brain-map.org//api/v2/well_known_file_download/1026124156\n",
      "http://api.brain-map.org//api/v2/well_known_file_download/1026124164\n",
      "http://api.brain-map.org//api/v2/well_known_file_download/1026124160\n",
      "http://api.brain-map.org//api/v2/well_known_file_download/1026124162\n",
      "http://api.brain-map.org//api/v2/well_known_file_download/1026124158\n",
      "http://api.brain-map.org//api/v2/well_known_file_download/1026124154\n",
      "http://api.brain-map.org//api/v2/well_known_file_download/1026124415\n",
      "http://api.brain-map.org//api/v2/well_known_file_download/1026124413\n",
      "http://api.brain-map.org//api/v2/well_known_file_download/1026124417\n",
      "http://api.brain-map.org//api/v2/well_known_file_download/1026124409\n",
      "http://api.brain-map.org//api/v2/well_known_file_download/1026124411\n",
      "http://api.brain-map.org//api/v2/well_known_file_download/1026124407\n",
      "http://api.brain-map.org//api/v2/well_known_file_download/1026124311\n",
      "http://api.brain-map.org//api/v2/well_known_file_download/1026124313\n",
      "http://api.brain-map.org//api/v2/well_known_file_download/1026124319\n",
      "http://api.brain-map.org//api/v2/well_known_file_download/1026124317\n",
      "http://api.brain-map.org//api/v2/well_known_file_download/1026124321\n",
      "http://api.brain-map.org//api/v2/well_known_file_download/1026124315\n",
      "http://api.brain-map.org//api/v2/well_known_file_download/1026124350\n",
      "http://api.brain-map.org//api/v2/well_known_file_download/1026124354\n",
      "http://api.brain-map.org//api/v2/well_known_file_download/1026124356\n",
      "http://api.brain-map.org//api/v2/well_known_file_download/1026124358\n",
      "http://api.brain-map.org//api/v2/well_known_file_download/1026124360\n",
      "http://api.brain-map.org//api/v2/well_known_file_download/1026124352\n",
      "http://api.brain-map.org//api/v2/well_known_file_download/1026124627\n",
      "http://api.brain-map.org//api/v2/well_known_file_download/1026124631\n",
      "http://api.brain-map.org//api/v2/well_known_file_download/1026124629\n",
      "http://api.brain-map.org//api/v2/well_known_file_download/1026124634\n",
      "http://api.brain-map.org//api/v2/well_known_file_download/1026124638\n",
      "http://api.brain-map.org//api/v2/well_known_file_download/1026124636\n",
      "http://api.brain-map.org//api/v2/well_known_file_download/1026123805\n",
      "http://api.brain-map.org//api/v2/well_known_file_download/1026123809\n",
      "http://api.brain-map.org//api/v2/well_known_file_download/1026123807\n",
      "http://api.brain-map.org//api/v2/well_known_file_download/1026123811\n",
      "http://api.brain-map.org//api/v2/well_known_file_download/1026123813\n",
      "http://api.brain-map.org//api/v2/well_known_file_download/1026123815\n",
      "http://api.brain-map.org//api/v2/well_known_file_download/1026124183\n",
      "http://api.brain-map.org//api/v2/well_known_file_download/1026124187\n",
      "http://api.brain-map.org//api/v2/well_known_file_download/1026124185\n",
      "http://api.brain-map.org//api/v2/well_known_file_download/1026124181\n",
      "http://api.brain-map.org//api/v2/well_known_file_download/1026124189\n",
      "http://api.brain-map.org//api/v2/well_known_file_download/1026124191\n",
      "http://api.brain-map.org//api/v2/well_known_file_download/1026124013\n",
      "http://api.brain-map.org//api/v2/well_known_file_download/1026124011\n",
      "http://api.brain-map.org//api/v2/well_known_file_download/1026124009\n",
      "http://api.brain-map.org//api/v2/well_known_file_download/1026124015\n",
      "http://api.brain-map.org//api/v2/well_known_file_download/1026124017\n",
      "http://api.brain-map.org//api/v2/well_known_file_download/1026124019\n",
      "http://api.brain-map.org//api/v2/well_known_file_download/1026124111\n",
      "http://api.brain-map.org//api/v2/well_known_file_download/1026124116\n",
      "http://api.brain-map.org//api/v2/well_known_file_download/1026124114\n",
      "http://api.brain-map.org//api/v2/well_known_file_download/1026124118\n",
      "http://api.brain-map.org//api/v2/well_known_file_download/1026124120\n",
      "http://api.brain-map.org//api/v2/well_known_file_download/1026124123\n",
      "http://api.brain-map.org//api/v2/well_known_file_download/1026124754\n",
      "http://api.brain-map.org//api/v2/well_known_file_download/1026124748\n",
      "http://api.brain-map.org//api/v2/well_known_file_download/1026124746\n",
      "http://api.brain-map.org//api/v2/well_known_file_download/1026124752\n",
      "http://api.brain-map.org//api/v2/well_known_file_download/1026124756\n",
      "http://api.brain-map.org//api/v2/well_known_file_download/1026124750\n",
      "http://api.brain-map.org//api/v2/well_known_file_download/1026123849\n",
      "http://api.brain-map.org//api/v2/well_known_file_download/1026123857\n",
      "http://api.brain-map.org//api/v2/well_known_file_download/1026123853\n",
      "http://api.brain-map.org//api/v2/well_known_file_download/1026123851\n",
      "http://api.brain-map.org//api/v2/well_known_file_download/1026123859\n",
      "http://api.brain-map.org//api/v2/well_known_file_download/1026123855\n",
      "http://api.brain-map.org//api/v2/well_known_file_download/1026124653\n",
      "http://api.brain-map.org//api/v2/well_known_file_download/1026124651\n",
      "http://api.brain-map.org//api/v2/well_known_file_download/1026124657\n",
      "http://api.brain-map.org//api/v2/well_known_file_download/1026124647\n",
      "http://api.brain-map.org//api/v2/well_known_file_download/1026124649\n",
      "http://api.brain-map.org//api/v2/well_known_file_download/1026124655\n",
      "http://api.brain-map.org//api/v2/well_known_file_download/1026124553\n",
      "http://api.brain-map.org//api/v2/well_known_file_download/1026124551\n",
      "http://api.brain-map.org//api/v2/well_known_file_download/1026124549\n",
      "http://api.brain-map.org//api/v2/well_known_file_download/1026124547\n",
      "http://api.brain-map.org//api/v2/well_known_file_download/1026124555\n",
      "http://api.brain-map.org//api/v2/well_known_file_download/1026124557\n",
      "http://api.brain-map.org//api/v2/well_known_file_download/1026125023\n",
      "http://api.brain-map.org//api/v2/well_known_file_download/1026125027\n",
      "http://api.brain-map.org//api/v2/well_known_file_download/1026125025\n",
      "http://api.brain-map.org//api/v2/well_known_file_download/1026125029\n",
      "http://api.brain-map.org//api/v2/well_known_file_download/1026125031\n",
      "http://api.brain-map.org//api/v2/well_known_file_download/1026125034\n",
      "http://api.brain-map.org//api/v2/well_known_file_download/1026124814\n",
      "http://api.brain-map.org//api/v2/well_known_file_download/1026124808\n",
      "http://api.brain-map.org//api/v2/well_known_file_download/1026124811\n",
      "http://api.brain-map.org//api/v2/well_known_file_download/1026124816\n",
      "http://api.brain-map.org//api/v2/well_known_file_download/1026124820\n",
      "http://api.brain-map.org//api/v2/well_known_file_download/1026124818\n",
      "http://api.brain-map.org//api/v2/well_known_file_download/1026123659\n",
      "http://api.brain-map.org//api/v2/well_known_file_download/1026123657\n",
      "http://api.brain-map.org//api/v2/well_known_file_download/1026123653\n",
      "http://api.brain-map.org//api/v2/well_known_file_download/1026123655\n",
      "http://api.brain-map.org//api/v2/well_known_file_download/1026123661\n",
      "http://api.brain-map.org//api/v2/well_known_file_download/1026124481\n",
      "http://api.brain-map.org//api/v2/well_known_file_download/1026124479\n",
      "http://api.brain-map.org//api/v2/well_known_file_download/1026124471\n",
      "http://api.brain-map.org//api/v2/well_known_file_download/1026124473\n",
      "http://api.brain-map.org//api/v2/well_known_file_download/1026124475\n",
      "http://api.brain-map.org//api/v2/well_known_file_download/1026124477\n",
      "http://api.brain-map.org//api/v2/well_known_file_download/1026124761\n",
      "http://api.brain-map.org//api/v2/well_known_file_download/1026124765\n",
      "http://api.brain-map.org//api/v2/well_known_file_download/1026124763\n",
      "http://api.brain-map.org//api/v2/well_known_file_download/1026124767\n",
      "http://api.brain-map.org//api/v2/well_known_file_download/1026124769\n",
      "http://api.brain-map.org//api/v2/well_known_file_download/1026124771\n",
      "http://api.brain-map.org//api/v2/well_known_file_download/1026124097\n",
      "http://api.brain-map.org//api/v2/well_known_file_download/1026124095\n",
      "http://api.brain-map.org//api/v2/well_known_file_download/1026124093\n",
      "http://api.brain-map.org//api/v2/well_known_file_download/1026124088\n",
      "http://api.brain-map.org//api/v2/well_known_file_download/1026124091\n",
      "http://api.brain-map.org//api/v2/well_known_file_download/1026123830\n",
      "http://api.brain-map.org//api/v2/well_known_file_download/1026123828\n",
      "http://api.brain-map.org//api/v2/well_known_file_download/1026123834\n",
      "http://api.brain-map.org//api/v2/well_known_file_download/1026123832\n",
      "http://api.brain-map.org//api/v2/well_known_file_download/1026123826\n",
      "http://api.brain-map.org//api/v2/well_known_file_download/1026123635\n",
      "http://api.brain-map.org//api/v2/well_known_file_download/1026123631\n",
      "http://api.brain-map.org//api/v2/well_known_file_download/1026123629\n",
      "http://api.brain-map.org//api/v2/well_known_file_download/1026123633\n",
      "http://api.brain-map.org//api/v2/well_known_file_download/1026123627\n",
      "http://api.brain-map.org//api/v2/well_known_file_download/1026123791\n",
      "http://api.brain-map.org//api/v2/well_known_file_download/1026123793\n",
      "http://api.brain-map.org//api/v2/well_known_file_download/1026123795\n",
      "http://api.brain-map.org//api/v2/well_known_file_download/1026123789\n",
      "http://api.brain-map.org//api/v2/well_known_file_download/1026123797\n",
      "file for probe 832810584 not found\n",
      "http://api.brain-map.org//api/v2/well_known_file_download/1026124842\n",
      "http://api.brain-map.org//api/v2/well_known_file_download/1026124846\n",
      "http://api.brain-map.org//api/v2/well_known_file_download/1026124844\n",
      "http://api.brain-map.org//api/v2/well_known_file_download/1026124848\n",
      "http://api.brain-map.org//api/v2/well_known_file_download/1026124850\n",
      "http://api.brain-map.org//api/v2/well_known_file_download/1026124374\n",
      "http://api.brain-map.org//api/v2/well_known_file_download/1026124370\n",
      "http://api.brain-map.org//api/v2/well_known_file_download/1026124378\n",
      "http://api.brain-map.org//api/v2/well_known_file_download/1026124376\n",
      "http://api.brain-map.org//api/v2/well_known_file_download/1026124372\n",
      "http://api.brain-map.org//api/v2/well_known_file_download/1026123521\n",
      "http://api.brain-map.org//api/v2/well_known_file_download/1026123524\n",
      "http://api.brain-map.org//api/v2/well_known_file_download/1026123526\n",
      "http://api.brain-map.org//api/v2/well_known_file_download/1026123528\n",
      "http://api.brain-map.org//api/v2/well_known_file_download/1026123530\n",
      "http://api.brain-map.org//api/v2/well_known_file_download/1026124428\n",
      "http://api.brain-map.org//api/v2/well_known_file_download/1026124431\n",
      "http://api.brain-map.org//api/v2/well_known_file_download/1026124426\n",
      "http://api.brain-map.org//api/v2/well_known_file_download/1026124424\n",
      "http://api.brain-map.org//api/v2/well_known_file_download/1026124437\n",
      "http://api.brain-map.org//api/v2/well_known_file_download/1026124443\n",
      "http://api.brain-map.org//api/v2/well_known_file_download/1026123729\n",
      "http://api.brain-map.org//api/v2/well_known_file_download/1026123733\n",
      "http://api.brain-map.org//api/v2/well_known_file_download/1026123731\n",
      "http://api.brain-map.org//api/v2/well_known_file_download/1026123727\n",
      "http://api.brain-map.org//api/v2/well_known_file_download/1026123738\n",
      "http://api.brain-map.org//api/v2/well_known_file_download/1026123735\n",
      "file for probe 846401828 not found\n",
      "file for probe 846401830 not found\n",
      "file for probe 846401834 not found\n",
      "file for probe 846401838 not found\n",
      "file for probe 846401841 not found\n",
      "http://api.brain-map.org//api/v2/well_known_file_download/1026123956\n",
      "http://api.brain-map.org//api/v2/well_known_file_download/1026123951\n",
      "http://api.brain-map.org//api/v2/well_known_file_download/1026123953\n",
      "http://api.brain-map.org//api/v2/well_known_file_download/1026123949\n",
      "http://api.brain-map.org//api/v2/well_known_file_download/1026123945\n",
      "http://api.brain-map.org//api/v2/well_known_file_download/1026123947\n"
     ]
    }
   ],
   "source": [
    "def retrieve_lfp_link(probe_id):\n",
    "\n",
    "    well_known_files = build_and_execute(\n",
    "        (\n",
    "            \"criteria=model::WellKnownFile\"\n",
    "            \",rma::criteria,well_known_file_type[name$eq'EcephysLfpNwb']\"\n",
    "            \"[attachable_type$eq'EcephysProbe']\"\n",
    "            r\"[attachable_id$eq{{probe_id}}]\"\n",
    "        ),\n",
    "        engine=rma_engine.get_rma_tabular, \n",
    "        probe_id=probe_id\n",
    "    )\n",
    "\n",
    "    if well_known_files.shape[0] != 1:\n",
    "        return 'file for probe ' + str(probe_id) + ' not found'\n",
    "        \n",
    "    return 'http://api.brain-map.org/' + well_known_files.loc[0, \"download_link\"]\n",
    "\n",
    "probes = cache.get_probes()\n",
    "\n",
    "download_links = [retrieve_lfp_link(probe_id) for probe_id in probes.index.values]\n",
    "\n",
    "_ = [print(link) for link in download_links]"
   ]
  }
 ],
 "metadata": {
  "celltoolbar": "Tags",
  "kernelspec": {
   "display_name": "allensdk",
   "language": "python",
   "name": "allensdk"
  },
  "language_info": {
   "codemirror_mode": {
    "name": "ipython",
    "version": 3
   },
   "file_extension": ".py",
   "mimetype": "text/x-python",
   "name": "python",
   "nbconvert_exporter": "python",
   "pygments_lexer": "ipython3",
   "version": "3.9.19"
  },
  "papermill": {
   "default_parameters": {},
   "duration": 885.213977,
   "end_time": "2023-11-30T06:38:07.391317",
   "environment_variables": {},
   "exception": null,
   "input_path": "doc_template/examples_root/examples/nb/ecephys_data_access.ipynb",
   "output_path": "/tmp/tmpja7ncvq6/scratch_nb.ipynb",
   "parameters": {
    "DOWNLOAD_COMPLETE_DATASET": false,
    "output_dir": "/tmp/tmpja7ncvq6",
    "resources_dir": "/home/runner/work/AllenSDK/AllenSDK/allensdk/internal/notebooks/resources"
   },
   "start_time": "2023-11-30T06:23:22.177340",
   "version": "2.4.0"
  }
 },
 "nbformat": 4,
 "nbformat_minor": 5
}
